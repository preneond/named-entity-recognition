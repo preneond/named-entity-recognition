{
 "cells": [
  {
   "metadata": {},
   "cell_type": "markdown",
   "source": "# NER Test Case",
   "id": "df9d68a9f0db783b"
  },
  {
   "metadata": {
    "ExecuteTime": {
     "end_time": "2024-09-16T20:07:03.668740Z",
     "start_time": "2024-09-16T20:07:03.634344Z"
    }
   },
   "cell_type": "code",
   "source": [
    "import pandas as pd\n",
    "\n",
    "data_path = \"../static/ds_ner_test_case.csv\"\n",
    "df = pd.read_csv(data_path)\n",
    "\n",
    "df.head()"
   ],
   "id": "initial_id",
   "outputs": [
    {
     "data": {
      "text/plain": [
       "                                         description  \\\n",
       "0  Das G56JR steckt voller Komponenten, deren Per...   \n",
       "1  Das IdeaPad Yoga 13 ist eines der ersten Ultra...   \n",
       "2  Das Lenovo Flex2-15 ist ein schlankes und leic...   \n",
       "3  Das Lenovo Flex2-15 ist ein schlankes und leic...   \n",
       "4  Das IdeaPad Yoga 13 ist eines der ersten Ultra...   \n",
       "\n",
       "                                          highlights  \\\n",
       "0   <b> Intel Core i7-4700HQ der vierten Generati...   \n",
       "1   <b> Ultrabook mit klappbarem Multitouch-Displ...   \n",
       "2   <b> 15,6\"-«Dual-Mode»-Notebook, schwarz</b> <...   \n",
       "3   <b> Erschwingliches 15,6\"-Dual-Mode-Notebook,...   \n",
       "4   <b> Ultrabook mit klappbarem Multitouch-Displ...   \n",
       "\n",
       "                             headline   Brand Speicherkapazität    Farbe  \\\n",
       "0                  ASUS G56JR-CN169H     Asus               NaN  Schwarz   \n",
       "1  LENOVO IdeaPad Yoga2 Pro 13 Orange  Lenovo               NaN   Orange   \n",
       "2     LENOVO IdeaPad Flex2-15 schwarz  Lenovo               NaN  Schwarz   \n",
       "3     LENOVO IdeaPad Flex2-15 schwarz  Lenovo               NaN  Schwarz   \n",
       "4  LENOVO IdeaPad Yoga2 Pro 13 Orange  Lenovo               NaN   Orange   \n",
       "\n",
       "   productId  \n",
       "0       52.0  \n",
       "1       87.0  \n",
       "2      100.0  \n",
       "3      101.0  \n",
       "4      107.0  "
      ],
      "text/html": [
       "<div>\n",
       "<style scoped>\n",
       "    .dataframe tbody tr th:only-of-type {\n",
       "        vertical-align: middle;\n",
       "    }\n",
       "\n",
       "    .dataframe tbody tr th {\n",
       "        vertical-align: top;\n",
       "    }\n",
       "\n",
       "    .dataframe thead th {\n",
       "        text-align: right;\n",
       "    }\n",
       "</style>\n",
       "<table border=\"1\" class=\"dataframe\">\n",
       "  <thead>\n",
       "    <tr style=\"text-align: right;\">\n",
       "      <th></th>\n",
       "      <th>description</th>\n",
       "      <th>highlights</th>\n",
       "      <th>headline</th>\n",
       "      <th>Brand</th>\n",
       "      <th>Speicherkapazität</th>\n",
       "      <th>Farbe</th>\n",
       "      <th>productId</th>\n",
       "    </tr>\n",
       "  </thead>\n",
       "  <tbody>\n",
       "    <tr>\n",
       "      <th>0</th>\n",
       "      <td>Das G56JR steckt voller Komponenten, deren Per...</td>\n",
       "      <td>&lt;b&gt; Intel Core i7-4700HQ der vierten Generati...</td>\n",
       "      <td>ASUS G56JR-CN169H</td>\n",
       "      <td>Asus</td>\n",
       "      <td>NaN</td>\n",
       "      <td>Schwarz</td>\n",
       "      <td>52.0</td>\n",
       "    </tr>\n",
       "    <tr>\n",
       "      <th>1</th>\n",
       "      <td>Das IdeaPad Yoga 13 ist eines der ersten Ultra...</td>\n",
       "      <td>&lt;b&gt; Ultrabook mit klappbarem Multitouch-Displ...</td>\n",
       "      <td>LENOVO IdeaPad Yoga2 Pro 13 Orange</td>\n",
       "      <td>Lenovo</td>\n",
       "      <td>NaN</td>\n",
       "      <td>Orange</td>\n",
       "      <td>87.0</td>\n",
       "    </tr>\n",
       "    <tr>\n",
       "      <th>2</th>\n",
       "      <td>Das Lenovo Flex2-15 ist ein schlankes und leic...</td>\n",
       "      <td>&lt;b&gt; 15,6\"-«Dual-Mode»-Notebook, schwarz&lt;/b&gt; &lt;...</td>\n",
       "      <td>LENOVO IdeaPad Flex2-15 schwarz</td>\n",
       "      <td>Lenovo</td>\n",
       "      <td>NaN</td>\n",
       "      <td>Schwarz</td>\n",
       "      <td>100.0</td>\n",
       "    </tr>\n",
       "    <tr>\n",
       "      <th>3</th>\n",
       "      <td>Das Lenovo Flex2-15 ist ein schlankes und leic...</td>\n",
       "      <td>&lt;b&gt; Erschwingliches 15,6\"-Dual-Mode-Notebook,...</td>\n",
       "      <td>LENOVO IdeaPad Flex2-15 schwarz</td>\n",
       "      <td>Lenovo</td>\n",
       "      <td>NaN</td>\n",
       "      <td>Schwarz</td>\n",
       "      <td>101.0</td>\n",
       "    </tr>\n",
       "    <tr>\n",
       "      <th>4</th>\n",
       "      <td>Das IdeaPad Yoga 13 ist eines der ersten Ultra...</td>\n",
       "      <td>&lt;b&gt; Ultrabook mit klappbarem Multitouch-Displ...</td>\n",
       "      <td>LENOVO IdeaPad Yoga2 Pro 13 Orange</td>\n",
       "      <td>Lenovo</td>\n",
       "      <td>NaN</td>\n",
       "      <td>Orange</td>\n",
       "      <td>107.0</td>\n",
       "    </tr>\n",
       "  </tbody>\n",
       "</table>\n",
       "</div>"
      ]
     },
     "execution_count": 9,
     "metadata": {},
     "output_type": "execute_result"
    }
   ],
   "execution_count": 9
  },
  {
   "metadata": {
    "ExecuteTime": {
     "end_time": "2024-09-16T20:07:04.926676Z",
     "start_time": "2024-09-16T20:07:04.924010Z"
    }
   },
   "cell_type": "code",
   "source": [
    "brands = df[\"Brand\"].unique()\n",
    "colors = df[\"Farbe\"].unique()\n",
    "storage_capacities = df[\"Speicherkapazität\"].unique()\n",
    "\n",
    "print(f\"{brands=}\\n\\n{colors=}\\n\\n{storage_capacities=}\")"
   ],
   "id": "47d38acb9561ba8",
   "outputs": [
    {
     "name": "stdout",
     "output_type": "stream",
     "text": [
      "brands=array(['Asus', 'Lenovo', 'Acer', 'Toshiba', 'Sony', 'Western Digital',\n",
      "       'Trust', 'HP', 'Keysonic', 'Samsung', 'Hama', 'Buffalo', 'WD',\n",
      "       'HUAWEI', 'Alcatel', 'ChiliGreen', 'ednet', 'Verbatim', 'HN Power',\n",
      "       'Dell', 'LogiLink', 'CAT', 'Seagate', 'WIKO', 'Renkforce',\n",
      "       'Transcend', 'Hitachi', 'Nokia', 'CHERRY', 'Hyper', 'Cellularline',\n",
      "       'Perixx', 'YOTA', 'Microsoft', 'honor', 'Tylt', 'Genius',\n",
      "       'Motorola', 'Phicomm', 'Gembird', 'V7 Videoseven', 'Kensington',\n",
      "       'Intenso', 'Belkin', 'Cyrus', 'Vivanco', 'Medion', 'Leitz',\n",
      "       'Huawei', 'Logitech', 'Kyocera', 'Odys', 'MadCatz', 'Rapoo',\n",
      "       'VPRO', 'ZTE', 'VOLTCRAFT', 'Apple', 'Dynabook', 'Skross',\n",
      "       'Manhattan', 'SpeedLink', 'Elgato', 'G-Technology', 'Digittrade',\n",
      "       'SanDisk', 'NZXT', 'Silverstone', 'Digitus', 'Zowie',\n",
      "       'Sound BlasterX', 'Archos', '3Dconnexion', 'Sharkoon', 'spiffy',\n",
      "       'Geemarc', 'MayaMax', 'Matias', 'TrekStor®', 'Crucial', 'Vakoss',\n",
      "       'Corsair', 'Omega', 'Lian Li', 'LaCie', 'Raspberry Pi®',\n",
      "       'Pro Mate', 'Hyundai', 'Crosscall', 'club3D', 'Contour Design'],\n",
      "      dtype=object)\n",
      "\n",
      "colors=array(['Schwarz', 'Orange', 'Silber', 'Pink', 'Gold', 'Weiß', nan, 'Blau',\n",
      "       'Rot', 'Gelb', 'Grün', 'Grau', 'braun', 'Lila', 'grau', 'Türkis',\n",
      "       'Koralle', 'Braun', 'blau', 'rot', 'schwarz', 'Silber/Weiß', 'Red',\n",
      "       'orange', 'weiß', 'Silber-Grau', 'Blue', 'Wildkirsche',\n",
      "       'Anthrazit', 'Schwarz-Neongelb', 'gold', 'Rauchgrau',\n",
      "       'Silber-Schwarz', 'grün', 'Aluminium', 'Graphite', 'Ruby', 'RGB',\n",
      "       'Hellblau', 'Weiß-Rot', 'Violett', 'Dunkelblau'], dtype=object)\n",
      "\n",
      "storage_capacities=array([nan, '1 TB', '2 TB', '3 TB', '4 TB', '750 GB', '512 GB', '4 GB',\n",
      "       '8 GB', '500 GB', '120 GB', '250 GB', '5 TB', '16 GB', '6 TB',\n",
      "       '240 GB', '480 GB', '960 GB', '8 TB', '32 GB', '64 GB', '128 GB',\n",
      "       '256 GB', '10 TB', '12 TB', '16 TB', '20 TB', '24 TB', '7.68 TB',\n",
      "       '3.84 TB', '1.92 TB', '96 TB', '72 TB', '64 TB', '32 TB', '36 TB',\n",
      "       '48 TB', '80 TB', '14 TB', '64'], dtype=object)\n"
     ]
    }
   ],
   "execution_count": 10
  },
  {
   "metadata": {},
   "cell_type": "markdown",
   "source": "## Data Preprocessing",
   "id": "1c62582fec934804"
  },
  {
   "metadata": {
    "ExecuteTime": {
     "end_time": "2024-09-16T20:50:47.077334Z",
     "start_time": "2024-09-16T20:50:46.815686Z"
    }
   },
   "cell_type": "code",
   "source": [
    "train_data = []\n",
    "for index, row in df.iterrows():\n",
    "    description = row['title']\n",
    "    brand = row['Brand']\n",
    "    storage = row['Speicherkapazität']\n",
    "    color = row['Farbe']\n",
    "\n",
    "    entities = []\n",
    "\n",
    "    # Add brand if present in description\n",
    "    if pd.notna(brand) and brand.lower() in description.lower():\n",
    "        start_idx = description.lower().index(brand.lower())\n",
    "        end_idx = start_idx + len(brand)\n",
    "        entities.append((start_idx, end_idx, \"Brand\"))\n",
    "    \n",
    "    # Add storage if present in description\n",
    "    if pd.notna(storage) and str(storage) in description:\n",
    "        start_idx = description.index(str(storage))\n",
    "        end_idx = start_idx + len(str(storage))\n",
    "        entities.append((start_idx, end_idx, \"Storage\"))\n",
    "    \n",
    "    # Add color if present in description\n",
    "    if pd.notna(color) and color.lower() in description.lower():\n",
    "        start_idx = description.lower().index(color.lower())\n",
    "        end_idx = start_idx + len(color)\n",
    "        entities.append((start_idx, end_idx, \"Color\"))\n",
    "    \n",
    "    if entities:\n",
    "        train_data.append((description, {\"entities\": entities}))"
   ],
   "id": "9c30c1aba504d5aa",
   "outputs": [
    {
     "ename": "KeyError",
     "evalue": "'title'",
     "output_type": "error",
     "traceback": [
      "\u001B[0;31m---------------------------------------------------------------------------\u001B[0m",
      "\u001B[0;31mKeyError\u001B[0m                                  Traceback (most recent call last)",
      "File \u001B[0;32m~/Library/Caches/pypoetry/virtualenvs/named-entity-recognition-XgAZTi1c-py3.11/lib/python3.11/site-packages/pandas/core/indexes/base.py:3805\u001B[0m, in \u001B[0;36mIndex.get_loc\u001B[0;34m(self, key)\u001B[0m\n\u001B[1;32m   3804\u001B[0m \u001B[38;5;28;01mtry\u001B[39;00m:\n\u001B[0;32m-> 3805\u001B[0m     \u001B[38;5;28;01mreturn\u001B[39;00m \u001B[38;5;28;43mself\u001B[39;49m\u001B[38;5;241;43m.\u001B[39;49m\u001B[43m_engine\u001B[49m\u001B[38;5;241;43m.\u001B[39;49m\u001B[43mget_loc\u001B[49m\u001B[43m(\u001B[49m\u001B[43mcasted_key\u001B[49m\u001B[43m)\u001B[49m\n\u001B[1;32m   3806\u001B[0m \u001B[38;5;28;01mexcept\u001B[39;00m \u001B[38;5;167;01mKeyError\u001B[39;00m \u001B[38;5;28;01mas\u001B[39;00m err:\n",
      "File \u001B[0;32mindex.pyx:167\u001B[0m, in \u001B[0;36mpandas._libs.index.IndexEngine.get_loc\u001B[0;34m()\u001B[0m\n",
      "File \u001B[0;32mindex.pyx:196\u001B[0m, in \u001B[0;36mpandas._libs.index.IndexEngine.get_loc\u001B[0;34m()\u001B[0m\n",
      "File \u001B[0;32mpandas/_libs/hashtable_class_helper.pxi:7081\u001B[0m, in \u001B[0;36mpandas._libs.hashtable.PyObjectHashTable.get_item\u001B[0;34m()\u001B[0m\n",
      "File \u001B[0;32mpandas/_libs/hashtable_class_helper.pxi:7089\u001B[0m, in \u001B[0;36mpandas._libs.hashtable.PyObjectHashTable.get_item\u001B[0;34m()\u001B[0m\n",
      "\u001B[0;31mKeyError\u001B[0m: 'title'",
      "\nThe above exception was the direct cause of the following exception:\n",
      "\u001B[0;31mKeyError\u001B[0m                                  Traceback (most recent call last)",
      "Cell \u001B[0;32mIn[15], line 3\u001B[0m\n\u001B[1;32m      1\u001B[0m train_data \u001B[38;5;241m=\u001B[39m []\n\u001B[1;32m      2\u001B[0m \u001B[38;5;28;01mfor\u001B[39;00m index, row \u001B[38;5;129;01min\u001B[39;00m df\u001B[38;5;241m.\u001B[39miterrows():\n\u001B[0;32m----> 3\u001B[0m     description \u001B[38;5;241m=\u001B[39m \u001B[43mrow\u001B[49m\u001B[43m[\u001B[49m\u001B[38;5;124;43m'\u001B[39;49m\u001B[38;5;124;43mtitle\u001B[39;49m\u001B[38;5;124;43m'\u001B[39;49m\u001B[43m]\u001B[49m\n\u001B[1;32m      4\u001B[0m     brand \u001B[38;5;241m=\u001B[39m row[\u001B[38;5;124m'\u001B[39m\u001B[38;5;124mBrand\u001B[39m\u001B[38;5;124m'\u001B[39m]\n\u001B[1;32m      5\u001B[0m     storage \u001B[38;5;241m=\u001B[39m row[\u001B[38;5;124m'\u001B[39m\u001B[38;5;124mSpeicherkapazität\u001B[39m\u001B[38;5;124m'\u001B[39m]\n",
      "File \u001B[0;32m~/Library/Caches/pypoetry/virtualenvs/named-entity-recognition-XgAZTi1c-py3.11/lib/python3.11/site-packages/pandas/core/series.py:1121\u001B[0m, in \u001B[0;36mSeries.__getitem__\u001B[0;34m(self, key)\u001B[0m\n\u001B[1;32m   1118\u001B[0m     \u001B[38;5;28;01mreturn\u001B[39;00m \u001B[38;5;28mself\u001B[39m\u001B[38;5;241m.\u001B[39m_values[key]\n\u001B[1;32m   1120\u001B[0m \u001B[38;5;28;01melif\u001B[39;00m key_is_scalar:\n\u001B[0;32m-> 1121\u001B[0m     \u001B[38;5;28;01mreturn\u001B[39;00m \u001B[38;5;28;43mself\u001B[39;49m\u001B[38;5;241;43m.\u001B[39;49m\u001B[43m_get_value\u001B[49m\u001B[43m(\u001B[49m\u001B[43mkey\u001B[49m\u001B[43m)\u001B[49m\n\u001B[1;32m   1123\u001B[0m \u001B[38;5;66;03m# Convert generator to list before going through hashable part\u001B[39;00m\n\u001B[1;32m   1124\u001B[0m \u001B[38;5;66;03m# (We will iterate through the generator there to check for slices)\u001B[39;00m\n\u001B[1;32m   1125\u001B[0m \u001B[38;5;28;01mif\u001B[39;00m is_iterator(key):\n",
      "File \u001B[0;32m~/Library/Caches/pypoetry/virtualenvs/named-entity-recognition-XgAZTi1c-py3.11/lib/python3.11/site-packages/pandas/core/series.py:1237\u001B[0m, in \u001B[0;36mSeries._get_value\u001B[0;34m(self, label, takeable)\u001B[0m\n\u001B[1;32m   1234\u001B[0m     \u001B[38;5;28;01mreturn\u001B[39;00m \u001B[38;5;28mself\u001B[39m\u001B[38;5;241m.\u001B[39m_values[label]\n\u001B[1;32m   1236\u001B[0m \u001B[38;5;66;03m# Similar to Index.get_value, but we do not fall back to positional\u001B[39;00m\n\u001B[0;32m-> 1237\u001B[0m loc \u001B[38;5;241m=\u001B[39m \u001B[38;5;28;43mself\u001B[39;49m\u001B[38;5;241;43m.\u001B[39;49m\u001B[43mindex\u001B[49m\u001B[38;5;241;43m.\u001B[39;49m\u001B[43mget_loc\u001B[49m\u001B[43m(\u001B[49m\u001B[43mlabel\u001B[49m\u001B[43m)\u001B[49m\n\u001B[1;32m   1239\u001B[0m \u001B[38;5;28;01mif\u001B[39;00m is_integer(loc):\n\u001B[1;32m   1240\u001B[0m     \u001B[38;5;28;01mreturn\u001B[39;00m \u001B[38;5;28mself\u001B[39m\u001B[38;5;241m.\u001B[39m_values[loc]\n",
      "File \u001B[0;32m~/Library/Caches/pypoetry/virtualenvs/named-entity-recognition-XgAZTi1c-py3.11/lib/python3.11/site-packages/pandas/core/indexes/base.py:3812\u001B[0m, in \u001B[0;36mIndex.get_loc\u001B[0;34m(self, key)\u001B[0m\n\u001B[1;32m   3807\u001B[0m     \u001B[38;5;28;01mif\u001B[39;00m \u001B[38;5;28misinstance\u001B[39m(casted_key, \u001B[38;5;28mslice\u001B[39m) \u001B[38;5;129;01mor\u001B[39;00m (\n\u001B[1;32m   3808\u001B[0m         \u001B[38;5;28misinstance\u001B[39m(casted_key, abc\u001B[38;5;241m.\u001B[39mIterable)\n\u001B[1;32m   3809\u001B[0m         \u001B[38;5;129;01mand\u001B[39;00m \u001B[38;5;28many\u001B[39m(\u001B[38;5;28misinstance\u001B[39m(x, \u001B[38;5;28mslice\u001B[39m) \u001B[38;5;28;01mfor\u001B[39;00m x \u001B[38;5;129;01min\u001B[39;00m casted_key)\n\u001B[1;32m   3810\u001B[0m     ):\n\u001B[1;32m   3811\u001B[0m         \u001B[38;5;28;01mraise\u001B[39;00m InvalidIndexError(key)\n\u001B[0;32m-> 3812\u001B[0m     \u001B[38;5;28;01mraise\u001B[39;00m \u001B[38;5;167;01mKeyError\u001B[39;00m(key) \u001B[38;5;28;01mfrom\u001B[39;00m \u001B[38;5;21;01merr\u001B[39;00m\n\u001B[1;32m   3813\u001B[0m \u001B[38;5;28;01mexcept\u001B[39;00m \u001B[38;5;167;01mTypeError\u001B[39;00m:\n\u001B[1;32m   3814\u001B[0m     \u001B[38;5;66;03m# If we have a listlike key, _check_indexing_error will raise\u001B[39;00m\n\u001B[1;32m   3815\u001B[0m     \u001B[38;5;66;03m#  InvalidIndexError. Otherwise we fall through and re-raise\u001B[39;00m\n\u001B[1;32m   3816\u001B[0m     \u001B[38;5;66;03m#  the TypeError.\u001B[39;00m\n\u001B[1;32m   3817\u001B[0m     \u001B[38;5;28mself\u001B[39m\u001B[38;5;241m.\u001B[39m_check_indexing_error(key)\n",
      "\u001B[0;31mKeyError\u001B[0m: 'title'"
     ]
    }
   ],
   "execution_count": 15
  },
  {
   "metadata": {
    "ExecuteTime": {
     "end_time": "2024-09-16T20:07:10.477312Z",
     "start_time": "2024-09-16T20:07:09.172617Z"
    }
   },
   "cell_type": "code",
   "source": [
    "# Fix train data\n",
    "import spacy\n",
    "from spacy.training import offsets_to_biluo_tags\n",
    "# Load a blank German model\n",
    "nlp = spacy.blank(\"de\")\n",
    "\n",
    "train_data_fixed = []\n",
    "# fix the train data\n",
    "for text, annotations in train_data:\n",
    "        doc = nlp.make_doc(text)\n",
    "        entities = annotations.get(\"entities\")\n",
    "        try:\n",
    "            tags = offsets_to_biluo_tags(doc, entities)\n",
    "            if '-' not in tags:\n",
    "                train_data_fixed.append((text, annotations))\n",
    "        except ValueError:\n",
    "                # In case there's a problem converting to BILUO tags\n",
    "                print(f\"Skipping misaligned example: {text}\")"
   ],
   "id": "64fa9522d3e471b1",
   "outputs": [
    {
     "name": "stderr",
     "output_type": "stream",
     "text": [
      "/Users/preneond/Library/Caches/pypoetry/virtualenvs/named-entity-recognition-XgAZTi1c-py3.11/lib/python3.11/site-packages/spacy/training/iob_utils.py:149: UserWarning: [W030] Some entities could not be aligned in the text \"Das G56JR steckt voller Komponenten, deren Perform...\" with entities \"[(547, 554, 'Color')]\". Use `spacy.training.offsets_to_biluo_tags(nlp.make_doc(text), entities)` to check the alignment. Misaligned entities ('-') will be ignored during training.\n",
      "  warnings.warn(\n",
      "/Users/preneond/Library/Caches/pypoetry/virtualenvs/named-entity-recognition-XgAZTi1c-py3.11/lib/python3.11/site-packages/spacy/training/iob_utils.py:149: UserWarning: [W030] Some entities could not be aligned in the text \"Das IdeaPad Yoga 13 ist eines der ersten Ultrabook...\" with entities \"[(245, 251, 'Brand'), (339, 345, 'Color')]\". Use `spacy.training.offsets_to_biluo_tags(nlp.make_doc(text), entities)` to check the alignment. Misaligned entities ('-') will be ignored during training.\n",
      "  warnings.warn(\n",
      "/Users/preneond/Library/Caches/pypoetry/virtualenvs/named-entity-recognition-XgAZTi1c-py3.11/lib/python3.11/site-packages/spacy/training/iob_utils.py:149: UserWarning: [W030] Some entities could not be aligned in the text \"Das IdeaPad Yoga2 Pro ist eines der ersten Ultrabo...\" with entities \"[(247, 253, 'Brand'), (341, 347, 'Color')]\". Use `spacy.training.offsets_to_biluo_tags(nlp.make_doc(text), entities)` to check the alignment. Misaligned entities ('-') will be ignored during training.\n",
      "  warnings.warn(\n",
      "/Users/preneond/Library/Caches/pypoetry/virtualenvs/named-entity-recognition-XgAZTi1c-py3.11/lib/python3.11/site-packages/spacy/training/iob_utils.py:149: UserWarning: [W030] Some entities could not be aligned in the text \"Das IdeaPad Yoga2 13 ist eines der ersten Ultraboo...\" with entities \"[(246, 252, 'Brand'), (340, 346, 'Color')]\". Use `spacy.training.offsets_to_biluo_tags(nlp.make_doc(text), entities)` to check the alignment. Misaligned entities ('-') will be ignored during training.\n",
      "  warnings.warn(\n",
      "/Users/preneond/Library/Caches/pypoetry/virtualenvs/named-entity-recognition-XgAZTi1c-py3.11/lib/python3.11/site-packages/spacy/training/iob_utils.py:149: UserWarning: [W030] Some entities could not be aligned in the text \"Das Yoga2 13 ist eines der ersten Ultrabooks mit m...\" with entities \"[(238, 244, 'Brand'), (332, 338, 'Color')]\". Use `spacy.training.offsets_to_biluo_tags(nlp.make_doc(text), entities)` to check the alignment. Misaligned entities ('-') will be ignored during training.\n",
      "  warnings.warn(\n",
      "/Users/preneond/Library/Caches/pypoetry/virtualenvs/named-entity-recognition-XgAZTi1c-py3.11/lib/python3.11/site-packages/spacy/training/iob_utils.py:149: UserWarning: [W030] Some entities could not be aligned in the text \"Das Toshiba Satellite Pro C70 ist ein leistungssta...\" with entities \"[(4, 11, 'Brand'), (948, 955, 'Color')]\". Use `spacy.training.offsets_to_biluo_tags(nlp.make_doc(text), entities)` to check the alignment. Misaligned entities ('-') will be ignored during training.\n",
      "  warnings.warn(\n",
      "/Users/preneond/Library/Caches/pypoetry/virtualenvs/named-entity-recognition-XgAZTi1c-py3.11/lib/python3.11/site-packages/spacy/training/iob_utils.py:149: UserWarning: [W030] Some entities could not be aligned in the text \"Das Toshiba Satellite Pro C70 ist ein zuverlässige...\" with entities \"[(4, 11, 'Brand'), (1586, 1593, 'Color')]\". Use `spacy.training.offsets_to_biluo_tags(nlp.make_doc(text), entities)` to check the alignment. Misaligned entities ('-') will be ignored during training.\n",
      "  warnings.warn(\n",
      "/Users/preneond/Library/Caches/pypoetry/virtualenvs/named-entity-recognition-XgAZTi1c-py3.11/lib/python3.11/site-packages/spacy/training/iob_utils.py:149: UserWarning: [W030] Some entities could not be aligned in the text \"Das Toshiba Satellite Pro C70 ist ein leistungssta...\" with entities \"[(4, 11, 'Brand'), (1595, 1602, 'Color')]\". Use `spacy.training.offsets_to_biluo_tags(nlp.make_doc(text), entities)` to check the alignment. Misaligned entities ('-') will be ignored during training.\n",
      "  warnings.warn(\n",
      "/Users/preneond/Library/Caches/pypoetry/virtualenvs/named-entity-recognition-XgAZTi1c-py3.11/lib/python3.11/site-packages/spacy/training/iob_utils.py:149: UserWarning: [W030] Some entities could not be aligned in the text \"Das Toshiba Satellite Pro C50 ist ein zuverlässige...\" with entities \"[(4, 11, 'Brand'), (790, 797, 'Color')]\". Use `spacy.training.offsets_to_biluo_tags(nlp.make_doc(text), entities)` to check the alignment. Misaligned entities ('-') will be ignored during training.\n",
      "  warnings.warn(\n",
      "/Users/preneond/Library/Caches/pypoetry/virtualenvs/named-entity-recognition-XgAZTi1c-py3.11/lib/python3.11/site-packages/spacy/training/iob_utils.py:149: UserWarning: [W030] Some entities could not be aligned in the text \"Die ACK-3400U ist eine super-mini Tastatur im \"Wes...\" with entities \"[(112, 119, 'Color')]\". Use `spacy.training.offsets_to_biluo_tags(nlp.make_doc(text), entities)` to check the alignment. Misaligned entities ('-') will be ignored during training.\n",
      "  warnings.warn(\n",
      "/Users/preneond/Library/Caches/pypoetry/virtualenvs/named-entity-recognition-XgAZTi1c-py3.11/lib/python3.11/site-packages/spacy/training/iob_utils.py:149: UserWarning: [W030] Some entities could not be aligned in the text \" <b> Besonderheiten und Nutzen:</b> <br> • Satter ...\" with entities \"[(100, 104, 'Brand')]\". Use `spacy.training.offsets_to_biluo_tags(nlp.make_doc(text), entities)` to check the alignment. Misaligned entities ('-') will be ignored during training.\n",
      "  warnings.warn(\n",
      "/Users/preneond/Library/Caches/pypoetry/virtualenvs/named-entity-recognition-XgAZTi1c-py3.11/lib/python3.11/site-packages/spacy/training/iob_utils.py:149: UserWarning: [W030] Some entities could not be aligned in the text \" <b> Augenblicke, die wirklich zählen</b> <br> Wer...\" with entities \"[(2401, 2408, 'Color')]\". Use `spacy.training.offsets_to_biluo_tags(nlp.make_doc(text), entities)` to check the alignment. Misaligned entities ('-') will be ignored during training.\n",
      "  warnings.warn(\n",
      "/Users/preneond/Library/Caches/pypoetry/virtualenvs/named-entity-recognition-XgAZTi1c-py3.11/lib/python3.11/site-packages/spacy/training/iob_utils.py:149: UserWarning: [W030] Some entities could not be aligned in the text \"Genießen Sie die kabellose Freiheit der ednet Blue...\" with entities \"[(40, 45, 'Brand'), (454, 458, 'Color')]\". Use `spacy.training.offsets_to_biluo_tags(nlp.make_doc(text), entities)` to check the alignment. Misaligned entities ('-') will be ignored during training.\n",
      "  warnings.warn(\n",
      "/Users/preneond/Library/Caches/pypoetry/virtualenvs/named-entity-recognition-XgAZTi1c-py3.11/lib/python3.11/site-packages/spacy/training/iob_utils.py:149: UserWarning: [W030] Some entities could not be aligned in the text \" <b> Das Caterpillar unter den Smartphones </b> <b...\" with entities \"[(9, 12, 'Brand')]\". Use `spacy.training.offsets_to_biluo_tags(nlp.make_doc(text), entities)` to check the alignment. Misaligned entities ('-') will be ignored during training.\n",
      "  warnings.warn(\n",
      "/Users/preneond/Library/Caches/pypoetry/virtualenvs/named-entity-recognition-XgAZTi1c-py3.11/lib/python3.11/site-packages/spacy/training/iob_utils.py:149: UserWarning: [W030] Some entities could not be aligned in the text \" <b> Die Kraft sei mit mir</b> <br> Das HIGHWAY ka...\" with entities \"[(905, 910, 'Storage')]\". Use `spacy.training.offsets_to_biluo_tags(nlp.make_doc(text), entities)` to check the alignment. Misaligned entities ('-') will be ignored during training.\n",
      "  warnings.warn(\n",
      "/Users/preneond/Library/Caches/pypoetry/virtualenvs/named-entity-recognition-XgAZTi1c-py3.11/lib/python3.11/site-packages/spacy/training/iob_utils.py:149: UserWarning: [W030] Some entities could not be aligned in the text \" <b> Das stärkste Windows Phone</b> <br> Mit dem N...\" with entities \"[(49, 54, 'Brand'), (203, 207, 'Color')]\". Use `spacy.training.offsets_to_biluo_tags(nlp.make_doc(text), entities)` to check the alignment. Misaligned entities ('-') will be ignored during training.\n",
      "  warnings.warn(\n",
      "/Users/preneond/Library/Caches/pypoetry/virtualenvs/named-entity-recognition-XgAZTi1c-py3.11/lib/python3.11/site-packages/spacy/training/iob_utils.py:149: UserWarning: [W030] Some entities could not be aligned in the text \" <b> AMD FX Notebookprozessor:</b> <br>  <b> Perfo...\" with entities \"[(573, 577, 'Brand')]\". Use `spacy.training.offsets_to_biluo_tags(nlp.make_doc(text), entities)` to check the alignment. Misaligned entities ('-') will be ignored during training.\n",
      "  warnings.warn(\n",
      "/Users/preneond/Library/Caches/pypoetry/virtualenvs/named-entity-recognition-XgAZTi1c-py3.11/lib/python3.11/site-packages/spacy/training/iob_utils.py:149: UserWarning: [W030] Some entities could not be aligned in the text \"Das Mousepad ist sowohl für Anfänger als auch für ...\" with entities \"[(593, 598, 'Brand')]\". Use `spacy.training.offsets_to_biluo_tags(nlp.make_doc(text), entities)` to check the alignment. Misaligned entities ('-') will be ignored during training.\n",
      "  warnings.warn(\n",
      "/Users/preneond/Library/Caches/pypoetry/virtualenvs/named-entity-recognition-XgAZTi1c-py3.11/lib/python3.11/site-packages/spacy/training/iob_utils.py:149: UserWarning: [W030] Some entities could not be aligned in the text \" <b> Jeder Kunde der ab dem 01.03. ein YotaPhone k...\" with entities \"[(39, 43, 'Brand')]\". Use `spacy.training.offsets_to_biluo_tags(nlp.make_doc(text), entities)` to check the alignment. Misaligned entities ('-') will be ignored during training.\n",
      "  warnings.warn(\n",
      "/Users/preneond/Library/Caches/pypoetry/virtualenvs/named-entity-recognition-XgAZTi1c-py3.11/lib/python3.11/site-packages/spacy/training/iob_utils.py:149: UserWarning: [W030] Some entities could not be aligned in the text \"... ergonomische Maus optimiert für die Verwendung...\" with entities \"[(192, 195, 'Color')]\". Use `spacy.training.offsets_to_biluo_tags(nlp.make_doc(text), entities)` to check the alignment. Misaligned entities ('-') will be ignored during training.\n",
      "  warnings.warn(\n",
      "/Users/preneond/Library/Caches/pypoetry/virtualenvs/named-entity-recognition-XgAZTi1c-py3.11/lib/python3.11/site-packages/spacy/training/iob_utils.py:149: UserWarning: [W030] Some entities could not be aligned in the text \" <b> ÜBERSTEHT STÜRZE AUS BIS ZU 1,80 METER</b> <b...\" with entities \"[(601, 604, 'Brand')]\". Use `spacy.training.offsets_to_biluo_tags(nlp.make_doc(text), entities)` to check the alignment. Misaligned entities ('-') will be ignored during training.\n",
      "  warnings.warn(\n",
      "/Users/preneond/Library/Caches/pypoetry/virtualenvs/named-entity-recognition-XgAZTi1c-py3.11/lib/python3.11/site-packages/spacy/training/iob_utils.py:149: UserWarning: [W030] Some entities could not be aligned in the text \" <b> Steigern Sie die PC-Leistung </b> <br> Kombin...\" with entities \"[(1128, 1132, 'Storage')]\". Use `spacy.training.offsets_to_biluo_tags(nlp.make_doc(text), entities)` to check the alignment. Misaligned entities ('-') will be ignored during training.\n",
      "  warnings.warn(\n",
      "/Users/preneond/Library/Caches/pypoetry/virtualenvs/named-entity-recognition-XgAZTi1c-py3.11/lib/python3.11/site-packages/spacy/training/iob_utils.py:149: UserWarning: [W030] Some entities could not be aligned in the text \" <b> Verbinden. Kreativ sein.</b> <br> Die Bluetoo...\" with entities \"[(43, 47, 'Color')]\". Use `spacy.training.offsets_to_biluo_tags(nlp.make_doc(text), entities)` to check the alignment. Misaligned entities ('-') will be ignored during training.\n",
      "  warnings.warn(\n",
      "/Users/preneond/Library/Caches/pypoetry/virtualenvs/named-entity-recognition-XgAZTi1c-py3.11/lib/python3.11/site-packages/spacy/training/iob_utils.py:149: UserWarning: [W030] Some entities could not be aligned in the text \"Leben und zeigen Sie Ihren anspruchsvollen Stil mi...\" with entities \"[(75, 79, 'Brand'), (2639, 2644, 'Storage'), (101,...\". Use `spacy.training.offsets_to_biluo_tags(nlp.make_doc(text), entities)` to check the alignment. Misaligned entities ('-') will be ignored during training.\n",
      "  warnings.warn(\n",
      "/Users/preneond/Library/Caches/pypoetry/virtualenvs/named-entity-recognition-XgAZTi1c-py3.11/lib/python3.11/site-packages/spacy/training/iob_utils.py:149: UserWarning: [W030] Some entities could not be aligned in the text \" <b> Optimierte Office-Nutzung</b> <br> Auf dem Lu...\" with entities \"[(506, 515, 'Brand')]\". Use `spacy.training.offsets_to_biluo_tags(nlp.make_doc(text), entities)` to check the alignment. Misaligned entities ('-') will be ignored during training.\n",
      "  warnings.warn(\n",
      "/Users/preneond/Library/Caches/pypoetry/virtualenvs/named-entity-recognition-XgAZTi1c-py3.11/lib/python3.11/site-packages/spacy/training/iob_utils.py:149: UserWarning: [W030] Some entities could not be aligned in the text \" <b> Fotos wie ein Profi</b> <br> Die Dual-Kamera ...\" with entities \"[(54, 59, 'Brand'), (2356, 2360, 'Color')]\". Use `spacy.training.offsets_to_biluo_tags(nlp.make_doc(text), entities)` to check the alignment. Misaligned entities ('-') will be ignored during training.\n",
      "  warnings.warn(\n",
      "/Users/preneond/Library/Caches/pypoetry/virtualenvs/named-entity-recognition-XgAZTi1c-py3.11/lib/python3.11/site-packages/spacy/training/iob_utils.py:149: UserWarning: [W030] Some entities could not be aligned in the text \"Das Lenovo Yoga 500 eignet sich mit seinem i7-Proz...\" with entities \"[(4, 10, 'Brand'), (320, 327, 'Color')]\". Use `spacy.training.offsets_to_biluo_tags(nlp.make_doc(text), entities)` to check the alignment. Misaligned entities ('-') will be ignored during training.\n",
      "  warnings.warn(\n",
      "/Users/preneond/Library/Caches/pypoetry/virtualenvs/named-entity-recognition-XgAZTi1c-py3.11/lib/python3.11/site-packages/spacy/training/iob_utils.py:149: UserWarning: [W030] Some entities could not be aligned in the text \"Transcends pfeilschnelle SATA III SSD ist die neue...\" with entities \"[(0, 9, 'Brand')]\". Use `spacy.training.offsets_to_biluo_tags(nlp.make_doc(text), entities)` to check the alignment. Misaligned entities ('-') will be ignored during training.\n",
      "  warnings.warn(\n",
      "/Users/preneond/Library/Caches/pypoetry/virtualenvs/named-entity-recognition-XgAZTi1c-py3.11/lib/python3.11/site-packages/spacy/training/iob_utils.py:149: UserWarning: [W030] Some entities could not be aligned in the text \" <b> WD Red™ Plus für anspruchsvolle Workloads</b>...\" with entities \"[(1300, 1315, 'Brand'), (1172, 1176, 'Storage')]\". Use `spacy.training.offsets_to_biluo_tags(nlp.make_doc(text), entities)` to check the alignment. Misaligned entities ('-') will be ignored during training.\n",
      "  warnings.warn(\n",
      "/Users/preneond/Library/Caches/pypoetry/virtualenvs/named-entity-recognition-XgAZTi1c-py3.11/lib/python3.11/site-packages/spacy/training/iob_utils.py:149: UserWarning: [W030] Some entities could not be aligned in the text \"Die  <b> Microsoft Compact Optical Mouse 500 schwa...\" with entities \"[(9, 18, 'Brand'), (45, 52, 'Color')]\". Use `spacy.training.offsets_to_biluo_tags(nlp.make_doc(text), entities)` to check the alignment. Misaligned entities ('-') will be ignored during training.\n",
      "  warnings.warn(\n",
      "/Users/preneond/Library/Caches/pypoetry/virtualenvs/named-entity-recognition-XgAZTi1c-py3.11/lib/python3.11/site-packages/spacy/training/iob_utils.py:149: UserWarning: [W030] Some entities could not be aligned in the text \"Die  <b> Optical Mouse 200</b> konzentriert sich a...\" with entities \"[(212, 221, 'Brand')]\". Use `spacy.training.offsets_to_biluo_tags(nlp.make_doc(text), entities)` to check the alignment. Misaligned entities ('-') will be ignored during training.\n",
      "  warnings.warn(\n",
      "/Users/preneond/Library/Caches/pypoetry/virtualenvs/named-entity-recognition-XgAZTi1c-py3.11/lib/python3.11/site-packages/spacy/training/iob_utils.py:149: UserWarning: [W030] Some entities could not be aligned in the text \"Die SSD soll die traditionellen 2,5“ 44-pin PATA-F...\" with entities \"[(157, 166, 'Brand')]\". Use `spacy.training.offsets_to_biluo_tags(nlp.make_doc(text), entities)` to check the alignment. Misaligned entities ('-') will be ignored during training.\n",
      "  warnings.warn(\n",
      "/Users/preneond/Library/Caches/pypoetry/virtualenvs/named-entity-recognition-XgAZTi1c-py3.11/lib/python3.11/site-packages/spacy/training/iob_utils.py:149: UserWarning: [W030] Some entities could not be aligned in the text \"Das schwarze Autoladegerät mit Lightning-Anschluss...\" with entities \"[(4, 11, 'Color')]\". Use `spacy.training.offsets_to_biluo_tags(nlp.make_doc(text), entities)` to check the alignment. Misaligned entities ('-') will be ignored during training.\n",
      "  warnings.warn(\n",
      "/Users/preneond/Library/Caches/pypoetry/virtualenvs/named-entity-recognition-XgAZTi1c-py3.11/lib/python3.11/site-packages/spacy/training/iob_utils.py:149: UserWarning: [W030] Some entities could not be aligned in the text \" <b> Design trifft Funktion</b> <br> Mit seiner ma...\" with entities \"[(620, 624, 'Brand'), (52, 59, 'Color')]\". Use `spacy.training.offsets_to_biluo_tags(nlp.make_doc(text), entities)` to check the alignment. Misaligned entities ('-') will be ignored during training.\n",
      "  warnings.warn(\n",
      "/Users/preneond/Library/Caches/pypoetry/virtualenvs/named-entity-recognition-XgAZTi1c-py3.11/lib/python3.11/site-packages/spacy/training/iob_utils.py:149: UserWarning: [W030] Some entities could not be aligned in the text \" <b> Design trifft Funktion</b> <br> Mit seiner ma...\" with entities \"[(607, 611, 'Brand'), (52, 59, 'Color')]\". Use `spacy.training.offsets_to_biluo_tags(nlp.make_doc(text), entities)` to check the alignment. Misaligned entities ('-') will be ignored during training.\n",
      "  warnings.warn(\n",
      "/Users/preneond/Library/Caches/pypoetry/virtualenvs/named-entity-recognition-XgAZTi1c-py3.11/lib/python3.11/site-packages/spacy/training/iob_utils.py:149: UserWarning: [W030] Some entities could not be aligned in the text \" <b> Design trifft Funktion</b> <br> Mit seiner ma...\" with entities \"[(594, 598, 'Brand'), (52, 59, 'Color')]\". Use `spacy.training.offsets_to_biluo_tags(nlp.make_doc(text), entities)` to check the alignment. Misaligned entities ('-') will be ignored during training.\n",
      "  warnings.warn(\n",
      "/Users/preneond/Library/Caches/pypoetry/virtualenvs/named-entity-recognition-XgAZTi1c-py3.11/lib/python3.11/site-packages/spacy/training/iob_utils.py:149: UserWarning: [W030] Some entities could not be aligned in the text \" <b> Premium-Tastatur mit einzigartiger Optik</b> ...\" with entities \"[(155, 161, 'Brand'), (108, 115, 'Color')]\". Use `spacy.training.offsets_to_biluo_tags(nlp.make_doc(text), entities)` to check the alignment. Misaligned entities ('-') will be ignored during training.\n",
      "  warnings.warn(\n",
      "/Users/preneond/Library/Caches/pypoetry/virtualenvs/named-entity-recognition-XgAZTi1c-py3.11/lib/python3.11/site-packages/spacy/training/iob_utils.py:149: UserWarning: [W030] Some entities could not be aligned in the text \"Die PP06-Serie wurde für Benutzer geschaffen, die ...\" with entities \"[(84, 95, 'Brand'), (263, 270, 'Color')]\". Use `spacy.training.offsets_to_biluo_tags(nlp.make_doc(text), entities)` to check the alignment. Misaligned entities ('-') will be ignored during training.\n",
      "  warnings.warn(\n",
      "/Users/preneond/Library/Caches/pypoetry/virtualenvs/named-entity-recognition-XgAZTi1c-py3.11/lib/python3.11/site-packages/spacy/training/iob_utils.py:149: UserWarning: [W030] Some entities could not be aligned in the text \"Kompromisslose Funktionalität und der reale Mehrwe...\" with entities \"[(113, 118, 'Brand'), (839, 846, 'Color')]\". Use `spacy.training.offsets_to_biluo_tags(nlp.make_doc(text), entities)` to check the alignment. Misaligned entities ('-') will be ignored during training.\n",
      "  warnings.warn(\n",
      "/Users/preneond/Library/Caches/pypoetry/virtualenvs/named-entity-recognition-XgAZTi1c-py3.11/lib/python3.11/site-packages/spacy/training/iob_utils.py:149: UserWarning: [W030] Some entities could not be aligned in the text \"Kompromisslose Funktionalität und der reale Mehrwe...\" with entities \"[(113, 118, 'Brand'), (871, 878, 'Color')]\". Use `spacy.training.offsets_to_biluo_tags(nlp.make_doc(text), entities)` to check the alignment. Misaligned entities ('-') will be ignored during training.\n",
      "  warnings.warn(\n",
      "/Users/preneond/Library/Caches/pypoetry/virtualenvs/named-entity-recognition-XgAZTi1c-py3.11/lib/python3.11/site-packages/spacy/training/iob_utils.py:149: UserWarning: [W030] Some entities could not be aligned in the text \" <b> Präzise Gaming-Maus </b> <br> Die Sound Blast...\" with entities \"[(39, 53, 'Brand'), (715, 722, 'Color')]\". Use `spacy.training.offsets_to_biluo_tags(nlp.make_doc(text), entities)` to check the alignment. Misaligned entities ('-') will be ignored during training.\n",
      "  warnings.warn(\n",
      "/Users/preneond/Library/Caches/pypoetry/virtualenvs/named-entity-recognition-XgAZTi1c-py3.11/lib/python3.11/site-packages/spacy/training/iob_utils.py:149: UserWarning: [W030] Some entities could not be aligned in the text \" <b> Type'n'Roll</b> <br> Die ACK-109BL ist eine v...\" with entities \"[(873, 877, 'Color')]\". Use `spacy.training.offsets_to_biluo_tags(nlp.make_doc(text), entities)` to check the alignment. Misaligned entities ('-') will be ignored during training.\n",
      "  warnings.warn(\n",
      "/Users/preneond/Library/Caches/pypoetry/virtualenvs/named-entity-recognition-XgAZTi1c-py3.11/lib/python3.11/site-packages/spacy/training/iob_utils.py:149: UserWarning: [W030] Some entities could not be aligned in the text \" <b> Schnurlos und elegant</b> <br> Die Keysonic K...\" with entities \"[(40, 48, 'Brand'), (534, 541, 'Color')]\". Use `spacy.training.offsets_to_biluo_tags(nlp.make_doc(text), entities)` to check the alignment. Misaligned entities ('-') will be ignored during training.\n",
      "  warnings.warn(\n",
      "/Users/preneond/Library/Caches/pypoetry/virtualenvs/named-entity-recognition-XgAZTi1c-py3.11/lib/python3.11/site-packages/spacy/training/iob_utils.py:149: UserWarning: [W030] Some entities could not be aligned in the text \" <b> Drahtlose Bluetooth® 3.0 Übertragung</b> <br>...\" with entities \"[(358, 363, 'Brand')]\". Use `spacy.training.offsets_to_biluo_tags(nlp.make_doc(text), entities)` to check the alignment. Misaligned entities ('-') will be ignored during training.\n",
      "  warnings.warn(\n",
      "/Users/preneond/Library/Caches/pypoetry/virtualenvs/named-entity-recognition-XgAZTi1c-py3.11/lib/python3.11/site-packages/spacy/training/iob_utils.py:149: UserWarning: [W030] Some entities could not be aligned in the text \" <b> Drahtlose Bluetooth® 3.0 Übertragung</b> <br>...\" with entities \"[(354, 359, 'Brand')]\". Use `spacy.training.offsets_to_biluo_tags(nlp.make_doc(text), entities)` to check the alignment. Misaligned entities ('-') will be ignored during training.\n",
      "  warnings.warn(\n",
      "/Users/preneond/Library/Caches/pypoetry/virtualenvs/named-entity-recognition-XgAZTi1c-py3.11/lib/python3.11/site-packages/spacy/training/iob_utils.py:149: UserWarning: [W030] Some entities could not be aligned in the text \" <b> Tragbares Thunderbolt und USB 3.0-Laufwerk</b...\" with entities \"[(205, 217, 'Brand'), (226, 230, 'Storage')]\". Use `spacy.training.offsets_to_biluo_tags(nlp.make_doc(text), entities)` to check the alignment. Misaligned entities ('-') will be ignored during training.\n",
      "  warnings.warn(\n",
      "/Users/preneond/Library/Caches/pypoetry/virtualenvs/named-entity-recognition-XgAZTi1c-py3.11/lib/python3.11/site-packages/spacy/training/iob_utils.py:149: UserWarning: [W030] Some entities could not be aligned in the text \"Die Maus für CAD-Professionals  <br> Die Full-Size...\" with entities \"[(392, 403, 'Brand'), (839, 846, 'Color')]\". Use `spacy.training.offsets_to_biluo_tags(nlp.make_doc(text), entities)` to check the alignment. Misaligned entities ('-') will be ignored during training.\n",
      "  warnings.warn(\n",
      "/Users/preneond/Library/Caches/pypoetry/virtualenvs/named-entity-recognition-XgAZTi1c-py3.11/lib/python3.11/site-packages/spacy/training/iob_utils.py:149: UserWarning: [W030] Some entities could not be aligned in the text \"Die schwarze Tastatur mit großen weißen Buchstaben...\" with entities \"[(4, 11, 'Color')]\". Use `spacy.training.offsets_to_biluo_tags(nlp.make_doc(text), entities)` to check the alignment. Misaligned entities ('-') will be ignored during training.\n",
      "  warnings.warn(\n",
      "/Users/preneond/Library/Caches/pypoetry/virtualenvs/named-entity-recognition-XgAZTi1c-py3.11/lib/python3.11/site-packages/spacy/training/iob_utils.py:149: UserWarning: [W030] Some entities could not be aligned in the text \"Die My Passport™ Wireless SSD ist eine kompakte un...\" with entities \"[(2311, 2313, 'Brand')]\". Use `spacy.training.offsets_to_biluo_tags(nlp.make_doc(text), entities)` to check the alignment. Misaligned entities ('-') will be ignored during training.\n",
      "  warnings.warn(\n",
      "/Users/preneond/Library/Caches/pypoetry/virtualenvs/named-entity-recognition-XgAZTi1c-py3.11/lib/python3.11/site-packages/spacy/training/iob_utils.py:149: UserWarning: [W030] Some entities could not be aligned in the text \" <b> Acer Extensa 2540-530F 15,6\" HD-Display Intel...\" with entities \"[(5, 9, 'Brand'), (1284, 1291, 'Color')]\". Use `spacy.training.offsets_to_biluo_tags(nlp.make_doc(text), entities)` to check the alignment. Misaligned entities ('-') will be ignored during training.\n",
      "  warnings.warn(\n",
      "/Users/preneond/Library/Caches/pypoetry/virtualenvs/named-entity-recognition-XgAZTi1c-py3.11/lib/python3.11/site-packages/spacy/training/iob_utils.py:149: UserWarning: [W030] Some entities could not be aligned in the text \" <b> Acer Extensa 2540-530F 15,6\" HD-Display Intel...\" with entities \"[(5, 9, 'Brand'), (1292, 1299, 'Color')]\". Use `spacy.training.offsets_to_biluo_tags(nlp.make_doc(text), entities)` to check the alignment. Misaligned entities ('-') will be ignored during training.\n",
      "  warnings.warn(\n",
      "/Users/preneond/Library/Caches/pypoetry/virtualenvs/named-entity-recognition-XgAZTi1c-py3.11/lib/python3.11/site-packages/spacy/training/iob_utils.py:149: UserWarning: [W030] Some entities could not be aligned in the text \" <b> Leistung im portablen Format</b> <br> Erweite...\" with entities \"[(2232, 2236, 'Storage')]\". Use `spacy.training.offsets_to_biluo_tags(nlp.make_doc(text), entities)` to check the alignment. Misaligned entities ('-') will be ignored during training.\n",
      "  warnings.warn(\n",
      "/Users/preneond/Library/Caches/pypoetry/virtualenvs/named-entity-recognition-XgAZTi1c-py3.11/lib/python3.11/site-packages/spacy/training/iob_utils.py:149: UserWarning: [W030] Some entities could not be aligned in the text \" <b> FX Storage mit Style</b> <br> Die externe ASU...\" with entities \"[(47, 51, 'Brand')]\". Use `spacy.training.offsets_to_biluo_tags(nlp.make_doc(text), entities)` to check the alignment. Misaligned entities ('-') will be ignored during training.\n",
      "  warnings.warn(\n",
      "/Users/preneond/Library/Caches/pypoetry/virtualenvs/named-entity-recognition-XgAZTi1c-py3.11/lib/python3.11/site-packages/spacy/training/iob_utils.py:149: UserWarning: [W030] Some entities could not be aligned in the text \" <b> Elegantes Design. Ausgiebiger Speicherplatz.<...\" with entities \"[(59, 64, 'Brand'), (2167, 2173, 'Color')]\". Use `spacy.training.offsets_to_biluo_tags(nlp.make_doc(text), entities)` to check the alignment. Misaligned entities ('-') will be ignored during training.\n",
      "  warnings.warn(\n",
      "/Users/preneond/Library/Caches/pypoetry/virtualenvs/named-entity-recognition-XgAZTi1c-py3.11/lib/python3.11/site-packages/spacy/training/iob_utils.py:149: UserWarning: [W030] Some entities could not be aligned in the text \" <b> Elegantes Design. Ausgiebiger Speicherplatz.<...\" with entities \"[(59, 64, 'Brand'), (239, 243, 'Storage'), (2167, ...\". Use `spacy.training.offsets_to_biluo_tags(nlp.make_doc(text), entities)` to check the alignment. Misaligned entities ('-') will be ignored during training.\n",
      "  warnings.warn(\n",
      "/Users/preneond/Library/Caches/pypoetry/virtualenvs/named-entity-recognition-XgAZTi1c-py3.11/lib/python3.11/site-packages/spacy/training/iob_utils.py:149: UserWarning: [W030] Some entities could not be aligned in the text \" <b> Weil nicht alle Hände gleich groß sind!</b> <...\" with entities \"[(1698, 1702, 'Color')]\". Use `spacy.training.offsets_to_biluo_tags(nlp.make_doc(text), entities)` to check the alignment. Misaligned entities ('-') will be ignored during training.\n",
      "  warnings.warn(\n",
      "/Users/preneond/Library/Caches/pypoetry/virtualenvs/named-entity-recognition-XgAZTi1c-py3.11/lib/python3.11/site-packages/spacy/training/iob_utils.py:149: UserWarning: [W030] Some entities could not be aligned in the text \"Datensicherung <br> Schön leicht, klein und handli...\" with entities \"[(1155, 1162, 'Brand'), (2198, 2202, 'Storage')]\". Use `spacy.training.offsets_to_biluo_tags(nlp.make_doc(text), entities)` to check the alignment. Misaligned entities ('-') will be ignored during training.\n",
      "  warnings.warn(\n",
      "/Users/preneond/Library/Caches/pypoetry/virtualenvs/named-entity-recognition-XgAZTi1c-py3.11/lib/python3.11/site-packages/spacy/training/iob_utils.py:149: UserWarning: [W030] Some entities could not be aligned in the text \" <b> WD Red™ Plus für anspruchsvolle Workloads</b>...\" with entities \"[(1300, 1315, 'Brand'), (1171, 1176, 'Storage')]\". Use `spacy.training.offsets_to_biluo_tags(nlp.make_doc(text), entities)` to check the alignment. Misaligned entities ('-') will be ignored during training.\n",
      "  warnings.warn(\n",
      "/Users/preneond/Library/Caches/pypoetry/virtualenvs/named-entity-recognition-XgAZTi1c-py3.11/lib/python3.11/site-packages/spacy/training/iob_utils.py:149: UserWarning: [W030] Some entities could not be aligned in the text \" <b> Datensicherung</b> <br> Schön leicht, klein u...\" with entities \"[(1194, 1201, 'Brand'), (2282, 2286, 'Storage')]\". Use `spacy.training.offsets_to_biluo_tags(nlp.make_doc(text), entities)` to check the alignment. Misaligned entities ('-') will be ignored during training.\n",
      "  warnings.warn(\n"
     ]
    }
   ],
   "execution_count": 12
  },
  {
   "metadata": {
    "ExecuteTime": {
     "end_time": "2024-09-16T20:07:11.690189Z",
     "start_time": "2024-09-16T20:07:11.688416Z"
    }
   },
   "cell_type": "code",
   "source": "print(f\"{len(train_data)=} vs {len(train_data_fixed)=}\")",
   "id": "7a08ffcdd8bbba65",
   "outputs": [
    {
     "name": "stdout",
     "output_type": "stream",
     "text": [
      "len(train_data)=775 vs len(train_data_fixed)=690\n"
     ]
    }
   ],
   "execution_count": 13
  },
  {
   "metadata": {},
   "cell_type": "markdown",
   "source": "## Training NER Model",
   "id": "86ca6ad3ce235278"
  },
  {
   "metadata": {
    "ExecuteTime": {
     "end_time": "2024-09-16T20:50:46.795025Z",
     "start_time": "2024-09-16T20:07:13.058252Z"
    }
   },
   "cell_type": "code",
   "source": [
    "from tqdm import tqdm\n",
    "from spacy.training import Example\n",
    "import random\n",
    "\n",
    "# Add NER pipeline to the model\n",
    "if \"ner\" not in nlp.pipe_names:\n",
    "    ner = nlp.add_pipe(\"ner\")\n",
    "else:\n",
    "    ner = nlp.get_pipe(\"ner\")\n",
    "\n",
    "# Add the entity labels to the NER pipeline\n",
    "ner.add_label(\"Brand\")\n",
    "ner.add_label(\"Storage\")\n",
    "ner.add_label(\"Color\")\n",
    "\n",
    "# Begin training the NER model\n",
    "optimizer = nlp.begin_training()\n",
    "\n",
    "# Number of training iterations\n",
    "n_iter = 50\n",
    "\n",
    "# Disable other pipelines during training (since we're only interested in 'ner')\n",
    "other_pipes = [pipe for pipe in nlp.pipe_names if pipe != \"ner\"]\n",
    "with nlp.disable_pipes(*other_pipes):  # Only train NER \n",
    "    for iteration in range(n_iter):\n",
    "        random.shuffle(train_data_fixed)  # Shuffle the training data\n",
    "        losses = {}\n",
    "        \n",
    "        for i in tqdm(range(len(train_data_fixed))):\n",
    "            text, annotations = train_data_fixed[i]\n",
    "            # Create Example object for the training data\n",
    "            example = Example.from_dict(nlp.make_doc(text), annotations)\n",
    "            \n",
    "            # Update the model\n",
    "            nlp.update([example], drop=0.5, losses=losses)\n",
    "        \n",
    "        print(f\"Iteration {iteration} Losses: {losses}\")\n",
    "\n",
    "# Save the model to disk\n",
    "nlp.to_disk(\"../static/ner_model_de_desc\")\n",
    "print(\"Model saved to 'ner_model' directory.\")"
   ],
   "id": "74943bbfc7ccee4a",
   "outputs": [
    {
     "name": "stderr",
     "output_type": "stream",
     "text": [
      "100%|██████████| 690/690 [00:53<00:00, 12.98it/s]\n"
     ]
    },
    {
     "name": "stdout",
     "output_type": "stream",
     "text": [
      "Iteration 0 Losses: {'ner': 3638.231357977609}\n"
     ]
    },
    {
     "name": "stderr",
     "output_type": "stream",
     "text": [
      "100%|██████████| 690/690 [00:52<00:00, 13.06it/s]\n"
     ]
    },
    {
     "name": "stdout",
     "output_type": "stream",
     "text": [
      "Iteration 1 Losses: {'ner': 1254.5357598912212}\n"
     ]
    },
    {
     "name": "stderr",
     "output_type": "stream",
     "text": [
      "100%|██████████| 690/690 [00:53<00:00, 12.88it/s]\n"
     ]
    },
    {
     "name": "stdout",
     "output_type": "stream",
     "text": [
      "Iteration 2 Losses: {'ner': 1122.9031350091527}\n"
     ]
    },
    {
     "name": "stderr",
     "output_type": "stream",
     "text": [
      "100%|██████████| 690/690 [00:51<00:00, 13.43it/s]\n"
     ]
    },
    {
     "name": "stdout",
     "output_type": "stream",
     "text": [
      "Iteration 3 Losses: {'ner': 1004.8181831578618}\n"
     ]
    },
    {
     "name": "stderr",
     "output_type": "stream",
     "text": [
      "100%|██████████| 690/690 [00:51<00:00, 13.44it/s]\n"
     ]
    },
    {
     "name": "stdout",
     "output_type": "stream",
     "text": [
      "Iteration 4 Losses: {'ner': 957.0255977330515}\n"
     ]
    },
    {
     "name": "stderr",
     "output_type": "stream",
     "text": [
      "100%|██████████| 690/690 [00:51<00:00, 13.28it/s]\n"
     ]
    },
    {
     "name": "stdout",
     "output_type": "stream",
     "text": [
      "Iteration 5 Losses: {'ner': 850.7583802231571}\n"
     ]
    },
    {
     "name": "stderr",
     "output_type": "stream",
     "text": [
      "100%|██████████| 690/690 [00:51<00:00, 13.43it/s]\n"
     ]
    },
    {
     "name": "stdout",
     "output_type": "stream",
     "text": [
      "Iteration 6 Losses: {'ner': 812.4030559696987}\n"
     ]
    },
    {
     "name": "stderr",
     "output_type": "stream",
     "text": [
      "100%|██████████| 690/690 [00:51<00:00, 13.40it/s]\n"
     ]
    },
    {
     "name": "stdout",
     "output_type": "stream",
     "text": [
      "Iteration 7 Losses: {'ner': 735.9409081059711}\n"
     ]
    },
    {
     "name": "stderr",
     "output_type": "stream",
     "text": [
      "100%|██████████| 690/690 [00:52<00:00, 13.22it/s]\n"
     ]
    },
    {
     "name": "stdout",
     "output_type": "stream",
     "text": [
      "Iteration 8 Losses: {'ner': 738.0043308832915}\n"
     ]
    },
    {
     "name": "stderr",
     "output_type": "stream",
     "text": [
      "100%|██████████| 690/690 [00:51<00:00, 13.28it/s]\n"
     ]
    },
    {
     "name": "stdout",
     "output_type": "stream",
     "text": [
      "Iteration 9 Losses: {'ner': 684.9913734661183}\n"
     ]
    },
    {
     "name": "stderr",
     "output_type": "stream",
     "text": [
      "100%|██████████| 690/690 [00:51<00:00, 13.40it/s]\n"
     ]
    },
    {
     "name": "stdout",
     "output_type": "stream",
     "text": [
      "Iteration 10 Losses: {'ner': 645.7156342397863}\n"
     ]
    },
    {
     "name": "stderr",
     "output_type": "stream",
     "text": [
      "100%|██████████| 690/690 [00:50<00:00, 13.53it/s]\n"
     ]
    },
    {
     "name": "stdout",
     "output_type": "stream",
     "text": [
      "Iteration 11 Losses: {'ner': 641.008783964693}\n"
     ]
    },
    {
     "name": "stderr",
     "output_type": "stream",
     "text": [
      "100%|██████████| 690/690 [00:51<00:00, 13.40it/s]\n"
     ]
    },
    {
     "name": "stdout",
     "output_type": "stream",
     "text": [
      "Iteration 12 Losses: {'ner': 607.1435724807326}\n"
     ]
    },
    {
     "name": "stderr",
     "output_type": "stream",
     "text": [
      "100%|██████████| 690/690 [00:51<00:00, 13.31it/s]\n"
     ]
    },
    {
     "name": "stdout",
     "output_type": "stream",
     "text": [
      "Iteration 13 Losses: {'ner': 601.5229864597558}\n"
     ]
    },
    {
     "name": "stderr",
     "output_type": "stream",
     "text": [
      "100%|██████████| 690/690 [00:54<00:00, 12.58it/s]\n"
     ]
    },
    {
     "name": "stdout",
     "output_type": "stream",
     "text": [
      "Iteration 14 Losses: {'ner': 635.2796628269828}\n"
     ]
    },
    {
     "name": "stderr",
     "output_type": "stream",
     "text": [
      "100%|██████████| 690/690 [00:53<00:00, 12.92it/s]\n"
     ]
    },
    {
     "name": "stdout",
     "output_type": "stream",
     "text": [
      "Iteration 15 Losses: {'ner': 614.4549172632434}\n"
     ]
    },
    {
     "name": "stderr",
     "output_type": "stream",
     "text": [
      "100%|██████████| 690/690 [00:53<00:00, 12.83it/s]\n"
     ]
    },
    {
     "name": "stdout",
     "output_type": "stream",
     "text": [
      "Iteration 16 Losses: {'ner': 498.98632331957117}\n"
     ]
    },
    {
     "name": "stderr",
     "output_type": "stream",
     "text": [
      "100%|██████████| 690/690 [00:52<00:00, 13.07it/s]\n"
     ]
    },
    {
     "name": "stdout",
     "output_type": "stream",
     "text": [
      "Iteration 17 Losses: {'ner': 547.4079335647516}\n"
     ]
    },
    {
     "name": "stderr",
     "output_type": "stream",
     "text": [
      "100%|██████████| 690/690 [00:53<00:00, 12.95it/s]\n"
     ]
    },
    {
     "name": "stdout",
     "output_type": "stream",
     "text": [
      "Iteration 18 Losses: {'ner': 505.48906240982}\n"
     ]
    },
    {
     "name": "stderr",
     "output_type": "stream",
     "text": [
      "100%|██████████| 690/690 [00:53<00:00, 12.94it/s]\n"
     ]
    },
    {
     "name": "stdout",
     "output_type": "stream",
     "text": [
      "Iteration 19 Losses: {'ner': 522.7790978632303}\n"
     ]
    },
    {
     "name": "stderr",
     "output_type": "stream",
     "text": [
      "100%|██████████| 690/690 [00:52<00:00, 13.21it/s]\n"
     ]
    },
    {
     "name": "stdout",
     "output_type": "stream",
     "text": [
      "Iteration 20 Losses: {'ner': 502.6555811204943}\n"
     ]
    },
    {
     "name": "stderr",
     "output_type": "stream",
     "text": [
      "100%|██████████| 690/690 [00:51<00:00, 13.33it/s]\n"
     ]
    },
    {
     "name": "stdout",
     "output_type": "stream",
     "text": [
      "Iteration 21 Losses: {'ner': 482.2569623038822}\n"
     ]
    },
    {
     "name": "stderr",
     "output_type": "stream",
     "text": [
      "100%|██████████| 690/690 [00:51<00:00, 13.29it/s]\n"
     ]
    },
    {
     "name": "stdout",
     "output_type": "stream",
     "text": [
      "Iteration 22 Losses: {'ner': 604.7942748844232}\n"
     ]
    },
    {
     "name": "stderr",
     "output_type": "stream",
     "text": [
      "100%|██████████| 690/690 [00:52<00:00, 13.06it/s]\n"
     ]
    },
    {
     "name": "stdout",
     "output_type": "stream",
     "text": [
      "Iteration 23 Losses: {'ner': 524.4121501417519}\n"
     ]
    },
    {
     "name": "stderr",
     "output_type": "stream",
     "text": [
      "100%|██████████| 690/690 [00:51<00:00, 13.27it/s]\n"
     ]
    },
    {
     "name": "stdout",
     "output_type": "stream",
     "text": [
      "Iteration 24 Losses: {'ner': 459.8506167998372}\n"
     ]
    },
    {
     "name": "stderr",
     "output_type": "stream",
     "text": [
      "100%|██████████| 690/690 [00:51<00:00, 13.32it/s]\n"
     ]
    },
    {
     "name": "stdout",
     "output_type": "stream",
     "text": [
      "Iteration 25 Losses: {'ner': 424.56355018780886}\n"
     ]
    },
    {
     "name": "stderr",
     "output_type": "stream",
     "text": [
      "100%|██████████| 690/690 [00:51<00:00, 13.29it/s]\n"
     ]
    },
    {
     "name": "stdout",
     "output_type": "stream",
     "text": [
      "Iteration 26 Losses: {'ner': 489.5546354309493}\n"
     ]
    },
    {
     "name": "stderr",
     "output_type": "stream",
     "text": [
      "100%|██████████| 690/690 [00:52<00:00, 13.12it/s]\n"
     ]
    },
    {
     "name": "stdout",
     "output_type": "stream",
     "text": [
      "Iteration 27 Losses: {'ner': 437.0888250216751}\n"
     ]
    },
    {
     "name": "stderr",
     "output_type": "stream",
     "text": [
      "100%|██████████| 690/690 [00:51<00:00, 13.30it/s]\n"
     ]
    },
    {
     "name": "stdout",
     "output_type": "stream",
     "text": [
      "Iteration 28 Losses: {'ner': 447.6133033666034}\n"
     ]
    },
    {
     "name": "stderr",
     "output_type": "stream",
     "text": [
      "100%|██████████| 690/690 [00:52<00:00, 13.26it/s]\n"
     ]
    },
    {
     "name": "stdout",
     "output_type": "stream",
     "text": [
      "Iteration 29 Losses: {'ner': 433.08811422287056}\n"
     ]
    },
    {
     "name": "stderr",
     "output_type": "stream",
     "text": [
      "100%|██████████| 690/690 [00:51<00:00, 13.28it/s]\n"
     ]
    },
    {
     "name": "stdout",
     "output_type": "stream",
     "text": [
      "Iteration 30 Losses: {'ner': 391.01658264049263}\n"
     ]
    },
    {
     "name": "stderr",
     "output_type": "stream",
     "text": [
      "100%|██████████| 690/690 [00:51<00:00, 13.32it/s]\n"
     ]
    },
    {
     "name": "stdout",
     "output_type": "stream",
     "text": [
      "Iteration 31 Losses: {'ner': 405.7269265435536}\n"
     ]
    },
    {
     "name": "stderr",
     "output_type": "stream",
     "text": [
      "100%|██████████| 690/690 [00:53<00:00, 12.80it/s]\n"
     ]
    },
    {
     "name": "stdout",
     "output_type": "stream",
     "text": [
      "Iteration 32 Losses: {'ner': 404.2896869551534}\n"
     ]
    },
    {
     "name": "stderr",
     "output_type": "stream",
     "text": [
      "100%|██████████| 690/690 [00:54<00:00, 12.77it/s]\n"
     ]
    },
    {
     "name": "stdout",
     "output_type": "stream",
     "text": [
      "Iteration 33 Losses: {'ner': 388.78540476407545}\n"
     ]
    },
    {
     "name": "stderr",
     "output_type": "stream",
     "text": [
      "100%|██████████| 690/690 [00:53<00:00, 12.99it/s]\n"
     ]
    },
    {
     "name": "stdout",
     "output_type": "stream",
     "text": [
      "Iteration 34 Losses: {'ner': 432.68582279566596}\n"
     ]
    },
    {
     "name": "stderr",
     "output_type": "stream",
     "text": [
      "100%|██████████| 690/690 [00:53<00:00, 12.96it/s]\n"
     ]
    },
    {
     "name": "stdout",
     "output_type": "stream",
     "text": [
      "Iteration 35 Losses: {'ner': 370.36739256181875}\n"
     ]
    },
    {
     "name": "stderr",
     "output_type": "stream",
     "text": [
      "100%|██████████| 690/690 [00:52<00:00, 13.04it/s]\n"
     ]
    },
    {
     "name": "stdout",
     "output_type": "stream",
     "text": [
      "Iteration 36 Losses: {'ner': 380.28570008183465}\n"
     ]
    },
    {
     "name": "stderr",
     "output_type": "stream",
     "text": [
      "100%|██████████| 690/690 [00:52<00:00, 13.15it/s]\n"
     ]
    },
    {
     "name": "stdout",
     "output_type": "stream",
     "text": [
      "Iteration 37 Losses: {'ner': 403.33291058571206}\n"
     ]
    },
    {
     "name": "stderr",
     "output_type": "stream",
     "text": [
      "100%|██████████| 690/690 [00:51<00:00, 13.47it/s]\n"
     ]
    },
    {
     "name": "stdout",
     "output_type": "stream",
     "text": [
      "Iteration 38 Losses: {'ner': 370.1732177762205}\n"
     ]
    },
    {
     "name": "stderr",
     "output_type": "stream",
     "text": [
      "100%|██████████| 690/690 [00:51<00:00, 13.50it/s]\n"
     ]
    },
    {
     "name": "stdout",
     "output_type": "stream",
     "text": [
      "Iteration 39 Losses: {'ner': 337.01865621077485}\n"
     ]
    },
    {
     "name": "stderr",
     "output_type": "stream",
     "text": [
      "100%|██████████| 690/690 [00:51<00:00, 13.44it/s]\n"
     ]
    },
    {
     "name": "stdout",
     "output_type": "stream",
     "text": [
      "Iteration 40 Losses: {'ner': 389.7431320958646}\n"
     ]
    },
    {
     "name": "stderr",
     "output_type": "stream",
     "text": [
      "100%|██████████| 690/690 [00:52<00:00, 13.23it/s]\n"
     ]
    },
    {
     "name": "stdout",
     "output_type": "stream",
     "text": [
      "Iteration 41 Losses: {'ner': 353.7489306689312}\n"
     ]
    },
    {
     "name": "stderr",
     "output_type": "stream",
     "text": [
      "100%|██████████| 690/690 [00:51<00:00, 13.48it/s]\n"
     ]
    },
    {
     "name": "stdout",
     "output_type": "stream",
     "text": [
      "Iteration 42 Losses: {'ner': 325.9652107744449}\n"
     ]
    },
    {
     "name": "stderr",
     "output_type": "stream",
     "text": [
      "100%|██████████| 690/690 [00:51<00:00, 13.37it/s]\n"
     ]
    },
    {
     "name": "stdout",
     "output_type": "stream",
     "text": [
      "Iteration 43 Losses: {'ner': 350.13598821674367}\n"
     ]
    },
    {
     "name": "stderr",
     "output_type": "stream",
     "text": [
      "100%|██████████| 690/690 [00:52<00:00, 13.22it/s]\n"
     ]
    },
    {
     "name": "stdout",
     "output_type": "stream",
     "text": [
      "Iteration 44 Losses: {'ner': 347.2949381355189}\n"
     ]
    },
    {
     "name": "stderr",
     "output_type": "stream",
     "text": [
      "100%|██████████| 690/690 [00:52<00:00, 13.19it/s]\n"
     ]
    },
    {
     "name": "stdout",
     "output_type": "stream",
     "text": [
      "Iteration 45 Losses: {'ner': 371.64106190274117}\n"
     ]
    },
    {
     "name": "stderr",
     "output_type": "stream",
     "text": [
      "100%|██████████| 690/690 [00:51<00:00, 13.28it/s]\n"
     ]
    },
    {
     "name": "stdout",
     "output_type": "stream",
     "text": [
      "Iteration 46 Losses: {'ner': 357.3954514072952}\n"
     ]
    },
    {
     "name": "stderr",
     "output_type": "stream",
     "text": [
      "100%|██████████| 690/690 [00:51<00:00, 13.40it/s]\n"
     ]
    },
    {
     "name": "stdout",
     "output_type": "stream",
     "text": [
      "Iteration 47 Losses: {'ner': 318.3993614081216}\n"
     ]
    },
    {
     "name": "stderr",
     "output_type": "stream",
     "text": [
      "100%|██████████| 690/690 [00:51<00:00, 13.47it/s]\n"
     ]
    },
    {
     "name": "stdout",
     "output_type": "stream",
     "text": [
      "Iteration 48 Losses: {'ner': 343.793172322673}\n"
     ]
    },
    {
     "name": "stderr",
     "output_type": "stream",
     "text": [
      "100%|██████████| 690/690 [00:52<00:00, 13.06it/s]"
     ]
    },
    {
     "name": "stdout",
     "output_type": "stream",
     "text": [
      "Iteration 49 Losses: {'ner': 307.21036706458773}\n",
      "Model saved to 'ner_model' directory.\n"
     ]
    },
    {
     "name": "stderr",
     "output_type": "stream",
     "text": [
      "\n"
     ]
    }
   ],
   "execution_count": 14
  },
  {
   "metadata": {},
   "cell_type": "code",
   "outputs": [],
   "execution_count": null,
   "source": "",
   "id": "ca51f779022e3fae"
  }
 ],
 "metadata": {
  "kernelspec": {
   "display_name": "Python 3",
   "language": "python",
   "name": "python3"
  },
  "language_info": {
   "codemirror_mode": {
    "name": "ipython",
    "version": 2
   },
   "file_extension": ".py",
   "mimetype": "text/x-python",
   "name": "python",
   "nbconvert_exporter": "python",
   "pygments_lexer": "ipython2",
   "version": "2.7.6"
  }
 },
 "nbformat": 4,
 "nbformat_minor": 5
}
