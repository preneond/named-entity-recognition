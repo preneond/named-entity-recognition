{
 "cells": [
  {
   "metadata": {},
   "cell_type": "markdown",
   "source": "# NER Test Case",
   "id": "df9d68a9f0db783b"
  },
  {
   "metadata": {
    "ExecuteTime": {
     "end_time": "2024-09-20T06:34:43.834246Z",
     "start_time": "2024-09-20T06:34:39.786579Z"
    }
   },
   "cell_type": "code",
   "source": [
    "import pandas as pd\n",
    "\n",
    "data_path = \"../static/ds_ner_test_case.csv\"\n",
    "df = pd.read_csv(data_path)\n",
    "\n",
    "df.head()"
   ],
   "id": "initial_id",
   "outputs": [
    {
     "data": {
      "text/plain": [
       "                                         description  \\\n",
       "0  Das G56JR steckt voller Komponenten, deren Per...   \n",
       "1  Das IdeaPad Yoga 13 ist eines der ersten Ultra...   \n",
       "2  Das Lenovo Flex2-15 ist ein schlankes und leic...   \n",
       "3  Das Lenovo Flex2-15 ist ein schlankes und leic...   \n",
       "4  Das IdeaPad Yoga 13 ist eines der ersten Ultra...   \n",
       "\n",
       "                                          highlights  \\\n",
       "0   <b> Intel Core i7-4700HQ der vierten Generati...   \n",
       "1   <b> Ultrabook mit klappbarem Multitouch-Displ...   \n",
       "2   <b> 15,6\"-«Dual-Mode»-Notebook, schwarz</b> <...   \n",
       "3   <b> Erschwingliches 15,6\"-Dual-Mode-Notebook,...   \n",
       "4   <b> Ultrabook mit klappbarem Multitouch-Displ...   \n",
       "\n",
       "                             headline   Brand Speicherkapazität    Farbe  \\\n",
       "0                  ASUS G56JR-CN169H     Asus               NaN  Schwarz   \n",
       "1  LENOVO IdeaPad Yoga2 Pro 13 Orange  Lenovo               NaN   Orange   \n",
       "2     LENOVO IdeaPad Flex2-15 schwarz  Lenovo               NaN  Schwarz   \n",
       "3     LENOVO IdeaPad Flex2-15 schwarz  Lenovo               NaN  Schwarz   \n",
       "4  LENOVO IdeaPad Yoga2 Pro 13 Orange  Lenovo               NaN   Orange   \n",
       "\n",
       "   productId  \n",
       "0       52.0  \n",
       "1       87.0  \n",
       "2      100.0  \n",
       "3      101.0  \n",
       "4      107.0  "
      ],
      "text/html": [
       "<div>\n",
       "<style scoped>\n",
       "    .dataframe tbody tr th:only-of-type {\n",
       "        vertical-align: middle;\n",
       "    }\n",
       "\n",
       "    .dataframe tbody tr th {\n",
       "        vertical-align: top;\n",
       "    }\n",
       "\n",
       "    .dataframe thead th {\n",
       "        text-align: right;\n",
       "    }\n",
       "</style>\n",
       "<table border=\"1\" class=\"dataframe\">\n",
       "  <thead>\n",
       "    <tr style=\"text-align: right;\">\n",
       "      <th></th>\n",
       "      <th>description</th>\n",
       "      <th>highlights</th>\n",
       "      <th>headline</th>\n",
       "      <th>Brand</th>\n",
       "      <th>Speicherkapazität</th>\n",
       "      <th>Farbe</th>\n",
       "      <th>productId</th>\n",
       "    </tr>\n",
       "  </thead>\n",
       "  <tbody>\n",
       "    <tr>\n",
       "      <th>0</th>\n",
       "      <td>Das G56JR steckt voller Komponenten, deren Per...</td>\n",
       "      <td>&lt;b&gt; Intel Core i7-4700HQ der vierten Generati...</td>\n",
       "      <td>ASUS G56JR-CN169H</td>\n",
       "      <td>Asus</td>\n",
       "      <td>NaN</td>\n",
       "      <td>Schwarz</td>\n",
       "      <td>52.0</td>\n",
       "    </tr>\n",
       "    <tr>\n",
       "      <th>1</th>\n",
       "      <td>Das IdeaPad Yoga 13 ist eines der ersten Ultra...</td>\n",
       "      <td>&lt;b&gt; Ultrabook mit klappbarem Multitouch-Displ...</td>\n",
       "      <td>LENOVO IdeaPad Yoga2 Pro 13 Orange</td>\n",
       "      <td>Lenovo</td>\n",
       "      <td>NaN</td>\n",
       "      <td>Orange</td>\n",
       "      <td>87.0</td>\n",
       "    </tr>\n",
       "    <tr>\n",
       "      <th>2</th>\n",
       "      <td>Das Lenovo Flex2-15 ist ein schlankes und leic...</td>\n",
       "      <td>&lt;b&gt; 15,6\"-«Dual-Mode»-Notebook, schwarz&lt;/b&gt; &lt;...</td>\n",
       "      <td>LENOVO IdeaPad Flex2-15 schwarz</td>\n",
       "      <td>Lenovo</td>\n",
       "      <td>NaN</td>\n",
       "      <td>Schwarz</td>\n",
       "      <td>100.0</td>\n",
       "    </tr>\n",
       "    <tr>\n",
       "      <th>3</th>\n",
       "      <td>Das Lenovo Flex2-15 ist ein schlankes und leic...</td>\n",
       "      <td>&lt;b&gt; Erschwingliches 15,6\"-Dual-Mode-Notebook,...</td>\n",
       "      <td>LENOVO IdeaPad Flex2-15 schwarz</td>\n",
       "      <td>Lenovo</td>\n",
       "      <td>NaN</td>\n",
       "      <td>Schwarz</td>\n",
       "      <td>101.0</td>\n",
       "    </tr>\n",
       "    <tr>\n",
       "      <th>4</th>\n",
       "      <td>Das IdeaPad Yoga 13 ist eines der ersten Ultra...</td>\n",
       "      <td>&lt;b&gt; Ultrabook mit klappbarem Multitouch-Displ...</td>\n",
       "      <td>LENOVO IdeaPad Yoga2 Pro 13 Orange</td>\n",
       "      <td>Lenovo</td>\n",
       "      <td>NaN</td>\n",
       "      <td>Orange</td>\n",
       "      <td>107.0</td>\n",
       "    </tr>\n",
       "  </tbody>\n",
       "</table>\n",
       "</div>"
      ]
     },
     "execution_count": 1,
     "metadata": {},
     "output_type": "execute_result"
    }
   ],
   "execution_count": 1
  },
  {
   "metadata": {
    "ExecuteTime": {
     "end_time": "2024-09-20T06:34:43.837963Z",
     "start_time": "2024-09-20T06:34:43.835335Z"
    }
   },
   "cell_type": "code",
   "source": [
    "brands = df[\"Brand\"].unique()\n",
    "colors = df[\"Farbe\"].unique()\n",
    "storage_capacities = df[\"Speicherkapazität\"].unique()\n",
    "\n",
    "print(f\"{brands=}\\n\\n{colors=}\\n\\n{storage_capacities=}\")"
   ],
   "id": "47d38acb9561ba8",
   "outputs": [
    {
     "name": "stdout",
     "output_type": "stream",
     "text": [
      "brands=array(['Asus', 'Lenovo', 'Acer', 'Toshiba', 'Sony', 'Western Digital',\n",
      "       'Trust', 'HP', 'Keysonic', 'Samsung', 'Hama', 'Buffalo', 'WD',\n",
      "       'HUAWEI', 'Alcatel', 'ChiliGreen', 'ednet', 'Verbatim', 'HN Power',\n",
      "       'Dell', 'LogiLink', 'CAT', 'Seagate', 'WIKO', 'Renkforce',\n",
      "       'Transcend', 'Hitachi', 'Nokia', 'CHERRY', 'Hyper', 'Cellularline',\n",
      "       'Perixx', 'YOTA', 'Microsoft', 'honor', 'Tylt', 'Genius',\n",
      "       'Motorola', 'Phicomm', 'Gembird', 'V7 Videoseven', 'Kensington',\n",
      "       'Intenso', 'Belkin', 'Cyrus', 'Vivanco', 'Medion', 'Leitz',\n",
      "       'Huawei', 'Logitech', 'Kyocera', 'Odys', 'MadCatz', 'Rapoo',\n",
      "       'VPRO', 'ZTE', 'VOLTCRAFT', 'Apple', 'Dynabook', 'Skross',\n",
      "       'Manhattan', 'SpeedLink', 'Elgato', 'G-Technology', 'Digittrade',\n",
      "       'SanDisk', 'NZXT', 'Silverstone', 'Digitus', 'Zowie',\n",
      "       'Sound BlasterX', 'Archos', '3Dconnexion', 'Sharkoon', 'spiffy',\n",
      "       'Geemarc', 'MayaMax', 'Matias', 'TrekStor®', 'Crucial', 'Vakoss',\n",
      "       'Corsair', 'Omega', 'Lian Li', 'LaCie', 'Raspberry Pi®',\n",
      "       'Pro Mate', 'Hyundai', 'Crosscall', 'club3D', 'Contour Design'],\n",
      "      dtype=object)\n",
      "\n",
      "colors=array(['Schwarz', 'Orange', 'Silber', 'Pink', 'Gold', 'Weiß', nan, 'Blau',\n",
      "       'Rot', 'Gelb', 'Grün', 'Grau', 'braun', 'Lila', 'grau', 'Türkis',\n",
      "       'Koralle', 'Braun', 'blau', 'rot', 'schwarz', 'Silber/Weiß', 'Red',\n",
      "       'orange', 'weiß', 'Silber-Grau', 'Blue', 'Wildkirsche',\n",
      "       'Anthrazit', 'Schwarz-Neongelb', 'gold', 'Rauchgrau',\n",
      "       'Silber-Schwarz', 'grün', 'Aluminium', 'Graphite', 'Ruby', 'RGB',\n",
      "       'Hellblau', 'Weiß-Rot', 'Violett', 'Dunkelblau'], dtype=object)\n",
      "\n",
      "storage_capacities=array([nan, '1 TB', '2 TB', '3 TB', '4 TB', '750 GB', '512 GB', '4 GB',\n",
      "       '8 GB', '500 GB', '120 GB', '250 GB', '5 TB', '16 GB', '6 TB',\n",
      "       '240 GB', '480 GB', '960 GB', '8 TB', '32 GB', '64 GB', '128 GB',\n",
      "       '256 GB', '10 TB', '12 TB', '16 TB', '20 TB', '24 TB', '7.68 TB',\n",
      "       '3.84 TB', '1.92 TB', '96 TB', '72 TB', '64 TB', '32 TB', '36 TB',\n",
      "       '48 TB', '80 TB', '14 TB', '64'], dtype=object)\n"
     ]
    }
   ],
   "execution_count": 2
  },
  {
   "metadata": {},
   "cell_type": "markdown",
   "source": "## Data Preprocessing",
   "id": "1c62582fec934804"
  },
  {
   "metadata": {
    "ExecuteTime": {
     "end_time": "2024-09-20T06:35:09.825940Z",
     "start_time": "2024-09-20T06:35:09.801721Z"
    }
   },
   "cell_type": "code",
   "source": [
    "train_data = []\n",
    "for index, row in df.iterrows():\n",
    "    description = row['headline']\n",
    "    brand = row['Brand']\n",
    "    storage = row['Speicherkapazität']\n",
    "    color = row['Farbe']\n",
    "\n",
    "    entities = []\n",
    "\n",
    "    # Add brand if present in description\n",
    "    if pd.notna(brand) and brand.lower() in description.lower():\n",
    "        start_idx = description.lower().index(brand.lower())\n",
    "        end_idx = start_idx + len(brand)\n",
    "        entities.append((start_idx, end_idx, \"Brand\"))\n",
    "    \n",
    "    # Add storage if present in description\n",
    "    if pd.notna(storage) and str(storage) in description:\n",
    "        start_idx = description.index(str(storage))\n",
    "        end_idx = start_idx + len(str(storage))\n",
    "        entities.append((start_idx, end_idx, \"Storage\"))\n",
    "    \n",
    "    # Add color if present in description\n",
    "    if pd.notna(color) and color.lower() in description.lower():\n",
    "        start_idx = description.lower().index(color.lower())\n",
    "        end_idx = start_idx + len(color)\n",
    "        entities.append((start_idx, end_idx, \"Color\"))\n",
    "    \n",
    "    if entities:\n",
    "        train_data.append((description, {\"entities\": entities}))"
   ],
   "id": "9c30c1aba504d5aa",
   "outputs": [],
   "execution_count": 3
  },
  {
   "metadata": {
    "ExecuteTime": {
     "end_time": "2024-09-20T06:35:23.601028Z",
     "start_time": "2024-09-20T06:35:22.454652Z"
    }
   },
   "cell_type": "code",
   "source": [
    "# Fix train data\n",
    "import spacy\n",
    "from spacy.training import offsets_to_biluo_tags\n",
    "# Load a blank German model\n",
    "nlp = spacy.blank(\"de\")\n",
    "\n",
    "train_data_fixed = []\n",
    "# fix the train data\n",
    "for text, annotations in train_data:\n",
    "        doc = nlp.make_doc(text)\n",
    "        entities = annotations.get(\"entities\")\n",
    "        try:\n",
    "            tags = offsets_to_biluo_tags(doc, entities)\n",
    "            if '-' not in tags:\n",
    "                train_data_fixed.append((text, annotations))\n",
    "        except ValueError:\n",
    "                # In case there's a problem converting to BILUO tags\n",
    "                print(f\"Skipping misaligned example: {text}\")"
   ],
   "id": "64fa9522d3e471b1",
   "outputs": [
    {
     "name": "stderr",
     "output_type": "stream",
     "text": [
      "/Users/preneond/Library/Caches/pypoetry/virtualenvs/named-entity-recognition-XgAZTi1c-py3.11/lib/python3.11/site-packages/spacy/training/iob_utils.py:149: UserWarning: [W030] Some entities could not be aligned in the text \"Yotaphone 2\" with entities \"[(0, 4, 'Brand')]\". Use `spacy.training.offsets_to_biluo_tags(nlp.make_doc(text), entities)` to check the alignment. Misaligned entities ('-') will be ignored during training.\n",
      "  warnings.warn(\n",
      "/Users/preneond/Library/Caches/pypoetry/virtualenvs/named-entity-recognition-XgAZTi1c-py3.11/lib/python3.11/site-packages/spacy/training/iob_utils.py:149: UserWarning: [W030] Some entities could not be aligned in the text \"Logitech® M535 Bluetooth® Maus\" with entities \"[(0, 8, 'Brand'), (15, 19, 'Color')]\". Use `spacy.training.offsets_to_biluo_tags(nlp.make_doc(text), entities)` to check the alignment. Misaligned entities ('-') will be ignored during training.\n",
      "  warnings.warn(\n",
      "/Users/preneond/Library/Caches/pypoetry/virtualenvs/named-entity-recognition-XgAZTi1c-py3.11/lib/python3.11/site-packages/spacy/training/iob_utils.py:149: UserWarning: [W030] Some entities could not be aligned in the text \"Lenovo 500-15 silber-weiss\" with entities \"[(0, 6, 'Brand'), (14, 20, 'Color')]\". Use `spacy.training.offsets_to_biluo_tags(nlp.make_doc(text), entities)` to check the alignment. Misaligned entities ('-') will be ignored during training.\n",
      "  warnings.warn(\n",
      "/Users/preneond/Library/Caches/pypoetry/virtualenvs/named-entity-recognition-XgAZTi1c-py3.11/lib/python3.11/site-packages/spacy/training/iob_utils.py:149: UserWarning: [W030] Some entities could not be aligned in the text \"Caterpillar Cat® B15 Outdoor-Smartphone\" with entities \"[(0, 3, 'Brand')]\". Use `spacy.training.offsets_to_biluo_tags(nlp.make_doc(text), entities)` to check the alignment. Misaligned entities ('-') will be ignored during training.\n",
      "  warnings.warn(\n",
      "/Users/preneond/Library/Caches/pypoetry/virtualenvs/named-entity-recognition-XgAZTi1c-py3.11/lib/python3.11/site-packages/spacy/training/iob_utils.py:149: UserWarning: [W030] Some entities could not be aligned in the text \"Speedlink KUDOS RS Gaming Mouse, rot-schwarz\" with entities \"[(0, 9, 'Brand'), (33, 36, 'Color')]\". Use `spacy.training.offsets_to_biluo_tags(nlp.make_doc(text), entities)` to check the alignment. Misaligned entities ('-') will be ignored during training.\n",
      "  warnings.warn(\n",
      "/Users/preneond/Library/Caches/pypoetry/virtualenvs/named-entity-recognition-XgAZTi1c-py3.11/lib/python3.11/site-packages/spacy/training/iob_utils.py:149: UserWarning: [W030] Some entities could not be aligned in the text \"Samsung Notebook Serie 3 NP350V5C-S09DE Notebook 3...\" with entities \"[(0, 7, 'Brand'), (72, 78, 'Color')]\". Use `spacy.training.offsets_to_biluo_tags(nlp.make_doc(text), entities)` to check the alignment. Misaligned entities ('-') will be ignored during training.\n",
      "  warnings.warn(\n",
      "/Users/preneond/Library/Caches/pypoetry/virtualenvs/named-entity-recognition-XgAZTi1c-py3.11/lib/python3.11/site-packages/spacy/training/iob_utils.py:149: UserWarning: [W030] Some entities could not be aligned in the text \"CHERRY Wheelmouse Optical Hellgrau\" with entities \"[(0, 6, 'Brand'), (30, 34, 'Color')]\". Use `spacy.training.offsets_to_biluo_tags(nlp.make_doc(text), entities)` to check the alignment. Misaligned entities ('-') will be ignored during training.\n",
      "  warnings.warn(\n"
     ]
    }
   ],
   "execution_count": 5
  },
  {
   "metadata": {
    "ExecuteTime": {
     "end_time": "2024-09-20T06:35:27.331654Z",
     "start_time": "2024-09-20T06:35:27.329802Z"
    }
   },
   "cell_type": "code",
   "source": "print(f\"{len(train_data)=} vs {len(train_data_fixed)=}\")",
   "id": "7a08ffcdd8bbba65",
   "outputs": [
    {
     "name": "stdout",
     "output_type": "stream",
     "text": [
      "len(train_data)=1040 vs len(train_data_fixed)=1033\n"
     ]
    }
   ],
   "execution_count": 7
  },
  {
   "metadata": {},
   "cell_type": "markdown",
   "source": "## Training NER Model",
   "id": "86ca6ad3ce235278"
  },
  {
   "metadata": {
    "ExecuteTime": {
     "end_time": "2024-09-20T07:03:52.607757Z",
     "start_time": "2024-09-20T06:57:15.495245Z"
    }
   },
   "cell_type": "code",
   "source": [
    "from tqdm import tqdm\n",
    "from spacy.training import Example\n",
    "import random\n",
    "\n",
    "# Add NER pipeline to the model\n",
    "if \"ner\" not in nlp.pipe_names:\n",
    "    ner = nlp.add_pipe(\"ner\")\n",
    "else:\n",
    "    ner = nlp.get_pipe(\"ner\")\n",
    "\n",
    "# Add the entity labels to the NER pipeline\n",
    "ner.add_label(\"Brand\")\n",
    "ner.add_label(\"Storage\")\n",
    "ner.add_label(\"Color\")\n",
    "\n",
    "# Begin training the NER model\n",
    "optimizer = nlp.begin_training()\n",
    "\n",
    "# Number of training iterations\n",
    "n_iter = 50\n",
    "\n",
    "# Disable other pipelines during training (since we're only interested in 'ner')\n",
    "other_pipes = [pipe for pipe in nlp.pipe_names if pipe != \"ner\"]\n",
    "with nlp.disable_pipes(*other_pipes):  # Only train NER \n",
    "    for iteration in range(n_iter):\n",
    "        random.shuffle(train_data_fixed)  # Shuffle the training data\n",
    "        losses = {}\n",
    "        \n",
    "        for i in tqdm(range(len(train_data_fixed))):\n",
    "            text, annotations = train_data_fixed[i]\n",
    "            # Create Example object for the training data\n",
    "            example = Example.from_dict(nlp.make_doc(text), annotations)\n",
    "            \n",
    "            # Update the model\n",
    "            nlp.update([example], drop=0.5, losses=losses)\n",
    "        \n",
    "        print(f\"Iteration {iteration} Losses: {losses}\")\n",
    "\n",
    "# Save the model to disk\n",
    "nlp.to_disk(\"../static/ner_model_de\")\n",
    "print(\"Model saved to 'ner_model' directory.\")"
   ],
   "id": "74943bbfc7ccee4a",
   "outputs": [
    {
     "name": "stderr",
     "output_type": "stream",
     "text": [
      "100%|██████████| 1033/1033 [00:07<00:00, 129.35it/s]\n"
     ]
    },
    {
     "name": "stdout",
     "output_type": "stream",
     "text": [
      "Iteration 0 Losses: {'ner': 1146.3098181053251}\n"
     ]
    },
    {
     "name": "stderr",
     "output_type": "stream",
     "text": [
      "100%|██████████| 1033/1033 [00:07<00:00, 132.95it/s]\n"
     ]
    },
    {
     "name": "stdout",
     "output_type": "stream",
     "text": [
      "Iteration 1 Losses: {'ner': 414.6862589821014}\n"
     ]
    },
    {
     "name": "stderr",
     "output_type": "stream",
     "text": [
      "100%|██████████| 1033/1033 [00:07<00:00, 132.54it/s]\n"
     ]
    },
    {
     "name": "stdout",
     "output_type": "stream",
     "text": [
      "Iteration 2 Losses: {'ner': 371.9185875817716}\n"
     ]
    },
    {
     "name": "stderr",
     "output_type": "stream",
     "text": [
      "100%|██████████| 1033/1033 [00:07<00:00, 132.63it/s]\n"
     ]
    },
    {
     "name": "stdout",
     "output_type": "stream",
     "text": [
      "Iteration 3 Losses: {'ner': 290.481962048693}\n"
     ]
    },
    {
     "name": "stderr",
     "output_type": "stream",
     "text": [
      "100%|██████████| 1033/1033 [00:07<00:00, 135.04it/s]\n"
     ]
    },
    {
     "name": "stdout",
     "output_type": "stream",
     "text": [
      "Iteration 4 Losses: {'ner': 249.93483108890837}\n"
     ]
    },
    {
     "name": "stderr",
     "output_type": "stream",
     "text": [
      "100%|██████████| 1033/1033 [00:07<00:00, 134.48it/s]\n"
     ]
    },
    {
     "name": "stdout",
     "output_type": "stream",
     "text": [
      "Iteration 5 Losses: {'ner': 224.6221777979352}\n"
     ]
    },
    {
     "name": "stderr",
     "output_type": "stream",
     "text": [
      "100%|██████████| 1033/1033 [00:07<00:00, 135.18it/s]\n"
     ]
    },
    {
     "name": "stdout",
     "output_type": "stream",
     "text": [
      "Iteration 6 Losses: {'ner': 192.72439532188034}\n"
     ]
    },
    {
     "name": "stderr",
     "output_type": "stream",
     "text": [
      "100%|██████████| 1033/1033 [00:07<00:00, 133.44it/s]\n"
     ]
    },
    {
     "name": "stdout",
     "output_type": "stream",
     "text": [
      "Iteration 7 Losses: {'ner': 179.67783609375428}\n"
     ]
    },
    {
     "name": "stderr",
     "output_type": "stream",
     "text": [
      "100%|██████████| 1033/1033 [00:07<00:00, 134.92it/s]\n"
     ]
    },
    {
     "name": "stdout",
     "output_type": "stream",
     "text": [
      "Iteration 8 Losses: {'ner': 181.1791641029686}\n"
     ]
    },
    {
     "name": "stderr",
     "output_type": "stream",
     "text": [
      "100%|██████████| 1033/1033 [00:07<00:00, 132.65it/s]\n"
     ]
    },
    {
     "name": "stdout",
     "output_type": "stream",
     "text": [
      "Iteration 9 Losses: {'ner': 166.31224048357464}\n"
     ]
    },
    {
     "name": "stderr",
     "output_type": "stream",
     "text": [
      "100%|██████████| 1033/1033 [00:07<00:00, 131.55it/s]\n"
     ]
    },
    {
     "name": "stdout",
     "output_type": "stream",
     "text": [
      "Iteration 10 Losses: {'ner': 138.58635815702536}\n"
     ]
    },
    {
     "name": "stderr",
     "output_type": "stream",
     "text": [
      "100%|██████████| 1033/1033 [00:07<00:00, 135.77it/s]\n"
     ]
    },
    {
     "name": "stdout",
     "output_type": "stream",
     "text": [
      "Iteration 11 Losses: {'ner': 156.3742770096351}\n"
     ]
    },
    {
     "name": "stderr",
     "output_type": "stream",
     "text": [
      "100%|██████████| 1033/1033 [00:07<00:00, 134.90it/s]\n"
     ]
    },
    {
     "name": "stdout",
     "output_type": "stream",
     "text": [
      "Iteration 12 Losses: {'ner': 161.5446305689201}\n"
     ]
    },
    {
     "name": "stderr",
     "output_type": "stream",
     "text": [
      "100%|██████████| 1033/1033 [00:07<00:00, 137.74it/s]\n"
     ]
    },
    {
     "name": "stdout",
     "output_type": "stream",
     "text": [
      "Iteration 13 Losses: {'ner': 167.33772711894878}\n"
     ]
    },
    {
     "name": "stderr",
     "output_type": "stream",
     "text": [
      "100%|██████████| 1033/1033 [00:07<00:00, 137.19it/s]\n"
     ]
    },
    {
     "name": "stdout",
     "output_type": "stream",
     "text": [
      "Iteration 14 Losses: {'ner': 135.57958708422407}\n"
     ]
    },
    {
     "name": "stderr",
     "output_type": "stream",
     "text": [
      "100%|██████████| 1033/1033 [00:07<00:00, 130.63it/s]\n"
     ]
    },
    {
     "name": "stdout",
     "output_type": "stream",
     "text": [
      "Iteration 15 Losses: {'ner': 114.49097727519472}\n"
     ]
    },
    {
     "name": "stderr",
     "output_type": "stream",
     "text": [
      "100%|██████████| 1033/1033 [00:07<00:00, 139.66it/s]\n"
     ]
    },
    {
     "name": "stdout",
     "output_type": "stream",
     "text": [
      "Iteration 16 Losses: {'ner': 134.5716054475771}\n"
     ]
    },
    {
     "name": "stderr",
     "output_type": "stream",
     "text": [
      "100%|██████████| 1033/1033 [00:07<00:00, 136.60it/s]\n"
     ]
    },
    {
     "name": "stdout",
     "output_type": "stream",
     "text": [
      "Iteration 17 Losses: {'ner': 129.45844465010921}\n"
     ]
    },
    {
     "name": "stderr",
     "output_type": "stream",
     "text": [
      "100%|██████████| 1033/1033 [00:07<00:00, 137.25it/s]\n"
     ]
    },
    {
     "name": "stdout",
     "output_type": "stream",
     "text": [
      "Iteration 18 Losses: {'ner': 122.72097468550358}\n"
     ]
    },
    {
     "name": "stderr",
     "output_type": "stream",
     "text": [
      "100%|██████████| 1033/1033 [00:07<00:00, 136.96it/s]\n"
     ]
    },
    {
     "name": "stdout",
     "output_type": "stream",
     "text": [
      "Iteration 19 Losses: {'ner': 124.23446873867458}\n"
     ]
    },
    {
     "name": "stderr",
     "output_type": "stream",
     "text": [
      "100%|██████████| 1033/1033 [00:08<00:00, 128.21it/s]\n"
     ]
    },
    {
     "name": "stdout",
     "output_type": "stream",
     "text": [
      "Iteration 20 Losses: {'ner': 121.17117970608406}\n"
     ]
    },
    {
     "name": "stderr",
     "output_type": "stream",
     "text": [
      "100%|██████████| 1033/1033 [00:08<00:00, 126.49it/s]\n"
     ]
    },
    {
     "name": "stdout",
     "output_type": "stream",
     "text": [
      "Iteration 21 Losses: {'ner': 115.71691937114227}\n"
     ]
    },
    {
     "name": "stderr",
     "output_type": "stream",
     "text": [
      "100%|██████████| 1033/1033 [00:07<00:00, 129.71it/s]\n"
     ]
    },
    {
     "name": "stdout",
     "output_type": "stream",
     "text": [
      "Iteration 22 Losses: {'ner': 94.10251168143833}\n"
     ]
    },
    {
     "name": "stderr",
     "output_type": "stream",
     "text": [
      "100%|██████████| 1033/1033 [00:07<00:00, 129.60it/s]\n"
     ]
    },
    {
     "name": "stdout",
     "output_type": "stream",
     "text": [
      "Iteration 23 Losses: {'ner': 125.36364401169853}\n"
     ]
    },
    {
     "name": "stderr",
     "output_type": "stream",
     "text": [
      "100%|██████████| 1033/1033 [00:08<00:00, 126.94it/s]\n"
     ]
    },
    {
     "name": "stdout",
     "output_type": "stream",
     "text": [
      "Iteration 24 Losses: {'ner': 139.91401144066919}\n"
     ]
    },
    {
     "name": "stderr",
     "output_type": "stream",
     "text": [
      "100%|██████████| 1033/1033 [00:08<00:00, 128.18it/s]\n"
     ]
    },
    {
     "name": "stdout",
     "output_type": "stream",
     "text": [
      "Iteration 25 Losses: {'ner': 102.48026799873941}\n"
     ]
    },
    {
     "name": "stderr",
     "output_type": "stream",
     "text": [
      "100%|██████████| 1033/1033 [00:07<00:00, 130.65it/s]\n"
     ]
    },
    {
     "name": "stdout",
     "output_type": "stream",
     "text": [
      "Iteration 26 Losses: {'ner': 104.41035903771079}\n"
     ]
    },
    {
     "name": "stderr",
     "output_type": "stream",
     "text": [
      "100%|██████████| 1033/1033 [00:07<00:00, 131.02it/s]\n"
     ]
    },
    {
     "name": "stdout",
     "output_type": "stream",
     "text": [
      "Iteration 27 Losses: {'ner': 111.53575737423623}\n"
     ]
    },
    {
     "name": "stderr",
     "output_type": "stream",
     "text": [
      "100%|██████████| 1033/1033 [00:08<00:00, 123.73it/s]\n"
     ]
    },
    {
     "name": "stdout",
     "output_type": "stream",
     "text": [
      "Iteration 28 Losses: {'ner': 105.09522747176547}\n"
     ]
    },
    {
     "name": "stderr",
     "output_type": "stream",
     "text": [
      "100%|██████████| 1033/1033 [00:08<00:00, 126.64it/s]\n"
     ]
    },
    {
     "name": "stdout",
     "output_type": "stream",
     "text": [
      "Iteration 29 Losses: {'ner': 123.68367019819748}\n"
     ]
    },
    {
     "name": "stderr",
     "output_type": "stream",
     "text": [
      "100%|██████████| 1033/1033 [00:07<00:00, 130.55it/s]\n"
     ]
    },
    {
     "name": "stdout",
     "output_type": "stream",
     "text": [
      "Iteration 30 Losses: {'ner': 108.81622363589939}\n"
     ]
    },
    {
     "name": "stderr",
     "output_type": "stream",
     "text": [
      "100%|██████████| 1033/1033 [00:07<00:00, 129.43it/s]\n"
     ]
    },
    {
     "name": "stdout",
     "output_type": "stream",
     "text": [
      "Iteration 31 Losses: {'ner': 96.1405321147261}\n"
     ]
    },
    {
     "name": "stderr",
     "output_type": "stream",
     "text": [
      "100%|██████████| 1033/1033 [00:08<00:00, 126.66it/s]\n"
     ]
    },
    {
     "name": "stdout",
     "output_type": "stream",
     "text": [
      "Iteration 32 Losses: {'ner': 122.07032217775965}\n"
     ]
    },
    {
     "name": "stderr",
     "output_type": "stream",
     "text": [
      "100%|██████████| 1033/1033 [00:07<00:00, 130.77it/s]\n"
     ]
    },
    {
     "name": "stdout",
     "output_type": "stream",
     "text": [
      "Iteration 33 Losses: {'ner': 99.86769400487735}\n"
     ]
    },
    {
     "name": "stderr",
     "output_type": "stream",
     "text": [
      "100%|██████████| 1033/1033 [00:08<00:00, 126.36it/s]\n"
     ]
    },
    {
     "name": "stdout",
     "output_type": "stream",
     "text": [
      "Iteration 34 Losses: {'ner': 123.41685847913716}\n"
     ]
    },
    {
     "name": "stderr",
     "output_type": "stream",
     "text": [
      "100%|██████████| 1033/1033 [00:08<00:00, 126.27it/s]\n"
     ]
    },
    {
     "name": "stdout",
     "output_type": "stream",
     "text": [
      "Iteration 35 Losses: {'ner': 105.84975120593717}\n"
     ]
    },
    {
     "name": "stderr",
     "output_type": "stream",
     "text": [
      "100%|██████████| 1033/1033 [00:08<00:00, 127.48it/s]\n"
     ]
    },
    {
     "name": "stdout",
     "output_type": "stream",
     "text": [
      "Iteration 36 Losses: {'ner': 104.70765361586622}\n"
     ]
    },
    {
     "name": "stderr",
     "output_type": "stream",
     "text": [
      "100%|██████████| 1033/1033 [00:08<00:00, 126.24it/s]\n"
     ]
    },
    {
     "name": "stdout",
     "output_type": "stream",
     "text": [
      "Iteration 37 Losses: {'ner': 115.59865287327173}\n"
     ]
    },
    {
     "name": "stderr",
     "output_type": "stream",
     "text": [
      "100%|██████████| 1033/1033 [00:08<00:00, 127.34it/s]\n"
     ]
    },
    {
     "name": "stdout",
     "output_type": "stream",
     "text": [
      "Iteration 38 Losses: {'ner': 113.94406796456633}\n"
     ]
    },
    {
     "name": "stderr",
     "output_type": "stream",
     "text": [
      "100%|██████████| 1033/1033 [00:08<00:00, 124.87it/s]\n"
     ]
    },
    {
     "name": "stdout",
     "output_type": "stream",
     "text": [
      "Iteration 39 Losses: {'ner': 115.70608822406638}\n"
     ]
    },
    {
     "name": "stderr",
     "output_type": "stream",
     "text": [
      "100%|██████████| 1033/1033 [00:08<00:00, 122.44it/s]\n"
     ]
    },
    {
     "name": "stdout",
     "output_type": "stream",
     "text": [
      "Iteration 40 Losses: {'ner': 78.10384894232496}\n"
     ]
    },
    {
     "name": "stderr",
     "output_type": "stream",
     "text": [
      "100%|██████████| 1033/1033 [00:08<00:00, 126.55it/s]\n"
     ]
    },
    {
     "name": "stdout",
     "output_type": "stream",
     "text": [
      "Iteration 41 Losses: {'ner': 87.59132501572384}\n"
     ]
    },
    {
     "name": "stderr",
     "output_type": "stream",
     "text": [
      "100%|██████████| 1033/1033 [00:08<00:00, 127.46it/s]\n"
     ]
    },
    {
     "name": "stdout",
     "output_type": "stream",
     "text": [
      "Iteration 42 Losses: {'ner': 98.88124969004843}\n"
     ]
    },
    {
     "name": "stderr",
     "output_type": "stream",
     "text": [
      "100%|██████████| 1033/1033 [00:08<00:00, 127.41it/s]\n"
     ]
    },
    {
     "name": "stdout",
     "output_type": "stream",
     "text": [
      "Iteration 43 Losses: {'ner': 88.75497940091607}\n"
     ]
    },
    {
     "name": "stderr",
     "output_type": "stream",
     "text": [
      "100%|██████████| 1033/1033 [00:08<00:00, 128.30it/s]\n"
     ]
    },
    {
     "name": "stdout",
     "output_type": "stream",
     "text": [
      "Iteration 44 Losses: {'ner': 101.58478006857567}\n"
     ]
    },
    {
     "name": "stderr",
     "output_type": "stream",
     "text": [
      "100%|██████████| 1033/1033 [00:08<00:00, 126.57it/s]\n"
     ]
    },
    {
     "name": "stdout",
     "output_type": "stream",
     "text": [
      "Iteration 45 Losses: {'ner': 86.09457833276696}\n"
     ]
    },
    {
     "name": "stderr",
     "output_type": "stream",
     "text": [
      "100%|██████████| 1033/1033 [00:08<00:00, 125.89it/s]\n"
     ]
    },
    {
     "name": "stdout",
     "output_type": "stream",
     "text": [
      "Iteration 46 Losses: {'ner': 96.68646715945934}\n"
     ]
    },
    {
     "name": "stderr",
     "output_type": "stream",
     "text": [
      "100%|██████████| 1033/1033 [00:08<00:00, 127.35it/s]\n"
     ]
    },
    {
     "name": "stdout",
     "output_type": "stream",
     "text": [
      "Iteration 47 Losses: {'ner': 87.90907568724109}\n"
     ]
    },
    {
     "name": "stderr",
     "output_type": "stream",
     "text": [
      "100%|██████████| 1033/1033 [00:08<00:00, 125.06it/s]\n"
     ]
    },
    {
     "name": "stdout",
     "output_type": "stream",
     "text": [
      "Iteration 48 Losses: {'ner': 96.01089329183154}\n"
     ]
    },
    {
     "name": "stderr",
     "output_type": "stream",
     "text": [
      "100%|██████████| 1033/1033 [00:08<00:00, 126.41it/s]"
     ]
    },
    {
     "name": "stdout",
     "output_type": "stream",
     "text": [
      "Iteration 49 Losses: {'ner': 82.35493677515262}\n",
      "Model saved to 'ner_model' directory.\n"
     ]
    },
    {
     "name": "stderr",
     "output_type": "stream",
     "text": [
      "\n"
     ]
    }
   ],
   "execution_count": 9
  },
  {
   "metadata": {},
   "cell_type": "code",
   "outputs": [],
   "execution_count": null,
   "source": "",
   "id": "ca51f779022e3fae"
  }
 ],
 "metadata": {
  "kernelspec": {
   "display_name": "Python 3",
   "language": "python",
   "name": "python3"
  },
  "language_info": {
   "codemirror_mode": {
    "name": "ipython",
    "version": 2
   },
   "file_extension": ".py",
   "mimetype": "text/x-python",
   "name": "python",
   "nbconvert_exporter": "python",
   "pygments_lexer": "ipython2",
   "version": "2.7.6"
  }
 },
 "nbformat": 4,
 "nbformat_minor": 5
}
