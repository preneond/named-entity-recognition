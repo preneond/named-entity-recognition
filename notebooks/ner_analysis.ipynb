{
 "cells": [
  {
   "metadata": {},
   "cell_type": "markdown",
   "source": "# NER Test Case",
   "id": "df9d68a9f0db783b"
  },
  {
   "metadata": {
    "ExecuteTime": {
     "end_time": "2024-09-15T20:43:39.843141Z",
     "start_time": "2024-09-15T20:43:39.809857Z"
    }
   },
   "cell_type": "code",
   "source": [
    "import pandas as pd\n",
    "\n",
    "data_path = \"../static/ds_ner_test_case.csv\"\n",
    "df = pd.read_csv(data_path)\n",
    "\n",
    "df.head()"
   ],
   "id": "initial_id",
   "outputs": [
    {
     "data": {
      "text/plain": [
       "                                         description  \\\n",
       "0  Das G56JR steckt voller Komponenten, deren Per...   \n",
       "1  Das IdeaPad Yoga 13 ist eines der ersten Ultra...   \n",
       "2  Das Lenovo Flex2-15 ist ein schlankes und leic...   \n",
       "3  Das Lenovo Flex2-15 ist ein schlankes und leic...   \n",
       "4  Das IdeaPad Yoga 13 ist eines der ersten Ultra...   \n",
       "\n",
       "                                          highlights  \\\n",
       "0   <b> Intel Core i7-4700HQ der vierten Generati...   \n",
       "1   <b> Ultrabook mit klappbarem Multitouch-Displ...   \n",
       "2   <b> 15,6\"-«Dual-Mode»-Notebook, schwarz</b> <...   \n",
       "3   <b> Erschwingliches 15,6\"-Dual-Mode-Notebook,...   \n",
       "4   <b> Ultrabook mit klappbarem Multitouch-Displ...   \n",
       "\n",
       "                             headline   Brand Speicherkapazität    Farbe  \\\n",
       "0                  ASUS G56JR-CN169H     Asus               NaN  Schwarz   \n",
       "1  LENOVO IdeaPad Yoga2 Pro 13 Orange  Lenovo               NaN   Orange   \n",
       "2     LENOVO IdeaPad Flex2-15 schwarz  Lenovo               NaN  Schwarz   \n",
       "3     LENOVO IdeaPad Flex2-15 schwarz  Lenovo               NaN  Schwarz   \n",
       "4  LENOVO IdeaPad Yoga2 Pro 13 Orange  Lenovo               NaN   Orange   \n",
       "\n",
       "   productId  \n",
       "0       52.0  \n",
       "1       87.0  \n",
       "2      100.0  \n",
       "3      101.0  \n",
       "4      107.0  "
      ],
      "text/html": [
       "<div>\n",
       "<style scoped>\n",
       "    .dataframe tbody tr th:only-of-type {\n",
       "        vertical-align: middle;\n",
       "    }\n",
       "\n",
       "    .dataframe tbody tr th {\n",
       "        vertical-align: top;\n",
       "    }\n",
       "\n",
       "    .dataframe thead th {\n",
       "        text-align: right;\n",
       "    }\n",
       "</style>\n",
       "<table border=\"1\" class=\"dataframe\">\n",
       "  <thead>\n",
       "    <tr style=\"text-align: right;\">\n",
       "      <th></th>\n",
       "      <th>description</th>\n",
       "      <th>highlights</th>\n",
       "      <th>headline</th>\n",
       "      <th>Brand</th>\n",
       "      <th>Speicherkapazität</th>\n",
       "      <th>Farbe</th>\n",
       "      <th>productId</th>\n",
       "    </tr>\n",
       "  </thead>\n",
       "  <tbody>\n",
       "    <tr>\n",
       "      <th>0</th>\n",
       "      <td>Das G56JR steckt voller Komponenten, deren Per...</td>\n",
       "      <td>&lt;b&gt; Intel Core i7-4700HQ der vierten Generati...</td>\n",
       "      <td>ASUS G56JR-CN169H</td>\n",
       "      <td>Asus</td>\n",
       "      <td>NaN</td>\n",
       "      <td>Schwarz</td>\n",
       "      <td>52.0</td>\n",
       "    </tr>\n",
       "    <tr>\n",
       "      <th>1</th>\n",
       "      <td>Das IdeaPad Yoga 13 ist eines der ersten Ultra...</td>\n",
       "      <td>&lt;b&gt; Ultrabook mit klappbarem Multitouch-Displ...</td>\n",
       "      <td>LENOVO IdeaPad Yoga2 Pro 13 Orange</td>\n",
       "      <td>Lenovo</td>\n",
       "      <td>NaN</td>\n",
       "      <td>Orange</td>\n",
       "      <td>87.0</td>\n",
       "    </tr>\n",
       "    <tr>\n",
       "      <th>2</th>\n",
       "      <td>Das Lenovo Flex2-15 ist ein schlankes und leic...</td>\n",
       "      <td>&lt;b&gt; 15,6\"-«Dual-Mode»-Notebook, schwarz&lt;/b&gt; &lt;...</td>\n",
       "      <td>LENOVO IdeaPad Flex2-15 schwarz</td>\n",
       "      <td>Lenovo</td>\n",
       "      <td>NaN</td>\n",
       "      <td>Schwarz</td>\n",
       "      <td>100.0</td>\n",
       "    </tr>\n",
       "    <tr>\n",
       "      <th>3</th>\n",
       "      <td>Das Lenovo Flex2-15 ist ein schlankes und leic...</td>\n",
       "      <td>&lt;b&gt; Erschwingliches 15,6\"-Dual-Mode-Notebook,...</td>\n",
       "      <td>LENOVO IdeaPad Flex2-15 schwarz</td>\n",
       "      <td>Lenovo</td>\n",
       "      <td>NaN</td>\n",
       "      <td>Schwarz</td>\n",
       "      <td>101.0</td>\n",
       "    </tr>\n",
       "    <tr>\n",
       "      <th>4</th>\n",
       "      <td>Das IdeaPad Yoga 13 ist eines der ersten Ultra...</td>\n",
       "      <td>&lt;b&gt; Ultrabook mit klappbarem Multitouch-Displ...</td>\n",
       "      <td>LENOVO IdeaPad Yoga2 Pro 13 Orange</td>\n",
       "      <td>Lenovo</td>\n",
       "      <td>NaN</td>\n",
       "      <td>Orange</td>\n",
       "      <td>107.0</td>\n",
       "    </tr>\n",
       "  </tbody>\n",
       "</table>\n",
       "</div>"
      ]
     },
     "execution_count": 2,
     "metadata": {},
     "output_type": "execute_result"
    }
   ],
   "execution_count": 2
  },
  {
   "metadata": {
    "ExecuteTime": {
     "end_time": "2024-09-16T08:16:50.271123Z",
     "start_time": "2024-09-16T08:16:50.259630Z"
    }
   },
   "cell_type": "code",
   "source": [
    "brands = df[\"Brand\"].unique()\n",
    "colors = df[\"Farbe\"].unique()\n",
    "storage_capacities = df[\"Speicherkapazität\"].unique()\n",
    "\n",
    "print(f\"{brands=}\\n\\n{colors=}\\n\\n{storage_capacities=}\")"
   ],
   "id": "47d38acb9561ba8",
   "outputs": [
    {
     "name": "stdout",
     "output_type": "stream",
     "text": [
      "brands=array(['Asus', 'Lenovo', 'Acer', 'Toshiba', 'Sony', 'Western Digital',\n",
      "       'Trust', 'HP', 'Keysonic', 'Samsung', 'Hama', 'Buffalo', 'WD',\n",
      "       'HUAWEI', 'Alcatel', 'ChiliGreen', 'ednet', 'Verbatim', 'HN Power',\n",
      "       'Dell', 'LogiLink', 'CAT', 'Seagate', 'WIKO', 'Renkforce',\n",
      "       'Transcend', 'Hitachi', 'Nokia', 'CHERRY', 'Hyper', 'Cellularline',\n",
      "       'Perixx', 'YOTA', 'Microsoft', 'honor', 'Tylt', 'Genius',\n",
      "       'Motorola', 'Phicomm', 'Gembird', 'V7 Videoseven', 'Kensington',\n",
      "       'Intenso', 'Belkin', 'Cyrus', 'Vivanco', 'Medion', 'Leitz',\n",
      "       'Huawei', 'Logitech', 'Kyocera', 'Odys', 'MadCatz', 'Rapoo',\n",
      "       'VPRO', 'ZTE', 'VOLTCRAFT', 'Apple', 'Dynabook', 'Skross',\n",
      "       'Manhattan', 'SpeedLink', 'Elgato', 'G-Technology', 'Digittrade',\n",
      "       'SanDisk', 'NZXT', 'Silverstone', 'Digitus', 'Zowie',\n",
      "       'Sound BlasterX', 'Archos', '3Dconnexion', 'Sharkoon', 'spiffy',\n",
      "       'Geemarc', 'MayaMax', 'Matias', 'TrekStor®', 'Crucial', 'Vakoss',\n",
      "       'Corsair', 'Omega', 'Lian Li', 'LaCie', 'Raspberry Pi®',\n",
      "       'Pro Mate', 'Hyundai', 'Crosscall', 'club3D', 'Contour Design'],\n",
      "      dtype=object)\n",
      "\n",
      "colors=array(['Schwarz', 'Orange', 'Silber', 'Pink', 'Gold', 'Weiß', nan, 'Blau',\n",
      "       'Rot', 'Gelb', 'Grün', 'Grau', 'braun', 'Lila', 'grau', 'Türkis',\n",
      "       'Koralle', 'Braun', 'blau', 'rot', 'schwarz', 'Silber/Weiß', 'Red',\n",
      "       'orange', 'weiß', 'Silber-Grau', 'Blue', 'Wildkirsche',\n",
      "       'Anthrazit', 'Schwarz-Neongelb', 'gold', 'Rauchgrau',\n",
      "       'Silber-Schwarz', 'grün', 'Aluminium', 'Graphite', 'Ruby', 'RGB',\n",
      "       'Hellblau', 'Weiß-Rot', 'Violett', 'Dunkelblau'], dtype=object)\n",
      "\n",
      "storage_capacities=array([nan, '1 TB', '2 TB', '3 TB', '4 TB', '750 GB', '512 GB', '4 GB',\n",
      "       '8 GB', '500 GB', '120 GB', '250 GB', '5 TB', '16 GB', '6 TB',\n",
      "       '240 GB', '480 GB', '960 GB', '8 TB', '32 GB', '64 GB', '128 GB',\n",
      "       '256 GB', '10 TB', '12 TB', '16 TB', '20 TB', '24 TB', '7.68 TB',\n",
      "       '3.84 TB', '1.92 TB', '96 TB', '72 TB', '64 TB', '32 TB', '36 TB',\n",
      "       '48 TB', '80 TB', '14 TB', '64'], dtype=object)\n"
     ]
    }
   ],
   "execution_count": 13
  },
  {
   "metadata": {},
   "cell_type": "markdown",
   "source": "## Data Preprocessing",
   "id": "1c62582fec934804"
  },
  {
   "metadata": {
    "ExecuteTime": {
     "end_time": "2024-09-15T20:43:44.532040Z",
     "start_time": "2024-09-15T20:43:44.492765Z"
    }
   },
   "cell_type": "code",
   "source": [
    "train_data = []\n",
    "for index, row in df.iterrows():\n",
    "    description = row['description']\n",
    "    brand = row['Brand']\n",
    "    storage = row['Speicherkapazität']\n",
    "    color = row['Farbe']\n",
    "\n",
    "    entities = []\n",
    "\n",
    "    # Add brand if present in description\n",
    "    if pd.notna(brand) and brand.lower() in description.lower():\n",
    "        start_idx = description.lower().index(brand.lower())\n",
    "        end_idx = start_idx + len(brand)\n",
    "        entities.append((start_idx, end_idx, \"Brand\"))\n",
    "    \n",
    "    # Add storage if present in description\n",
    "    if pd.notna(storage) and str(storage) in description:\n",
    "        start_idx = description.index(str(storage))\n",
    "        end_idx = start_idx + len(str(storage))\n",
    "        entities.append((start_idx, end_idx, \"Storage\"))\n",
    "    \n",
    "    # Add color if present in description\n",
    "    if pd.notna(color) and color.lower() in description.lower():\n",
    "        start_idx = description.lower().index(color.lower())\n",
    "        end_idx = start_idx + len(color)\n",
    "        entities.append((start_idx, end_idx, \"Color\"))\n",
    "    \n",
    "    if entities:\n",
    "        train_data.append((description, {\"entities\": entities}))"
   ],
   "id": "9c30c1aba504d5aa",
   "outputs": [],
   "execution_count": 4
  },
  {
   "metadata": {
    "ExecuteTime": {
     "end_time": "2024-09-16T07:41:27.567008Z",
     "start_time": "2024-09-16T07:41:27.535292Z"
    }
   },
   "cell_type": "code",
   "source": [
    "# Fix train data\n",
    "import spacy\n",
    "from spacy.training import offsets_to_biluo_tags\n",
    "# Load a blank German model\n",
    "nlp = spacy.blank(\"de\")\n",
    "\n",
    "train_data_fixed = []\n",
    "# fix the train data\n",
    "for text, annotations in train_data:\n",
    "        doc = nlp.make_doc(text)\n",
    "        entities = annotations.get(\"entities\")\n",
    "        try:\n",
    "            tags = offsets_to_biluo_tags(doc, entities)\n",
    "            if '-' not in tags:\n",
    "                train_data_fixed.append((text, annotations))\n",
    "        except ValueError:\n",
    "                # In case there's a problem converting to BILUO tags\n",
    "                print(f\"Skipping misaligned example: {text}\")"
   ],
   "id": "64fa9522d3e471b1",
   "outputs": [
    {
     "ename": "ImportError",
     "evalue": "[E048] Can't import language de_core_news_sm or any matching language from spacy.lang: No module named 'spacy.lang.de_core_news_sm'",
     "output_type": "error",
     "traceback": [
      "\u001B[0;31m---------------------------------------------------------------------------\u001B[0m",
      "\u001B[0;31mModuleNotFoundError\u001B[0m                       Traceback (most recent call last)",
      "File \u001B[0;32m~/Library/Caches/pypoetry/virtualenvs/named-entity-recognition-XgAZTi1c-py3.11/lib/python3.11/site-packages/spacy/util.py:361\u001B[0m, in \u001B[0;36mget_lang_class\u001B[0;34m(lang)\u001B[0m\n\u001B[1;32m    360\u001B[0m \u001B[38;5;28;01mtry\u001B[39;00m:\n\u001B[0;32m--> 361\u001B[0m     module \u001B[38;5;241m=\u001B[39m \u001B[43mimportlib\u001B[49m\u001B[38;5;241;43m.\u001B[39;49m\u001B[43mimport_module\u001B[49m\u001B[43m(\u001B[49m\u001B[38;5;124;43mf\u001B[39;49m\u001B[38;5;124;43m\"\u001B[39;49m\u001B[38;5;124;43m.lang.\u001B[39;49m\u001B[38;5;132;43;01m{\u001B[39;49;00m\u001B[43mlang\u001B[49m\u001B[38;5;132;43;01m}\u001B[39;49;00m\u001B[38;5;124;43m\"\u001B[39;49m\u001B[43m,\u001B[49m\u001B[43m \u001B[49m\u001B[38;5;124;43m\"\u001B[39;49m\u001B[38;5;124;43mspacy\u001B[39;49m\u001B[38;5;124;43m\"\u001B[39;49m\u001B[43m)\u001B[49m\n\u001B[1;32m    362\u001B[0m \u001B[38;5;28;01mexcept\u001B[39;00m \u001B[38;5;167;01mImportError\u001B[39;00m \u001B[38;5;28;01mas\u001B[39;00m err:\n\u001B[1;32m    363\u001B[0m     \u001B[38;5;66;03m# Find a matching language. For example, if the language 'no' is\u001B[39;00m\n\u001B[1;32m    364\u001B[0m     \u001B[38;5;66;03m# requested, we can use language-matching to load `spacy.lang.nb`.\u001B[39;00m\n",
      "File \u001B[0;32m/opt/homebrew/Cellar/python@3.11/3.11.7/Frameworks/Python.framework/Versions/3.11/lib/python3.11/importlib/__init__.py:126\u001B[0m, in \u001B[0;36mimport_module\u001B[0;34m(name, package)\u001B[0m\n\u001B[1;32m    125\u001B[0m         level \u001B[38;5;241m+\u001B[39m\u001B[38;5;241m=\u001B[39m \u001B[38;5;241m1\u001B[39m\n\u001B[0;32m--> 126\u001B[0m \u001B[38;5;28;01mreturn\u001B[39;00m \u001B[43m_bootstrap\u001B[49m\u001B[38;5;241;43m.\u001B[39;49m\u001B[43m_gcd_import\u001B[49m\u001B[43m(\u001B[49m\u001B[43mname\u001B[49m\u001B[43m[\u001B[49m\u001B[43mlevel\u001B[49m\u001B[43m:\u001B[49m\u001B[43m]\u001B[49m\u001B[43m,\u001B[49m\u001B[43m \u001B[49m\u001B[43mpackage\u001B[49m\u001B[43m,\u001B[49m\u001B[43m \u001B[49m\u001B[43mlevel\u001B[49m\u001B[43m)\u001B[49m\n",
      "File \u001B[0;32m<frozen importlib._bootstrap>:1204\u001B[0m, in \u001B[0;36m_gcd_import\u001B[0;34m(name, package, level)\u001B[0m\n",
      "File \u001B[0;32m<frozen importlib._bootstrap>:1176\u001B[0m, in \u001B[0;36m_find_and_load\u001B[0;34m(name, import_)\u001B[0m\n",
      "File \u001B[0;32m<frozen importlib._bootstrap>:1140\u001B[0m, in \u001B[0;36m_find_and_load_unlocked\u001B[0;34m(name, import_)\u001B[0m\n",
      "\u001B[0;31mModuleNotFoundError\u001B[0m: No module named 'spacy.lang.de_core_news_sm'",
      "\nThe above exception was the direct cause of the following exception:\n",
      "\u001B[0;31mImportError\u001B[0m                               Traceback (most recent call last)",
      "Cell \u001B[0;32mIn[12], line 6\u001B[0m\n\u001B[1;32m      3\u001B[0m \u001B[38;5;28;01mfrom\u001B[39;00m \u001B[38;5;21;01mspacy\u001B[39;00m\u001B[38;5;21;01m.\u001B[39;00m\u001B[38;5;21;01mtraining\u001B[39;00m \u001B[38;5;28;01mimport\u001B[39;00m offsets_to_biluo_tags\n\u001B[1;32m      4\u001B[0m \u001B[38;5;66;03m# Load a blank German model\u001B[39;00m\n\u001B[1;32m      5\u001B[0m \u001B[38;5;66;03m# nlp = spacy.blank(\"de\")\u001B[39;00m\n\u001B[0;32m----> 6\u001B[0m nlp \u001B[38;5;241m=\u001B[39m \u001B[43mspacy\u001B[49m\u001B[38;5;241;43m.\u001B[39;49m\u001B[43mblank\u001B[49m\u001B[43m(\u001B[49m\u001B[38;5;124;43m\"\u001B[39;49m\u001B[38;5;124;43mde_core_news_sm\u001B[39;49m\u001B[38;5;124;43m\"\u001B[39;49m\u001B[43m)\u001B[49m\n\u001B[1;32m      8\u001B[0m train_data_fixed \u001B[38;5;241m=\u001B[39m []\n\u001B[1;32m      9\u001B[0m \u001B[38;5;66;03m# fix the train data\u001B[39;00m\n",
      "File \u001B[0;32m~/Library/Caches/pypoetry/virtualenvs/named-entity-recognition-XgAZTi1c-py3.11/lib/python3.11/site-packages/spacy/__init__.py:76\u001B[0m, in \u001B[0;36mblank\u001B[0;34m(name, vocab, config, meta)\u001B[0m\n\u001B[1;32m     61\u001B[0m \u001B[38;5;28;01mdef\u001B[39;00m \u001B[38;5;21mblank\u001B[39m(\n\u001B[1;32m     62\u001B[0m     name: \u001B[38;5;28mstr\u001B[39m,\n\u001B[1;32m     63\u001B[0m     \u001B[38;5;241m*\u001B[39m,\n\u001B[0;32m   (...)\u001B[0m\n\u001B[1;32m     66\u001B[0m     meta: Dict[\u001B[38;5;28mstr\u001B[39m, Any] \u001B[38;5;241m=\u001B[39m util\u001B[38;5;241m.\u001B[39mSimpleFrozenDict(),\n\u001B[1;32m     67\u001B[0m ) \u001B[38;5;241m-\u001B[39m\u001B[38;5;241m>\u001B[39m Language:\n\u001B[1;32m     68\u001B[0m \u001B[38;5;250m    \u001B[39m\u001B[38;5;124;03m\"\"\"Create a blank nlp object for a given language code.\u001B[39;00m\n\u001B[1;32m     69\u001B[0m \n\u001B[1;32m     70\u001B[0m \u001B[38;5;124;03m    name (str): The language code, e.g. \"en\".\u001B[39;00m\n\u001B[0;32m   (...)\u001B[0m\n\u001B[1;32m     74\u001B[0m \u001B[38;5;124;03m    RETURNS (Language): The nlp object.\u001B[39;00m\n\u001B[1;32m     75\u001B[0m \u001B[38;5;124;03m    \"\"\"\u001B[39;00m\n\u001B[0;32m---> 76\u001B[0m     LangClass \u001B[38;5;241m=\u001B[39m \u001B[43mutil\u001B[49m\u001B[38;5;241;43m.\u001B[39;49m\u001B[43mget_lang_class\u001B[49m\u001B[43m(\u001B[49m\u001B[43mname\u001B[49m\u001B[43m)\u001B[49m\n\u001B[1;32m     77\u001B[0m     \u001B[38;5;66;03m# We should accept both dot notation and nested dict here for consistency\u001B[39;00m\n\u001B[1;32m     78\u001B[0m     config \u001B[38;5;241m=\u001B[39m util\u001B[38;5;241m.\u001B[39mdot_to_dict(config)\n",
      "File \u001B[0;32m~/Library/Caches/pypoetry/virtualenvs/named-entity-recognition-XgAZTi1c-py3.11/lib/python3.11/site-packages/spacy/util.py:375\u001B[0m, in \u001B[0;36mget_lang_class\u001B[0;34m(lang)\u001B[0m\n\u001B[1;32m    373\u001B[0m             module \u001B[38;5;241m=\u001B[39m importlib\u001B[38;5;241m.\u001B[39mimport_module(\u001B[38;5;124mf\u001B[39m\u001B[38;5;124m\"\u001B[39m\u001B[38;5;124m.lang.\u001B[39m\u001B[38;5;132;01m{\u001B[39;00mlang\u001B[38;5;132;01m}\u001B[39;00m\u001B[38;5;124m\"\u001B[39m, \u001B[38;5;124m\"\u001B[39m\u001B[38;5;124mspacy\u001B[39m\u001B[38;5;124m\"\u001B[39m)\n\u001B[1;32m    374\u001B[0m         \u001B[38;5;28;01melse\u001B[39;00m:\n\u001B[0;32m--> 375\u001B[0m             \u001B[38;5;28;01mraise\u001B[39;00m \u001B[38;5;167;01mImportError\u001B[39;00m(Errors\u001B[38;5;241m.\u001B[39mE048\u001B[38;5;241m.\u001B[39mformat(lang\u001B[38;5;241m=\u001B[39mlang, err\u001B[38;5;241m=\u001B[39merr)) \u001B[38;5;28;01mfrom\u001B[39;00m \u001B[38;5;21;01merr\u001B[39;00m\n\u001B[1;32m    376\u001B[0m     set_lang_class(lang, \u001B[38;5;28mgetattr\u001B[39m(module, module\u001B[38;5;241m.\u001B[39m__all__[\u001B[38;5;241m0\u001B[39m]))  \u001B[38;5;66;03m# type: ignore[attr-defined]\u001B[39;00m\n\u001B[1;32m    377\u001B[0m \u001B[38;5;28;01mreturn\u001B[39;00m registry\u001B[38;5;241m.\u001B[39mlanguages\u001B[38;5;241m.\u001B[39mget(lang)\n",
      "\u001B[0;31mImportError\u001B[0m: [E048] Can't import language de_core_news_sm or any matching language from spacy.lang: No module named 'spacy.lang.de_core_news_sm'"
     ]
    }
   ],
   "execution_count": 12
  },
  {
   "metadata": {
    "ExecuteTime": {
     "end_time": "2024-09-15T20:43:58.281572Z",
     "start_time": "2024-09-15T20:43:58.279583Z"
    }
   },
   "cell_type": "code",
   "source": "print(f\"{len(train_data)=} vs {len(train_data_fixed)=}\")",
   "id": "7a08ffcdd8bbba65",
   "outputs": [
    {
     "name": "stdout",
     "output_type": "stream",
     "text": [
      "len(train_data)=775 vs len(train_data_fixed)=690\n"
     ]
    }
   ],
   "execution_count": 8
  },
  {
   "metadata": {},
   "cell_type": "markdown",
   "source": "## Training NER Model",
   "id": "86ca6ad3ce235278"
  },
  {
   "metadata": {
    "ExecuteTime": {
     "end_time": "2024-09-16T07:38:14.003335Z",
     "start_time": "2024-09-16T07:38:11.046791Z"
    }
   },
   "cell_type": "code",
   "source": [
    "from tqdm import tqdm\n",
    "from spacy.training import Example\n",
    "import random\n",
    "\n",
    "# Add NER pipeline to the model\n",
    "if \"ner\" not in nlp.pipe_names:\n",
    "    ner = nlp.add_pipe(\"ner\")\n",
    "else:\n",
    "    ner = nlp.get_pipe(\"ner\")\n",
    "\n",
    "# Add the entity labels to the NER pipeline\n",
    "ner.add_label(\"Brand\")\n",
    "ner.add_label(\"Storage\")\n",
    "ner.add_label(\"Color\")\n",
    "\n",
    "# Begin training the NER model\n",
    "optimizer = nlp.begin_training()\n",
    "\n",
    "# Number of training iterations\n",
    "n_iter = 50\n",
    "\n",
    "# Disable other pipelines during training (since we're only interested in 'ner')\n",
    "other_pipes = [pipe for pipe in nlp.pipe_names if pipe != \"ner\"]\n",
    "with nlp.disable_pipes(*other_pipes):  # Only train NER \n",
    "    for iteration in range(n_iter):\n",
    "        random.shuffle(train_data_fixed)  # Shuffle the training data\n",
    "        losses = {}\n",
    "        \n",
    "        for i in tqdm(range(len(train_data_fixed))):\n",
    "            text, annotations = train_data_fixed[i]\n",
    "            # Create Example object for the training data\n",
    "            example = Example.from_dict(nlp.make_doc(text), annotations)\n",
    "            \n",
    "            # Update the model\n",
    "            nlp.update([example], drop=0.5, losses=losses)\n",
    "        \n",
    "        print(f\"Iteration {iteration} Losses: {losses}\")\n",
    "\n",
    "# Save the model to disk\n",
    "nlp.to_disk(\"../static/ner_model_de\")\n",
    "print(\"Model saved to 'ner_model' directory.\")"
   ],
   "id": "74943bbfc7ccee4a",
   "outputs": [
    {
     "name": "stderr",
     "output_type": "stream",
     "text": [
      "  4%|▍         | 31/690 [00:02<00:54, 12.08it/s]\n"
     ]
    },
    {
     "ename": "KeyboardInterrupt",
     "evalue": "",
     "output_type": "error",
     "traceback": [
      "\u001B[0;31m---------------------------------------------------------------------------\u001B[0m",
      "\u001B[0;31mKeyboardInterrupt\u001B[0m                         Traceback (most recent call last)",
      "Cell \u001B[0;32mIn[10], line 35\u001B[0m\n\u001B[1;32m     32\u001B[0m             example \u001B[38;5;241m=\u001B[39m Example\u001B[38;5;241m.\u001B[39mfrom_dict(nlp\u001B[38;5;241m.\u001B[39mmake_doc(text), annotations)\n\u001B[1;32m     34\u001B[0m             \u001B[38;5;66;03m# Update the model\u001B[39;00m\n\u001B[0;32m---> 35\u001B[0m             \u001B[43mnlp\u001B[49m\u001B[38;5;241;43m.\u001B[39;49m\u001B[43mupdate\u001B[49m\u001B[43m(\u001B[49m\u001B[43m[\u001B[49m\u001B[43mexample\u001B[49m\u001B[43m]\u001B[49m\u001B[43m,\u001B[49m\u001B[43m \u001B[49m\u001B[43mdrop\u001B[49m\u001B[38;5;241;43m=\u001B[39;49m\u001B[38;5;241;43m0.5\u001B[39;49m\u001B[43m,\u001B[49m\u001B[43m \u001B[49m\u001B[43mlosses\u001B[49m\u001B[38;5;241;43m=\u001B[39;49m\u001B[43mlosses\u001B[49m\u001B[43m)\u001B[49m\n\u001B[1;32m     37\u001B[0m         \u001B[38;5;28mprint\u001B[39m(\u001B[38;5;124mf\u001B[39m\u001B[38;5;124m\"\u001B[39m\u001B[38;5;124mIteration \u001B[39m\u001B[38;5;132;01m{\u001B[39;00miteration\u001B[38;5;132;01m}\u001B[39;00m\u001B[38;5;124m Losses: \u001B[39m\u001B[38;5;132;01m{\u001B[39;00mlosses\u001B[38;5;132;01m}\u001B[39;00m\u001B[38;5;124m\"\u001B[39m)\n\u001B[1;32m     39\u001B[0m \u001B[38;5;66;03m# Save the model to disk\u001B[39;00m\n",
      "File \u001B[0;32m~/Library/Caches/pypoetry/virtualenvs/named-entity-recognition-XgAZTi1c-py3.11/lib/python3.11/site-packages/spacy/language.py:1193\u001B[0m, in \u001B[0;36mLanguage.update\u001B[0;34m(self, examples, _, drop, sgd, losses, component_cfg, exclude, annotates)\u001B[0m\n\u001B[1;32m   1190\u001B[0m \u001B[38;5;28;01mfor\u001B[39;00m name, proc \u001B[38;5;129;01min\u001B[39;00m \u001B[38;5;28mself\u001B[39m\u001B[38;5;241m.\u001B[39mpipeline:\n\u001B[1;32m   1191\u001B[0m     \u001B[38;5;66;03m# ignore statements are used here because mypy ignores hasattr\u001B[39;00m\n\u001B[1;32m   1192\u001B[0m     \u001B[38;5;28;01mif\u001B[39;00m name \u001B[38;5;129;01mnot\u001B[39;00m \u001B[38;5;129;01min\u001B[39;00m exclude \u001B[38;5;129;01mand\u001B[39;00m \u001B[38;5;28mhasattr\u001B[39m(proc, \u001B[38;5;124m\"\u001B[39m\u001B[38;5;124mupdate\u001B[39m\u001B[38;5;124m\"\u001B[39m):\n\u001B[0;32m-> 1193\u001B[0m         \u001B[43mproc\u001B[49m\u001B[38;5;241;43m.\u001B[39;49m\u001B[43mupdate\u001B[49m\u001B[43m(\u001B[49m\u001B[43mexamples\u001B[49m\u001B[43m,\u001B[49m\u001B[43m \u001B[49m\u001B[43msgd\u001B[49m\u001B[38;5;241;43m=\u001B[39;49m\u001B[38;5;28;43;01mNone\u001B[39;49;00m\u001B[43m,\u001B[49m\u001B[43m \u001B[49m\u001B[43mlosses\u001B[49m\u001B[38;5;241;43m=\u001B[39;49m\u001B[43mlosses\u001B[49m\u001B[43m,\u001B[49m\u001B[43m \u001B[49m\u001B[38;5;241;43m*\u001B[39;49m\u001B[38;5;241;43m*\u001B[39;49m\u001B[43mcomponent_cfg\u001B[49m\u001B[43m[\u001B[49m\u001B[43mname\u001B[49m\u001B[43m]\u001B[49m\u001B[43m)\u001B[49m  \u001B[38;5;66;03m# type: ignore\u001B[39;00m\n\u001B[1;32m   1194\u001B[0m     \u001B[38;5;28;01mif\u001B[39;00m sgd \u001B[38;5;129;01mnot\u001B[39;00m \u001B[38;5;129;01min\u001B[39;00m (\u001B[38;5;28;01mNone\u001B[39;00m, \u001B[38;5;28;01mFalse\u001B[39;00m):\n\u001B[1;32m   1195\u001B[0m         \u001B[38;5;28;01mif\u001B[39;00m (\n\u001B[1;32m   1196\u001B[0m             name \u001B[38;5;129;01mnot\u001B[39;00m \u001B[38;5;129;01min\u001B[39;00m exclude\n\u001B[1;32m   1197\u001B[0m             \u001B[38;5;129;01mand\u001B[39;00m \u001B[38;5;28misinstance\u001B[39m(proc, ty\u001B[38;5;241m.\u001B[39mTrainableComponent)\n\u001B[1;32m   1198\u001B[0m             \u001B[38;5;129;01mand\u001B[39;00m proc\u001B[38;5;241m.\u001B[39mis_trainable\n\u001B[1;32m   1199\u001B[0m             \u001B[38;5;129;01mand\u001B[39;00m proc\u001B[38;5;241m.\u001B[39mmodel \u001B[38;5;129;01mnot\u001B[39;00m \u001B[38;5;129;01min\u001B[39;00m (\u001B[38;5;28;01mTrue\u001B[39;00m, \u001B[38;5;28;01mFalse\u001B[39;00m, \u001B[38;5;28;01mNone\u001B[39;00m)\n\u001B[1;32m   1200\u001B[0m         ):\n",
      "File \u001B[0;32m~/Library/Caches/pypoetry/virtualenvs/named-entity-recognition-XgAZTi1c-py3.11/lib/python3.11/site-packages/spacy/pipeline/transition_parser.pyx:439\u001B[0m, in \u001B[0;36mspacy.pipeline.transition_parser.Parser.update\u001B[0;34m()\u001B[0m\n",
      "File \u001B[0;32m~/Library/Caches/pypoetry/virtualenvs/named-entity-recognition-XgAZTi1c-py3.11/lib/python3.11/site-packages/spacy/ml/parser_model.pyx:334\u001B[0m, in \u001B[0;36mspacy.ml.parser_model.ParserStepModel.finish_steps\u001B[0;34m()\u001B[0m\n",
      "File \u001B[0;32m~/Library/Caches/pypoetry/virtualenvs/named-entity-recognition-XgAZTi1c-py3.11/lib/python3.11/site-packages/thinc/layers/chain.py:60\u001B[0m, in \u001B[0;36mforward.<locals>.backprop\u001B[0;34m(dY)\u001B[0m\n\u001B[1;32m     58\u001B[0m \u001B[38;5;28;01mdef\u001B[39;00m \u001B[38;5;21mbackprop\u001B[39m(dY: OutT) \u001B[38;5;241m-\u001B[39m\u001B[38;5;241m>\u001B[39m InT:\n\u001B[1;32m     59\u001B[0m     \u001B[38;5;28;01mfor\u001B[39;00m callback \u001B[38;5;129;01min\u001B[39;00m \u001B[38;5;28mreversed\u001B[39m(callbacks):\n\u001B[0;32m---> 60\u001B[0m         dX \u001B[38;5;241m=\u001B[39m \u001B[43mcallback\u001B[49m\u001B[43m(\u001B[49m\u001B[43mdY\u001B[49m\u001B[43m)\u001B[49m\n\u001B[1;32m     61\u001B[0m         dY \u001B[38;5;241m=\u001B[39m dX\n\u001B[1;32m     62\u001B[0m     \u001B[38;5;28;01mreturn\u001B[39;00m dX\n",
      "File \u001B[0;32m~/Library/Caches/pypoetry/virtualenvs/named-entity-recognition-XgAZTi1c-py3.11/lib/python3.11/site-packages/thinc/layers/chain.py:60\u001B[0m, in \u001B[0;36mforward.<locals>.backprop\u001B[0;34m(dY)\u001B[0m\n\u001B[1;32m     58\u001B[0m \u001B[38;5;28;01mdef\u001B[39;00m \u001B[38;5;21mbackprop\u001B[39m(dY: OutT) \u001B[38;5;241m-\u001B[39m\u001B[38;5;241m>\u001B[39m InT:\n\u001B[1;32m     59\u001B[0m     \u001B[38;5;28;01mfor\u001B[39;00m callback \u001B[38;5;129;01min\u001B[39;00m \u001B[38;5;28mreversed\u001B[39m(callbacks):\n\u001B[0;32m---> 60\u001B[0m         dX \u001B[38;5;241m=\u001B[39m \u001B[43mcallback\u001B[49m\u001B[43m(\u001B[49m\u001B[43mdY\u001B[49m\u001B[43m)\u001B[49m\n\u001B[1;32m     61\u001B[0m         dY \u001B[38;5;241m=\u001B[39m dX\n\u001B[1;32m     62\u001B[0m     \u001B[38;5;28;01mreturn\u001B[39;00m dX\n",
      "File \u001B[0;32m~/Library/Caches/pypoetry/virtualenvs/named-entity-recognition-XgAZTi1c-py3.11/lib/python3.11/site-packages/thinc/layers/with_array.py:81\u001B[0m, in \u001B[0;36m_list_forward.<locals>.backprop\u001B[0;34m(dYs)\u001B[0m\n\u001B[1;32m     79\u001B[0m \u001B[38;5;28;01mdef\u001B[39;00m \u001B[38;5;21mbackprop\u001B[39m(dYs: ListXd) \u001B[38;5;241m-\u001B[39m\u001B[38;5;241m>\u001B[39m ListXd:\n\u001B[1;32m     80\u001B[0m     dYf \u001B[38;5;241m=\u001B[39m layer\u001B[38;5;241m.\u001B[39mops\u001B[38;5;241m.\u001B[39mflatten(dYs, pad\u001B[38;5;241m=\u001B[39mpad)\n\u001B[0;32m---> 81\u001B[0m     dXf \u001B[38;5;241m=\u001B[39m \u001B[43mget_dXf\u001B[49m\u001B[43m(\u001B[49m\u001B[43mdYf\u001B[49m\u001B[43m)\u001B[49m\n\u001B[1;32m     82\u001B[0m     \u001B[38;5;28;01mreturn\u001B[39;00m layer\u001B[38;5;241m.\u001B[39mops\u001B[38;5;241m.\u001B[39munflatten(dXf, lengths, pad\u001B[38;5;241m=\u001B[39mpad)\n",
      "File \u001B[0;32m~/Library/Caches/pypoetry/virtualenvs/named-entity-recognition-XgAZTi1c-py3.11/lib/python3.11/site-packages/thinc/layers/chain.py:60\u001B[0m, in \u001B[0;36mforward.<locals>.backprop\u001B[0;34m(dY)\u001B[0m\n\u001B[1;32m     58\u001B[0m \u001B[38;5;28;01mdef\u001B[39;00m \u001B[38;5;21mbackprop\u001B[39m(dY: OutT) \u001B[38;5;241m-\u001B[39m\u001B[38;5;241m>\u001B[39m InT:\n\u001B[1;32m     59\u001B[0m     \u001B[38;5;28;01mfor\u001B[39;00m callback \u001B[38;5;129;01min\u001B[39;00m \u001B[38;5;28mreversed\u001B[39m(callbacks):\n\u001B[0;32m---> 60\u001B[0m         dX \u001B[38;5;241m=\u001B[39m \u001B[43mcallback\u001B[49m\u001B[43m(\u001B[49m\u001B[43mdY\u001B[49m\u001B[43m)\u001B[49m\n\u001B[1;32m     61\u001B[0m         dY \u001B[38;5;241m=\u001B[39m dX\n\u001B[1;32m     62\u001B[0m     \u001B[38;5;28;01mreturn\u001B[39;00m dX\n",
      "File \u001B[0;32m~/Library/Caches/pypoetry/virtualenvs/named-entity-recognition-XgAZTi1c-py3.11/lib/python3.11/site-packages/thinc/layers/residual.py:30\u001B[0m, in \u001B[0;36mforward.<locals>.backprop\u001B[0;34m(d_output)\u001B[0m\n\u001B[1;32m     29\u001B[0m \u001B[38;5;28;01mdef\u001B[39;00m \u001B[38;5;21mbackprop\u001B[39m(d_output: InT) \u001B[38;5;241m-\u001B[39m\u001B[38;5;241m>\u001B[39m InT:\n\u001B[0;32m---> 30\u001B[0m     dX \u001B[38;5;241m=\u001B[39m \u001B[43mbackprop_layer\u001B[49m\u001B[43m(\u001B[49m\u001B[43md_output\u001B[49m\u001B[43m)\u001B[49m\n\u001B[1;32m     31\u001B[0m     \u001B[38;5;28;01mif\u001B[39;00m \u001B[38;5;28misinstance\u001B[39m(d_output, \u001B[38;5;28mlist\u001B[39m):\n\u001B[1;32m     32\u001B[0m         \u001B[38;5;28;01mreturn\u001B[39;00m [d_output[i] \u001B[38;5;241m+\u001B[39m dX[i] \u001B[38;5;28;01mfor\u001B[39;00m i \u001B[38;5;129;01min\u001B[39;00m \u001B[38;5;28mrange\u001B[39m(\u001B[38;5;28mlen\u001B[39m(d_output))]\n",
      "File \u001B[0;32m~/Library/Caches/pypoetry/virtualenvs/named-entity-recognition-XgAZTi1c-py3.11/lib/python3.11/site-packages/thinc/layers/chain.py:60\u001B[0m, in \u001B[0;36mforward.<locals>.backprop\u001B[0;34m(dY)\u001B[0m\n\u001B[1;32m     58\u001B[0m \u001B[38;5;28;01mdef\u001B[39;00m \u001B[38;5;21mbackprop\u001B[39m(dY: OutT) \u001B[38;5;241m-\u001B[39m\u001B[38;5;241m>\u001B[39m InT:\n\u001B[1;32m     59\u001B[0m     \u001B[38;5;28;01mfor\u001B[39;00m callback \u001B[38;5;129;01min\u001B[39;00m \u001B[38;5;28mreversed\u001B[39m(callbacks):\n\u001B[0;32m---> 60\u001B[0m         dX \u001B[38;5;241m=\u001B[39m \u001B[43mcallback\u001B[49m\u001B[43m(\u001B[49m\u001B[43mdY\u001B[49m\u001B[43m)\u001B[49m\n\u001B[1;32m     61\u001B[0m         dY \u001B[38;5;241m=\u001B[39m dX\n\u001B[1;32m     62\u001B[0m     \u001B[38;5;28;01mreturn\u001B[39;00m dX\n",
      "File \u001B[0;32m~/Library/Caches/pypoetry/virtualenvs/named-entity-recognition-XgAZTi1c-py3.11/lib/python3.11/site-packages/thinc/layers/chain.py:60\u001B[0m, in \u001B[0;36mforward.<locals>.backprop\u001B[0;34m(dY)\u001B[0m\n\u001B[1;32m     58\u001B[0m \u001B[38;5;28;01mdef\u001B[39;00m \u001B[38;5;21mbackprop\u001B[39m(dY: OutT) \u001B[38;5;241m-\u001B[39m\u001B[38;5;241m>\u001B[39m InT:\n\u001B[1;32m     59\u001B[0m     \u001B[38;5;28;01mfor\u001B[39;00m callback \u001B[38;5;129;01min\u001B[39;00m \u001B[38;5;28mreversed\u001B[39m(callbacks):\n\u001B[0;32m---> 60\u001B[0m         dX \u001B[38;5;241m=\u001B[39m \u001B[43mcallback\u001B[49m\u001B[43m(\u001B[49m\u001B[43mdY\u001B[49m\u001B[43m)\u001B[49m\n\u001B[1;32m     61\u001B[0m         dY \u001B[38;5;241m=\u001B[39m dX\n\u001B[1;32m     62\u001B[0m     \u001B[38;5;28;01mreturn\u001B[39;00m dX\n",
      "File \u001B[0;32m~/Library/Caches/pypoetry/virtualenvs/named-entity-recognition-XgAZTi1c-py3.11/lib/python3.11/site-packages/thinc/layers/chain.py:60\u001B[0m, in \u001B[0;36mforward.<locals>.backprop\u001B[0;34m(dY)\u001B[0m\n\u001B[1;32m     58\u001B[0m \u001B[38;5;28;01mdef\u001B[39;00m \u001B[38;5;21mbackprop\u001B[39m(dY: OutT) \u001B[38;5;241m-\u001B[39m\u001B[38;5;241m>\u001B[39m InT:\n\u001B[1;32m     59\u001B[0m     \u001B[38;5;28;01mfor\u001B[39;00m callback \u001B[38;5;129;01min\u001B[39;00m \u001B[38;5;28mreversed\u001B[39m(callbacks):\n\u001B[0;32m---> 60\u001B[0m         dX \u001B[38;5;241m=\u001B[39m \u001B[43mcallback\u001B[49m\u001B[43m(\u001B[49m\u001B[43mdY\u001B[49m\u001B[43m)\u001B[49m\n\u001B[1;32m     61\u001B[0m         dY \u001B[38;5;241m=\u001B[39m dX\n\u001B[1;32m     62\u001B[0m     \u001B[38;5;28;01mreturn\u001B[39;00m dX\n",
      "File \u001B[0;32m~/Library/Caches/pypoetry/virtualenvs/named-entity-recognition-XgAZTi1c-py3.11/lib/python3.11/site-packages/thinc/layers/maxout.py:62\u001B[0m, in \u001B[0;36mforward.<locals>.backprop\u001B[0;34m(d_best)\u001B[0m\n\u001B[1;32m     60\u001B[0m model\u001B[38;5;241m.\u001B[39minc_grad(\u001B[38;5;124m\"\u001B[39m\u001B[38;5;124mb\u001B[39m\u001B[38;5;124m\"\u001B[39m, dZ\u001B[38;5;241m.\u001B[39msum(axis\u001B[38;5;241m=\u001B[39m\u001B[38;5;241m0\u001B[39m))  \u001B[38;5;66;03m# type: ignore[call-overload]\u001B[39;00m\n\u001B[1;32m     61\u001B[0m dY \u001B[38;5;241m=\u001B[39m model\u001B[38;5;241m.\u001B[39mops\u001B[38;5;241m.\u001B[39mreshape2f(dZ, dZ\u001B[38;5;241m.\u001B[39mshape[\u001B[38;5;241m0\u001B[39m], nO \u001B[38;5;241m*\u001B[39m nP)\n\u001B[0;32m---> 62\u001B[0m dW \u001B[38;5;241m=\u001B[39m model\u001B[38;5;241m.\u001B[39mops\u001B[38;5;241m.\u001B[39mreshape3f(\u001B[43mmodel\u001B[49m\u001B[38;5;241;43m.\u001B[39;49m\u001B[43mops\u001B[49m\u001B[38;5;241;43m.\u001B[39;49m\u001B[43mgemm\u001B[49m\u001B[43m(\u001B[49m\u001B[43mdY\u001B[49m\u001B[43m,\u001B[49m\u001B[43m \u001B[49m\u001B[43mX\u001B[49m\u001B[43m,\u001B[49m\u001B[43m \u001B[49m\u001B[43mtrans1\u001B[49m\u001B[38;5;241;43m=\u001B[39;49m\u001B[38;5;28;43;01mTrue\u001B[39;49;00m\u001B[43m)\u001B[49m, nO, nP, nI)\n\u001B[1;32m     63\u001B[0m model\u001B[38;5;241m.\u001B[39minc_grad(\u001B[38;5;124m\"\u001B[39m\u001B[38;5;124mW\u001B[39m\u001B[38;5;124m\"\u001B[39m, dW)\n\u001B[1;32m     64\u001B[0m \u001B[38;5;28;01mreturn\u001B[39;00m model\u001B[38;5;241m.\u001B[39mops\u001B[38;5;241m.\u001B[39mgemm(dY, model\u001B[38;5;241m.\u001B[39mops\u001B[38;5;241m.\u001B[39mreshape2f(W, nO \u001B[38;5;241m*\u001B[39m nP, nI))\n",
      "\u001B[0;31mKeyboardInterrupt\u001B[0m: "
     ]
    }
   ],
   "execution_count": 10
  }
 ],
 "metadata": {
  "kernelspec": {
   "display_name": "Python 3",
   "language": "python",
   "name": "python3"
  },
  "language_info": {
   "codemirror_mode": {
    "name": "ipython",
    "version": 2
   },
   "file_extension": ".py",
   "mimetype": "text/x-python",
   "name": "python",
   "nbconvert_exporter": "python",
   "pygments_lexer": "ipython2",
   "version": "2.7.6"
  }
 },
 "nbformat": 4,
 "nbformat_minor": 5
}
