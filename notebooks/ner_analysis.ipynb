{
 "cells": [
  {
   "metadata": {},
   "cell_type": "markdown",
   "source": "# NER Test Case",
   "id": "df9d68a9f0db783b"
  },
  {
   "metadata": {
    "ExecuteTime": {
     "end_time": "2024-09-20T07:34:04.292860Z",
     "start_time": "2024-09-20T07:34:04.266563Z"
    }
   },
   "cell_type": "code",
   "source": [
    "import pandas as pd\n",
    "\n",
    "data_path = \"../static/ds_ner_test_case.csv\"\n",
    "df = pd.read_csv(data_path)\n",
    "\n",
    "df.head()"
   ],
   "id": "initial_id",
   "outputs": [
    {
     "data": {
      "text/plain": [
       "                                         description  \\\n",
       "0  Das G56JR steckt voller Komponenten, deren Per...   \n",
       "1  Das IdeaPad Yoga 13 ist eines der ersten Ultra...   \n",
       "2  Das Lenovo Flex2-15 ist ein schlankes und leic...   \n",
       "3  Das Lenovo Flex2-15 ist ein schlankes und leic...   \n",
       "4  Das IdeaPad Yoga 13 ist eines der ersten Ultra...   \n",
       "\n",
       "                                          highlights  \\\n",
       "0   <b> Intel Core i7-4700HQ der vierten Generati...   \n",
       "1   <b> Ultrabook mit klappbarem Multitouch-Displ...   \n",
       "2   <b> 15,6\"-«Dual-Mode»-Notebook, schwarz</b> <...   \n",
       "3   <b> Erschwingliches 15,6\"-Dual-Mode-Notebook,...   \n",
       "4   <b> Ultrabook mit klappbarem Multitouch-Displ...   \n",
       "\n",
       "                             headline   Brand Speicherkapazität    Farbe  \\\n",
       "0                  ASUS G56JR-CN169H     Asus               NaN  Schwarz   \n",
       "1  LENOVO IdeaPad Yoga2 Pro 13 Orange  Lenovo               NaN   Orange   \n",
       "2     LENOVO IdeaPad Flex2-15 schwarz  Lenovo               NaN  Schwarz   \n",
       "3     LENOVO IdeaPad Flex2-15 schwarz  Lenovo               NaN  Schwarz   \n",
       "4  LENOVO IdeaPad Yoga2 Pro 13 Orange  Lenovo               NaN   Orange   \n",
       "\n",
       "   productId  \n",
       "0       52.0  \n",
       "1       87.0  \n",
       "2      100.0  \n",
       "3      101.0  \n",
       "4      107.0  "
      ],
      "text/html": [
       "<div>\n",
       "<style scoped>\n",
       "    .dataframe tbody tr th:only-of-type {\n",
       "        vertical-align: middle;\n",
       "    }\n",
       "\n",
       "    .dataframe tbody tr th {\n",
       "        vertical-align: top;\n",
       "    }\n",
       "\n",
       "    .dataframe thead th {\n",
       "        text-align: right;\n",
       "    }\n",
       "</style>\n",
       "<table border=\"1\" class=\"dataframe\">\n",
       "  <thead>\n",
       "    <tr style=\"text-align: right;\">\n",
       "      <th></th>\n",
       "      <th>description</th>\n",
       "      <th>highlights</th>\n",
       "      <th>headline</th>\n",
       "      <th>Brand</th>\n",
       "      <th>Speicherkapazität</th>\n",
       "      <th>Farbe</th>\n",
       "      <th>productId</th>\n",
       "    </tr>\n",
       "  </thead>\n",
       "  <tbody>\n",
       "    <tr>\n",
       "      <th>0</th>\n",
       "      <td>Das G56JR steckt voller Komponenten, deren Per...</td>\n",
       "      <td>&lt;b&gt; Intel Core i7-4700HQ der vierten Generati...</td>\n",
       "      <td>ASUS G56JR-CN169H</td>\n",
       "      <td>Asus</td>\n",
       "      <td>NaN</td>\n",
       "      <td>Schwarz</td>\n",
       "      <td>52.0</td>\n",
       "    </tr>\n",
       "    <tr>\n",
       "      <th>1</th>\n",
       "      <td>Das IdeaPad Yoga 13 ist eines der ersten Ultra...</td>\n",
       "      <td>&lt;b&gt; Ultrabook mit klappbarem Multitouch-Displ...</td>\n",
       "      <td>LENOVO IdeaPad Yoga2 Pro 13 Orange</td>\n",
       "      <td>Lenovo</td>\n",
       "      <td>NaN</td>\n",
       "      <td>Orange</td>\n",
       "      <td>87.0</td>\n",
       "    </tr>\n",
       "    <tr>\n",
       "      <th>2</th>\n",
       "      <td>Das Lenovo Flex2-15 ist ein schlankes und leic...</td>\n",
       "      <td>&lt;b&gt; 15,6\"-«Dual-Mode»-Notebook, schwarz&lt;/b&gt; &lt;...</td>\n",
       "      <td>LENOVO IdeaPad Flex2-15 schwarz</td>\n",
       "      <td>Lenovo</td>\n",
       "      <td>NaN</td>\n",
       "      <td>Schwarz</td>\n",
       "      <td>100.0</td>\n",
       "    </tr>\n",
       "    <tr>\n",
       "      <th>3</th>\n",
       "      <td>Das Lenovo Flex2-15 ist ein schlankes und leic...</td>\n",
       "      <td>&lt;b&gt; Erschwingliches 15,6\"-Dual-Mode-Notebook,...</td>\n",
       "      <td>LENOVO IdeaPad Flex2-15 schwarz</td>\n",
       "      <td>Lenovo</td>\n",
       "      <td>NaN</td>\n",
       "      <td>Schwarz</td>\n",
       "      <td>101.0</td>\n",
       "    </tr>\n",
       "    <tr>\n",
       "      <th>4</th>\n",
       "      <td>Das IdeaPad Yoga 13 ist eines der ersten Ultra...</td>\n",
       "      <td>&lt;b&gt; Ultrabook mit klappbarem Multitouch-Displ...</td>\n",
       "      <td>LENOVO IdeaPad Yoga2 Pro 13 Orange</td>\n",
       "      <td>Lenovo</td>\n",
       "      <td>NaN</td>\n",
       "      <td>Orange</td>\n",
       "      <td>107.0</td>\n",
       "    </tr>\n",
       "  </tbody>\n",
       "</table>\n",
       "</div>"
      ]
     },
     "execution_count": 20,
     "metadata": {},
     "output_type": "execute_result"
    }
   ],
   "execution_count": 20
  },
  {
   "metadata": {
    "ExecuteTime": {
     "end_time": "2024-09-20T07:34:04.296849Z",
     "start_time": "2024-09-20T07:34:04.294088Z"
    }
   },
   "cell_type": "code",
   "source": [
    "brands = df[\"Brand\"].unique()\n",
    "colors = df[\"Farbe\"].unique()\n",
    "storage_capacities = df[\"Speicherkapazität\"].unique()\n",
    "\n",
    "print(f\"{brands=}\\n\\n{colors=}\\n\\n{storage_capacities=}\")"
   ],
   "id": "47d38acb9561ba8",
   "outputs": [
    {
     "name": "stdout",
     "output_type": "stream",
     "text": [
      "brands=array(['Asus', 'Lenovo', 'Acer', 'Toshiba', 'Sony', 'Western Digital',\n",
      "       'Trust', 'HP', 'Keysonic', 'Samsung', 'Hama', 'Buffalo', 'WD',\n",
      "       'HUAWEI', 'Alcatel', 'ChiliGreen', 'ednet', 'Verbatim', 'HN Power',\n",
      "       'Dell', 'LogiLink', 'CAT', 'Seagate', 'WIKO', 'Renkforce',\n",
      "       'Transcend', 'Hitachi', 'Nokia', 'CHERRY', 'Hyper', 'Cellularline',\n",
      "       'Perixx', 'YOTA', 'Microsoft', 'honor', 'Tylt', 'Genius',\n",
      "       'Motorola', 'Phicomm', 'Gembird', 'V7 Videoseven', 'Kensington',\n",
      "       'Intenso', 'Belkin', 'Cyrus', 'Vivanco', 'Medion', 'Leitz',\n",
      "       'Huawei', 'Logitech', 'Kyocera', 'Odys', 'MadCatz', 'Rapoo',\n",
      "       'VPRO', 'ZTE', 'VOLTCRAFT', 'Apple', 'Dynabook', 'Skross',\n",
      "       'Manhattan', 'SpeedLink', 'Elgato', 'G-Technology', 'Digittrade',\n",
      "       'SanDisk', 'NZXT', 'Silverstone', 'Digitus', 'Zowie',\n",
      "       'Sound BlasterX', 'Archos', '3Dconnexion', 'Sharkoon', 'spiffy',\n",
      "       'Geemarc', 'MayaMax', 'Matias', 'TrekStor®', 'Crucial', 'Vakoss',\n",
      "       'Corsair', 'Omega', 'Lian Li', 'LaCie', 'Raspberry Pi®',\n",
      "       'Pro Mate', 'Hyundai', 'Crosscall', 'club3D', 'Contour Design'],\n",
      "      dtype=object)\n",
      "\n",
      "colors=array(['Schwarz', 'Orange', 'Silber', 'Pink', 'Gold', 'Weiß', nan, 'Blau',\n",
      "       'Rot', 'Gelb', 'Grün', 'Grau', 'braun', 'Lila', 'grau', 'Türkis',\n",
      "       'Koralle', 'Braun', 'blau', 'rot', 'schwarz', 'Silber/Weiß', 'Red',\n",
      "       'orange', 'weiß', 'Silber-Grau', 'Blue', 'Wildkirsche',\n",
      "       'Anthrazit', 'Schwarz-Neongelb', 'gold', 'Rauchgrau',\n",
      "       'Silber-Schwarz', 'grün', 'Aluminium', 'Graphite', 'Ruby', 'RGB',\n",
      "       'Hellblau', 'Weiß-Rot', 'Violett', 'Dunkelblau'], dtype=object)\n",
      "\n",
      "storage_capacities=array([nan, '1 TB', '2 TB', '3 TB', '4 TB', '750 GB', '512 GB', '4 GB',\n",
      "       '8 GB', '500 GB', '120 GB', '250 GB', '5 TB', '16 GB', '6 TB',\n",
      "       '240 GB', '480 GB', '960 GB', '8 TB', '32 GB', '64 GB', '128 GB',\n",
      "       '256 GB', '10 TB', '12 TB', '16 TB', '20 TB', '24 TB', '7.68 TB',\n",
      "       '3.84 TB', '1.92 TB', '96 TB', '72 TB', '64 TB', '32 TB', '36 TB',\n",
      "       '48 TB', '80 TB', '14 TB', '64'], dtype=object)\n"
     ]
    }
   ],
   "execution_count": 21
  },
  {
   "metadata": {},
   "cell_type": "markdown",
   "source": "## Data Preprocessing",
   "id": "1c62582fec934804"
  },
  {
   "metadata": {
    "ExecuteTime": {
     "end_time": "2024-09-20T07:34:04.321862Z",
     "start_time": "2024-09-20T07:34:04.297528Z"
    }
   },
   "cell_type": "code",
   "source": [
    "train_data = []\n",
    "for index, row in df.iterrows():\n",
    "    description = row['headline']\n",
    "    brand = row['Brand']\n",
    "    storage = row['Speicherkapazität']\n",
    "    color = row['Farbe']\n",
    "\n",
    "    entities = []\n",
    "\n",
    "    # Add brand if present in description\n",
    "    if pd.notna(brand) and brand.lower() in description.lower():\n",
    "        start_idx = description.lower().index(brand.lower())\n",
    "        end_idx = start_idx + len(brand)\n",
    "        entities.append((start_idx, end_idx, \"Brand\"))\n",
    "    \n",
    "    # Add storage if present in description\n",
    "    if pd.notna(storage) and str(storage) in description:\n",
    "        start_idx = description.index(str(storage))\n",
    "        end_idx = start_idx + len(str(storage))\n",
    "        entities.append((start_idx, end_idx, \"Storage\"))\n",
    "    \n",
    "    # Add color if present in description\n",
    "    if pd.notna(color) and color.lower() in description.lower():\n",
    "        start_idx = description.lower().index(color.lower())\n",
    "        end_idx = start_idx + len(color)\n",
    "        entities.append((start_idx, end_idx, \"Color\"))\n",
    "    \n",
    "    if entities:\n",
    "        train_data.append((description, {\"entities\": entities}))"
   ],
   "id": "9c30c1aba504d5aa",
   "outputs": [],
   "execution_count": 22
  },
  {
   "metadata": {
    "ExecuteTime": {
     "end_time": "2024-09-20T07:34:04.436560Z",
     "start_time": "2024-09-20T07:34:04.323226Z"
    }
   },
   "cell_type": "code",
   "source": [
    "# Fix train data\n",
    "import spacy\n",
    "from spacy.training import offsets_to_biluo_tags\n",
    "# Load a blank German model\n",
    "nlp = spacy.blank(\"de\")\n",
    "\n",
    "train_data_fixed = []\n",
    "# fix the train data\n",
    "for text, annotations in train_data:\n",
    "        doc = nlp.make_doc(text)\n",
    "        entities = annotations.get(\"entities\")\n",
    "        try:\n",
    "            tags = offsets_to_biluo_tags(doc, entities)\n",
    "            if '-' not in tags:\n",
    "                train_data_fixed.append((text, annotations))\n",
    "        except ValueError:\n",
    "                # In case there's a problem converting to BILUO tags\n",
    "                print(f\"Skipping misaligned example: {text}\")"
   ],
   "id": "64fa9522d3e471b1",
   "outputs": [
    {
     "name": "stderr",
     "output_type": "stream",
     "text": [
      "/Users/preneond/Library/Caches/pypoetry/virtualenvs/named-entity-recognition-XgAZTi1c-py3.11/lib/python3.11/site-packages/spacy/training/iob_utils.py:149: UserWarning: [W030] Some entities could not be aligned in the text \"Yotaphone 2\" with entities \"[(0, 4, 'Brand')]\". Use `spacy.training.offsets_to_biluo_tags(nlp.make_doc(text), entities)` to check the alignment. Misaligned entities ('-') will be ignored during training.\n",
      "  warnings.warn(\n",
      "/Users/preneond/Library/Caches/pypoetry/virtualenvs/named-entity-recognition-XgAZTi1c-py3.11/lib/python3.11/site-packages/spacy/training/iob_utils.py:149: UserWarning: [W030] Some entities could not be aligned in the text \"Logitech® M535 Bluetooth® Maus\" with entities \"[(0, 8, 'Brand'), (15, 19, 'Color')]\". Use `spacy.training.offsets_to_biluo_tags(nlp.make_doc(text), entities)` to check the alignment. Misaligned entities ('-') will be ignored during training.\n",
      "  warnings.warn(\n",
      "/Users/preneond/Library/Caches/pypoetry/virtualenvs/named-entity-recognition-XgAZTi1c-py3.11/lib/python3.11/site-packages/spacy/training/iob_utils.py:149: UserWarning: [W030] Some entities could not be aligned in the text \"Lenovo 500-15 silber-weiss\" with entities \"[(0, 6, 'Brand'), (14, 20, 'Color')]\". Use `spacy.training.offsets_to_biluo_tags(nlp.make_doc(text), entities)` to check the alignment. Misaligned entities ('-') will be ignored during training.\n",
      "  warnings.warn(\n",
      "/Users/preneond/Library/Caches/pypoetry/virtualenvs/named-entity-recognition-XgAZTi1c-py3.11/lib/python3.11/site-packages/spacy/training/iob_utils.py:149: UserWarning: [W030] Some entities could not be aligned in the text \"Caterpillar Cat® B15 Outdoor-Smartphone\" with entities \"[(0, 3, 'Brand')]\". Use `spacy.training.offsets_to_biluo_tags(nlp.make_doc(text), entities)` to check the alignment. Misaligned entities ('-') will be ignored during training.\n",
      "  warnings.warn(\n",
      "/Users/preneond/Library/Caches/pypoetry/virtualenvs/named-entity-recognition-XgAZTi1c-py3.11/lib/python3.11/site-packages/spacy/training/iob_utils.py:149: UserWarning: [W030] Some entities could not be aligned in the text \"Speedlink KUDOS RS Gaming Mouse, rot-schwarz\" with entities \"[(0, 9, 'Brand'), (33, 36, 'Color')]\". Use `spacy.training.offsets_to_biluo_tags(nlp.make_doc(text), entities)` to check the alignment. Misaligned entities ('-') will be ignored during training.\n",
      "  warnings.warn(\n",
      "/Users/preneond/Library/Caches/pypoetry/virtualenvs/named-entity-recognition-XgAZTi1c-py3.11/lib/python3.11/site-packages/spacy/training/iob_utils.py:149: UserWarning: [W030] Some entities could not be aligned in the text \"Samsung Notebook Serie 3 NP350V5C-S09DE Notebook 3...\" with entities \"[(0, 7, 'Brand'), (72, 78, 'Color')]\". Use `spacy.training.offsets_to_biluo_tags(nlp.make_doc(text), entities)` to check the alignment. Misaligned entities ('-') will be ignored during training.\n",
      "  warnings.warn(\n",
      "/Users/preneond/Library/Caches/pypoetry/virtualenvs/named-entity-recognition-XgAZTi1c-py3.11/lib/python3.11/site-packages/spacy/training/iob_utils.py:149: UserWarning: [W030] Some entities could not be aligned in the text \"CHERRY Wheelmouse Optical Hellgrau\" with entities \"[(0, 6, 'Brand'), (30, 34, 'Color')]\". Use `spacy.training.offsets_to_biluo_tags(nlp.make_doc(text), entities)` to check the alignment. Misaligned entities ('-') will be ignored during training.\n",
      "  warnings.warn(\n"
     ]
    }
   ],
   "execution_count": 23
  },
  {
   "metadata": {
    "ExecuteTime": {
     "end_time": "2024-09-20T07:34:04.439056Z",
     "start_time": "2024-09-20T07:34:04.437261Z"
    }
   },
   "cell_type": "code",
   "source": "print(f\"{len(train_data)=} vs {len(train_data_fixed)=}\")",
   "id": "7a08ffcdd8bbba65",
   "outputs": [
    {
     "name": "stdout",
     "output_type": "stream",
     "text": [
      "len(train_data)=1040 vs len(train_data_fixed)=1033\n"
     ]
    }
   ],
   "execution_count": 24
  },
  {
   "metadata": {},
   "cell_type": "markdown",
   "source": "## Training NER Model",
   "id": "86ca6ad3ce235278"
  },
  {
   "metadata": {
    "ExecuteTime": {
     "end_time": "2024-09-20T07:40:43.517386Z",
     "start_time": "2024-09-20T07:34:04.439763Z"
    }
   },
   "cell_type": "code",
   "source": [
    "from tqdm import tqdm\n",
    "from spacy.training import Example\n",
    "import random\n",
    "\n",
    "# Add NER pipeline to the model\n",
    "if \"ner\" not in nlp.pipe_names:\n",
    "    ner = nlp.add_pipe(\"ner\")\n",
    "else:\n",
    "    ner = nlp.get_pipe(\"ner\")\n",
    "\n",
    "# Add the entity labels to the NER pipeline\n",
    "ner.add_label(\"Brand\")\n",
    "ner.add_label(\"Storage\")\n",
    "ner.add_label(\"Color\")\n",
    "\n",
    "# Begin training the NER model\n",
    "optimizer = nlp.begin_training()\n",
    "\n",
    "# Number of training iterations\n",
    "n_iter = 50\n",
    "\n",
    "# Disable other pipelines during training (since we're only interested in 'ner')\n",
    "other_pipes = [pipe for pipe in nlp.pipe_names if pipe != \"ner\"]\n",
    "with nlp.disable_pipes(*other_pipes):  # Only train NER \n",
    "    for iteration in range(n_iter):\n",
    "        random.shuffle(train_data_fixed)  # Shuffle the training data\n",
    "        losses = {}\n",
    "        \n",
    "        for i in tqdm(range(len(train_data_fixed))):\n",
    "            text, annotations = train_data_fixed[i]\n",
    "            # Create Example object for the training data\n",
    "            example = Example.from_dict(nlp.make_doc(text), annotations)\n",
    "            \n",
    "            # Update the model\n",
    "            nlp.update([example], drop=0.5, losses=losses)\n",
    "        \n",
    "        print(f\"Iteration {iteration} Losses: {losses}\")\n",
    "\n",
    "# Save the model to disk\n",
    "nlp.to_disk(\"../static/ner_model_de\")\n",
    "print(\"Model saved to 'ner_model' directory.\")"
   ],
   "id": "74943bbfc7ccee4a",
   "outputs": [
    {
     "name": "stderr",
     "output_type": "stream",
     "text": [
      "100%|██████████| 1033/1033 [00:08<00:00, 127.85it/s]\n"
     ]
    },
    {
     "name": "stdout",
     "output_type": "stream",
     "text": [
      "Iteration 0 Losses: {'ner': 1162.9021903381863}\n"
     ]
    },
    {
     "name": "stderr",
     "output_type": "stream",
     "text": [
      "100%|██████████| 1033/1033 [00:08<00:00, 124.66it/s]\n"
     ]
    },
    {
     "name": "stdout",
     "output_type": "stream",
     "text": [
      "Iteration 1 Losses: {'ner': 377.1723317868117}\n"
     ]
    },
    {
     "name": "stderr",
     "output_type": "stream",
     "text": [
      "100%|██████████| 1033/1033 [00:08<00:00, 128.15it/s]\n"
     ]
    },
    {
     "name": "stdout",
     "output_type": "stream",
     "text": [
      "Iteration 2 Losses: {'ner': 293.80038836815925}\n"
     ]
    },
    {
     "name": "stderr",
     "output_type": "stream",
     "text": [
      "100%|██████████| 1033/1033 [00:07<00:00, 132.06it/s]\n"
     ]
    },
    {
     "name": "stdout",
     "output_type": "stream",
     "text": [
      "Iteration 3 Losses: {'ner': 296.0085992050099}\n"
     ]
    },
    {
     "name": "stderr",
     "output_type": "stream",
     "text": [
      "100%|██████████| 1033/1033 [00:07<00:00, 130.47it/s]\n"
     ]
    },
    {
     "name": "stdout",
     "output_type": "stream",
     "text": [
      "Iteration 4 Losses: {'ner': 232.87175816868967}\n"
     ]
    },
    {
     "name": "stderr",
     "output_type": "stream",
     "text": [
      "100%|██████████| 1033/1033 [00:08<00:00, 120.06it/s]\n"
     ]
    },
    {
     "name": "stdout",
     "output_type": "stream",
     "text": [
      "Iteration 5 Losses: {'ner': 223.42491959881906}\n"
     ]
    },
    {
     "name": "stderr",
     "output_type": "stream",
     "text": [
      "100%|██████████| 1033/1033 [00:08<00:00, 123.02it/s]\n"
     ]
    },
    {
     "name": "stdout",
     "output_type": "stream",
     "text": [
      "Iteration 6 Losses: {'ner': 194.46223775674798}\n"
     ]
    },
    {
     "name": "stderr",
     "output_type": "stream",
     "text": [
      "100%|██████████| 1033/1033 [00:08<00:00, 124.66it/s]\n"
     ]
    },
    {
     "name": "stdout",
     "output_type": "stream",
     "text": [
      "Iteration 7 Losses: {'ner': 191.54906184884808}\n"
     ]
    },
    {
     "name": "stderr",
     "output_type": "stream",
     "text": [
      "100%|██████████| 1033/1033 [00:08<00:00, 125.25it/s]\n"
     ]
    },
    {
     "name": "stdout",
     "output_type": "stream",
     "text": [
      "Iteration 8 Losses: {'ner': 170.1277180547212}\n"
     ]
    },
    {
     "name": "stderr",
     "output_type": "stream",
     "text": [
      "100%|██████████| 1033/1033 [00:08<00:00, 126.29it/s]\n"
     ]
    },
    {
     "name": "stdout",
     "output_type": "stream",
     "text": [
      "Iteration 9 Losses: {'ner': 182.78867216407417}\n"
     ]
    },
    {
     "name": "stderr",
     "output_type": "stream",
     "text": [
      "100%|██████████| 1033/1033 [00:08<00:00, 123.86it/s]\n"
     ]
    },
    {
     "name": "stdout",
     "output_type": "stream",
     "text": [
      "Iteration 10 Losses: {'ner': 178.99952027530446}\n"
     ]
    },
    {
     "name": "stderr",
     "output_type": "stream",
     "text": [
      "100%|██████████| 1033/1033 [00:08<00:00, 128.81it/s]\n"
     ]
    },
    {
     "name": "stdout",
     "output_type": "stream",
     "text": [
      "Iteration 11 Losses: {'ner': 157.0662484870105}\n"
     ]
    },
    {
     "name": "stderr",
     "output_type": "stream",
     "text": [
      "100%|██████████| 1033/1033 [00:07<00:00, 136.77it/s]\n"
     ]
    },
    {
     "name": "stdout",
     "output_type": "stream",
     "text": [
      "Iteration 12 Losses: {'ner': 145.57566702855289}\n"
     ]
    },
    {
     "name": "stderr",
     "output_type": "stream",
     "text": [
      "100%|██████████| 1033/1033 [00:08<00:00, 127.93it/s]\n"
     ]
    },
    {
     "name": "stdout",
     "output_type": "stream",
     "text": [
      "Iteration 13 Losses: {'ner': 144.55380357961008}\n"
     ]
    },
    {
     "name": "stderr",
     "output_type": "stream",
     "text": [
      "100%|██████████| 1033/1033 [00:07<00:00, 132.00it/s]\n"
     ]
    },
    {
     "name": "stdout",
     "output_type": "stream",
     "text": [
      "Iteration 14 Losses: {'ner': 131.7189581084797}\n"
     ]
    },
    {
     "name": "stderr",
     "output_type": "stream",
     "text": [
      "100%|██████████| 1033/1033 [00:07<00:00, 130.99it/s]\n"
     ]
    },
    {
     "name": "stdout",
     "output_type": "stream",
     "text": [
      "Iteration 15 Losses: {'ner': 121.60302189086636}\n"
     ]
    },
    {
     "name": "stderr",
     "output_type": "stream",
     "text": [
      "100%|██████████| 1033/1033 [00:07<00:00, 130.38it/s]\n"
     ]
    },
    {
     "name": "stdout",
     "output_type": "stream",
     "text": [
      "Iteration 16 Losses: {'ner': 127.38753616576928}\n"
     ]
    },
    {
     "name": "stderr",
     "output_type": "stream",
     "text": [
      "100%|██████████| 1033/1033 [00:07<00:00, 132.25it/s]\n"
     ]
    },
    {
     "name": "stdout",
     "output_type": "stream",
     "text": [
      "Iteration 17 Losses: {'ner': 124.9341099726002}\n"
     ]
    },
    {
     "name": "stderr",
     "output_type": "stream",
     "text": [
      "100%|██████████| 1033/1033 [00:07<00:00, 131.17it/s]\n"
     ]
    },
    {
     "name": "stdout",
     "output_type": "stream",
     "text": [
      "Iteration 18 Losses: {'ner': 126.73430026731175}\n"
     ]
    },
    {
     "name": "stderr",
     "output_type": "stream",
     "text": [
      "100%|██████████| 1033/1033 [00:08<00:00, 127.02it/s]\n"
     ]
    },
    {
     "name": "stdout",
     "output_type": "stream",
     "text": [
      "Iteration 19 Losses: {'ner': 111.95198772755343}\n"
     ]
    },
    {
     "name": "stderr",
     "output_type": "stream",
     "text": [
      "100%|██████████| 1033/1033 [00:07<00:00, 130.90it/s]\n"
     ]
    },
    {
     "name": "stdout",
     "output_type": "stream",
     "text": [
      "Iteration 20 Losses: {'ner': 120.77245667297544}\n"
     ]
    },
    {
     "name": "stderr",
     "output_type": "stream",
     "text": [
      "100%|██████████| 1033/1033 [00:07<00:00, 131.60it/s]\n"
     ]
    },
    {
     "name": "stdout",
     "output_type": "stream",
     "text": [
      "Iteration 21 Losses: {'ner': 139.04903027645256}\n"
     ]
    },
    {
     "name": "stderr",
     "output_type": "stream",
     "text": [
      "100%|██████████| 1033/1033 [00:08<00:00, 127.13it/s]\n"
     ]
    },
    {
     "name": "stdout",
     "output_type": "stream",
     "text": [
      "Iteration 22 Losses: {'ner': 109.75193261011756}\n"
     ]
    },
    {
     "name": "stderr",
     "output_type": "stream",
     "text": [
      "100%|██████████| 1033/1033 [00:08<00:00, 126.79it/s]\n"
     ]
    },
    {
     "name": "stdout",
     "output_type": "stream",
     "text": [
      "Iteration 23 Losses: {'ner': 91.8666801180556}\n"
     ]
    },
    {
     "name": "stderr",
     "output_type": "stream",
     "text": [
      "100%|██████████| 1033/1033 [00:07<00:00, 132.63it/s]\n"
     ]
    },
    {
     "name": "stdout",
     "output_type": "stream",
     "text": [
      "Iteration 24 Losses: {'ner': 108.84628440661086}\n"
     ]
    },
    {
     "name": "stderr",
     "output_type": "stream",
     "text": [
      "100%|██████████| 1033/1033 [00:08<00:00, 125.25it/s]\n"
     ]
    },
    {
     "name": "stdout",
     "output_type": "stream",
     "text": [
      "Iteration 25 Losses: {'ner': 117.03594428985804}\n"
     ]
    },
    {
     "name": "stderr",
     "output_type": "stream",
     "text": [
      "100%|██████████| 1033/1033 [00:08<00:00, 126.34it/s]\n"
     ]
    },
    {
     "name": "stdout",
     "output_type": "stream",
     "text": [
      "Iteration 26 Losses: {'ner': 115.77084821160805}\n"
     ]
    },
    {
     "name": "stderr",
     "output_type": "stream",
     "text": [
      "100%|██████████| 1033/1033 [00:08<00:00, 128.97it/s]\n"
     ]
    },
    {
     "name": "stdout",
     "output_type": "stream",
     "text": [
      "Iteration 27 Losses: {'ner': 121.88353983553691}\n"
     ]
    },
    {
     "name": "stderr",
     "output_type": "stream",
     "text": [
      "100%|██████████| 1033/1033 [00:08<00:00, 127.88it/s]\n"
     ]
    },
    {
     "name": "stdout",
     "output_type": "stream",
     "text": [
      "Iteration 28 Losses: {'ner': 95.99879889564428}\n"
     ]
    },
    {
     "name": "stderr",
     "output_type": "stream",
     "text": [
      "100%|██████████| 1033/1033 [00:07<00:00, 132.42it/s]\n"
     ]
    },
    {
     "name": "stdout",
     "output_type": "stream",
     "text": [
      "Iteration 29 Losses: {'ner': 112.06100641130496}\n"
     ]
    },
    {
     "name": "stderr",
     "output_type": "stream",
     "text": [
      "100%|██████████| 1033/1033 [00:07<00:00, 132.77it/s]\n"
     ]
    },
    {
     "name": "stdout",
     "output_type": "stream",
     "text": [
      "Iteration 30 Losses: {'ner': 115.43982404046248}\n"
     ]
    },
    {
     "name": "stderr",
     "output_type": "stream",
     "text": [
      "100%|██████████| 1033/1033 [00:07<00:00, 131.33it/s]\n"
     ]
    },
    {
     "name": "stdout",
     "output_type": "stream",
     "text": [
      "Iteration 31 Losses: {'ner': 105.45877088097389}\n"
     ]
    },
    {
     "name": "stderr",
     "output_type": "stream",
     "text": [
      "100%|██████████| 1033/1033 [00:07<00:00, 132.47it/s]\n"
     ]
    },
    {
     "name": "stdout",
     "output_type": "stream",
     "text": [
      "Iteration 32 Losses: {'ner': 87.31563857475116}\n"
     ]
    },
    {
     "name": "stderr",
     "output_type": "stream",
     "text": [
      "100%|██████████| 1033/1033 [00:07<00:00, 132.25it/s]\n"
     ]
    },
    {
     "name": "stdout",
     "output_type": "stream",
     "text": [
      "Iteration 33 Losses: {'ner': 99.42988831248817}\n"
     ]
    },
    {
     "name": "stderr",
     "output_type": "stream",
     "text": [
      "100%|██████████| 1033/1033 [00:07<00:00, 132.03it/s]\n"
     ]
    },
    {
     "name": "stdout",
     "output_type": "stream",
     "text": [
      "Iteration 34 Losses: {'ner': 83.13658245451204}\n"
     ]
    },
    {
     "name": "stderr",
     "output_type": "stream",
     "text": [
      "100%|██████████| 1033/1033 [00:07<00:00, 133.63it/s]\n"
     ]
    },
    {
     "name": "stdout",
     "output_type": "stream",
     "text": [
      "Iteration 35 Losses: {'ner': 102.38570708054502}\n"
     ]
    },
    {
     "name": "stderr",
     "output_type": "stream",
     "text": [
      "100%|██████████| 1033/1033 [00:07<00:00, 133.12it/s]\n"
     ]
    },
    {
     "name": "stdout",
     "output_type": "stream",
     "text": [
      "Iteration 36 Losses: {'ner': 102.58351809089518}\n"
     ]
    },
    {
     "name": "stderr",
     "output_type": "stream",
     "text": [
      "100%|██████████| 1033/1033 [00:07<00:00, 129.15it/s]\n"
     ]
    },
    {
     "name": "stdout",
     "output_type": "stream",
     "text": [
      "Iteration 37 Losses: {'ner': 99.80541880379779}\n"
     ]
    },
    {
     "name": "stderr",
     "output_type": "stream",
     "text": [
      "100%|██████████| 1033/1033 [00:07<00:00, 132.97it/s]\n"
     ]
    },
    {
     "name": "stdout",
     "output_type": "stream",
     "text": [
      "Iteration 38 Losses: {'ner': 98.91581783923941}\n"
     ]
    },
    {
     "name": "stderr",
     "output_type": "stream",
     "text": [
      "100%|██████████| 1033/1033 [00:07<00:00, 131.60it/s]\n"
     ]
    },
    {
     "name": "stdout",
     "output_type": "stream",
     "text": [
      "Iteration 39 Losses: {'ner': 111.57541884342423}\n"
     ]
    },
    {
     "name": "stderr",
     "output_type": "stream",
     "text": [
      "100%|██████████| 1033/1033 [00:07<00:00, 132.06it/s]\n"
     ]
    },
    {
     "name": "stdout",
     "output_type": "stream",
     "text": [
      "Iteration 40 Losses: {'ner': 97.95309084022846}\n"
     ]
    },
    {
     "name": "stderr",
     "output_type": "stream",
     "text": [
      "100%|██████████| 1033/1033 [00:07<00:00, 132.18it/s]\n"
     ]
    },
    {
     "name": "stdout",
     "output_type": "stream",
     "text": [
      "Iteration 41 Losses: {'ner': 104.72507695995043}\n"
     ]
    },
    {
     "name": "stderr",
     "output_type": "stream",
     "text": [
      "100%|██████████| 1033/1033 [00:07<00:00, 130.02it/s]\n"
     ]
    },
    {
     "name": "stdout",
     "output_type": "stream",
     "text": [
      "Iteration 42 Losses: {'ner': 81.99419863148172}\n"
     ]
    },
    {
     "name": "stderr",
     "output_type": "stream",
     "text": [
      "100%|██████████| 1033/1033 [00:08<00:00, 127.34it/s]\n"
     ]
    },
    {
     "name": "stdout",
     "output_type": "stream",
     "text": [
      "Iteration 43 Losses: {'ner': 109.46561598473745}\n"
     ]
    },
    {
     "name": "stderr",
     "output_type": "stream",
     "text": [
      "100%|██████████| 1033/1033 [00:07<00:00, 129.83it/s]\n"
     ]
    },
    {
     "name": "stdout",
     "output_type": "stream",
     "text": [
      "Iteration 44 Losses: {'ner': 100.3047771657897}\n"
     ]
    },
    {
     "name": "stderr",
     "output_type": "stream",
     "text": [
      "100%|██████████| 1033/1033 [00:07<00:00, 132.29it/s]\n"
     ]
    },
    {
     "name": "stdout",
     "output_type": "stream",
     "text": [
      "Iteration 45 Losses: {'ner': 89.04598367937074}\n"
     ]
    },
    {
     "name": "stderr",
     "output_type": "stream",
     "text": [
      "100%|██████████| 1033/1033 [00:07<00:00, 129.77it/s]\n"
     ]
    },
    {
     "name": "stdout",
     "output_type": "stream",
     "text": [
      "Iteration 46 Losses: {'ner': 111.96376353151153}\n"
     ]
    },
    {
     "name": "stderr",
     "output_type": "stream",
     "text": [
      "100%|██████████| 1033/1033 [00:07<00:00, 129.21it/s]\n"
     ]
    },
    {
     "name": "stdout",
     "output_type": "stream",
     "text": [
      "Iteration 47 Losses: {'ner': 97.25893570602258}\n"
     ]
    },
    {
     "name": "stderr",
     "output_type": "stream",
     "text": [
      "100%|██████████| 1033/1033 [00:07<00:00, 129.75it/s]\n"
     ]
    },
    {
     "name": "stdout",
     "output_type": "stream",
     "text": [
      "Iteration 48 Losses: {'ner': 96.42046975810675}\n"
     ]
    },
    {
     "name": "stderr",
     "output_type": "stream",
     "text": [
      "100%|██████████| 1033/1033 [00:07<00:00, 130.67it/s]"
     ]
    },
    {
     "name": "stdout",
     "output_type": "stream",
     "text": [
      "Iteration 49 Losses: {'ner': 76.65822138255335}\n",
      "Model saved to 'ner_model' directory.\n"
     ]
    },
    {
     "name": "stderr",
     "output_type": "stream",
     "text": [
      "\n"
     ]
    }
   ],
   "execution_count": 25
  },
  {
   "metadata": {
    "ExecuteTime": {
     "end_time": "2024-09-20T07:40:43.520459Z",
     "start_time": "2024-09-20T07:40:43.518703Z"
    }
   },
   "cell_type": "code",
   "source": "",
   "id": "ca51f779022e3fae",
   "outputs": [],
   "execution_count": 25
  }
 ],
 "metadata": {
  "kernelspec": {
   "display_name": "Python 3",
   "language": "python",
   "name": "python3"
  },
  "language_info": {
   "codemirror_mode": {
    "name": "ipython",
    "version": 2
   },
   "file_extension": ".py",
   "mimetype": "text/x-python",
   "name": "python",
   "nbconvert_exporter": "python",
   "pygments_lexer": "ipython2",
   "version": "2.7.6"
  }
 },
 "nbformat": 4,
 "nbformat_minor": 5
}
